{
 "cells": [
  {
   "cell_type": "code",
   "execution_count": 1,
   "id": "initial_id",
   "metadata": {
    "collapsed": true,
    "ExecuteTime": {
     "end_time": "2024-02-16T12:00:49.476650Z",
     "start_time": "2024-02-16T12:00:48.336756100Z"
    }
   },
   "outputs": [],
   "source": [
    "import pandas as pd\n",
    "import numpy as np\n",
    "import matplotlib.pyplot as plt\n",
    "import PreprocessingUtils as utils\n",
    "from GeneralUtils import get_historical_weather"
   ]
  },
  {
   "cell_type": "code",
   "outputs": [],
   "source": [
    "data = pd.read_parquet('../data/raw_data_delays.parquet')\n",
    "gps = pd.read_csv('../data/station_gps.csv')"
   ],
   "metadata": {
    "collapsed": false,
    "ExecuteTime": {
     "end_time": "2024-02-16T12:00:50.076016200Z",
     "start_time": "2024-02-16T12:00:49.481027400Z"
    }
   },
   "id": "f0ad4bba56ffe2f1",
   "execution_count": 2
  },
  {
   "cell_type": "code",
   "outputs": [],
   "source": [
    "data = utils.prepare_raw_data(data)\n",
    "data = pd.merge(data, gps, on='Stacja', how='left')"
   ],
   "metadata": {
    "collapsed": false,
    "ExecuteTime": {
     "end_time": "2024-02-16T12:00:58.727395200Z",
     "start_time": "2024-02-16T12:00:50.074019800Z"
    }
   },
   "id": "4cc9518684013f94",
   "execution_count": 3
  },
  {
   "cell_type": "markdown",
   "source": [
    "### station count\n",
    "<ul>\n",
    "    <li>full route station count</li>\n",
    "    <li>station count on current station</li>\n",
    "</ul>"
   ],
   "metadata": {
    "collapsed": false
   },
   "id": "bb9b6ae81f1910cd"
  },
  {
   "cell_type": "code",
   "outputs": [],
   "source": [
    "data['station_count_on_curr_station'] = data.groupby(['pk', 'Relacja']).cumcount()\n",
    "data['full_route_station_count'] = data.groupby(['pk', 'Relacja'])['Relacja'].transform('count')"
   ],
   "metadata": {
    "collapsed": false,
    "ExecuteTime": {
     "end_time": "2024-02-16T12:00:59.061753800Z",
     "start_time": "2024-02-16T12:00:58.730572200Z"
    }
   },
   "id": "f386924d62a5d1bd",
   "execution_count": 4
  },
  {
   "cell_type": "markdown",
   "source": [
    "### distances\n",
    "<ul>\n",
    "    <li>full route distance</li>\n",
    "    <li>distance distance until current station</li>\n",
    "    <li>distance from start station</li>\n",
    "    <li>distance to final station</li>\n",
    "    <li>distance distance from the nearest big city station</li>\n",
    "</ul>"
   ],
   "metadata": {
    "collapsed": false
   },
   "id": "8a3e1b666de66e86"
  },
  {
   "cell_type": "code",
   "outputs": [],
   "source": [
    "data = utils.count_distances(data, gps)"
   ],
   "metadata": {
    "collapsed": false,
    "is_executing": true,
    "ExecuteTime": {
     "start_time": "2024-02-16T12:00:59.064440800Z"
    }
   },
   "id": "c81647b8cf9379ec",
   "execution_count": null
  },
  {
   "cell_type": "markdown",
   "source": [
    "### date features and holidays"
   ],
   "metadata": {
    "collapsed": false
   },
   "id": "e16c7d5d819c235d"
  },
  {
   "cell_type": "code",
   "outputs": [],
   "source": [
    "cols = ['arrival_on_time','departure_on_time']\n",
    "for col in cols:\n",
    "    data = utils.fix_dates(data, col)\n",
    "    \n",
    "data = utils.apply_date_features(data)"
   ],
   "metadata": {
    "collapsed": false,
    "is_executing": true
   },
   "id": "6459d382875b3f73",
   "execution_count": null
  },
  {
   "cell_type": "code",
   "outputs": [
    {
     "data": {
      "text/plain": "          pk                     Relacja                Stacja  \\\n0        1.0  Przeworsk - Rzeszów Główny             Przeworsk   \n1        1.0  Przeworsk - Rzeszów Główny               Grzęska   \n2        1.0  Przeworsk - Rzeszów Główny  Rogóżno koło Łańcuta   \n3        1.0  Przeworsk - Rzeszów Główny                Kosina   \n4        1.0  Przeworsk - Rzeszów Główny               Głuchów   \n...      ...                         ...                   ...   \n1138205  NaN                         NaN                   NaN   \n1138206  NaN                         NaN                   NaN   \n1138207  NaN                         NaN                   NaN   \n1138208  NaN                         NaN                   NaN   \n1138209  NaN                         NaN                   NaN   \n\n         Opóźnienie przyjazdu  Opóźnienie odjazdu     arrival_on_time  \\\n0                         0.0                 0.0 2022-12-01 06:55:00   \n1                         0.0                 0.0 2022-12-01 06:58:30   \n2                         0.0                 0.0 2022-12-01 07:03:00   \n3                         0.0                 0.0 2022-12-01 07:06:30   \n4                         0.0                 0.0 2022-12-01 07:09:30   \n...                       ...                 ...                 ...   \n1138205                   NaN                 NaN                 NaT   \n1138206                   NaN                 NaN                 NaT   \n1138207                   NaN                 NaN                 NaT   \n1138208                   NaN                 NaN                 NaT   \n1138209                   NaN                 NaN                 NaT   \n\n          departure_on_time        lat        lon  \\\n0       2022-12-01 06:55:00  50.067161  22.503232   \n1       2022-12-01 06:59:00  50.080037  22.452564   \n2       2022-12-01 07:03:30  50.083573  22.362513   \n3       2022-12-01 07:07:00  50.083570  22.322846   \n4       2022-12-01 07:10:00  50.083469  22.279077   \n...                     ...        ...        ...   \n1138205                 NaT        NaN        NaN   \n1138206                 NaT        NaN        NaN   \n1138207                 NaT        NaN        NaN   \n1138208                 NaT        NaN        NaN   \n1138209                 NaT        NaN        NaN   \n\n         station_count_on_curr_station  ...  weekday_Sunday  weekday_Thursday  \\\n0                                  0.0  ...             NaN               NaN   \n1                                  1.0  ...             NaN               NaN   \n2                                  2.0  ...             NaN               NaN   \n3                                  3.0  ...             NaN               NaN   \n4                                  4.0  ...             NaN               NaN   \n...                                ...  ...             ...               ...   \n1138205                            NaN  ...             1.0               0.0   \n1138206                            NaN  ...             1.0               0.0   \n1138207                            NaN  ...             1.0               0.0   \n1138208                            NaN  ...             1.0               0.0   \n1138209                            NaN  ...             1.0               0.0   \n\n        weekday_Tuesday  weekday_Wednesday  hour_angle_sin  weekday_angle_sin  \\\n0                   NaN                NaN        1.000000           0.433884   \n1                   NaN                NaN        1.000000           0.433884   \n2                   NaN                NaN        0.965926           0.433884   \n3                   NaN                NaN        0.965926           0.433884   \n4                   NaN                NaN        0.965926           0.433884   \n...                 ...                ...             ...                ...   \n1138205             0.0                0.0             NaN                NaN   \n1138206             0.0                0.0             NaN                NaN   \n1138207             0.0                0.0             NaN                NaN   \n1138208             0.0                0.0             NaN                NaN   \n1138209             0.0                0.0             NaN                NaN   \n\n         monthday_angle_sin  yearday_angle_sin  weekyear_angle_sin  \\\n0                  0.207912          -0.493776           -0.464723   \n1                  0.207912          -0.493776           -0.464723   \n2                  0.207912          -0.493776           -0.464723   \n3                  0.207912          -0.493776           -0.464723   \n4                  0.207912          -0.493776           -0.464723   \n...                     ...                ...                 ...   \n1138205                 NaN                NaN                <NA>   \n1138206                 NaN                NaN                <NA>   \n1138207                 NaN                NaN                <NA>   \n1138208                 NaN                NaN                <NA>   \n1138209                 NaN                NaN                <NA>   \n\n         month_angle_sin  \n0          -2.449294e-16  \n1          -2.449294e-16  \n2          -2.449294e-16  \n3          -2.449294e-16  \n4          -2.449294e-16  \n...                  ...  \n1138205              NaN  \n1138206              NaN  \n1138207              NaN  \n1138208              NaN  \n1138209              NaN  \n\n[2276420 rows x 31 columns]",
      "text/html": "<div>\n<style scoped>\n    .dataframe tbody tr th:only-of-type {\n        vertical-align: middle;\n    }\n\n    .dataframe tbody tr th {\n        vertical-align: top;\n    }\n\n    .dataframe thead th {\n        text-align: right;\n    }\n</style>\n<table border=\"1\" class=\"dataframe\">\n  <thead>\n    <tr style=\"text-align: right;\">\n      <th></th>\n      <th>pk</th>\n      <th>Relacja</th>\n      <th>Stacja</th>\n      <th>Opóźnienie przyjazdu</th>\n      <th>Opóźnienie odjazdu</th>\n      <th>arrival_on_time</th>\n      <th>departure_on_time</th>\n      <th>lat</th>\n      <th>lon</th>\n      <th>station_count_on_curr_station</th>\n      <th>...</th>\n      <th>weekday_Sunday</th>\n      <th>weekday_Thursday</th>\n      <th>weekday_Tuesday</th>\n      <th>weekday_Wednesday</th>\n      <th>hour_angle_sin</th>\n      <th>weekday_angle_sin</th>\n      <th>monthday_angle_sin</th>\n      <th>yearday_angle_sin</th>\n      <th>weekyear_angle_sin</th>\n      <th>month_angle_sin</th>\n    </tr>\n  </thead>\n  <tbody>\n    <tr>\n      <th>0</th>\n      <td>1.0</td>\n      <td>Przeworsk - Rzeszów Główny</td>\n      <td>Przeworsk</td>\n      <td>0.0</td>\n      <td>0.0</td>\n      <td>2022-12-01 06:55:00</td>\n      <td>2022-12-01 06:55:00</td>\n      <td>50.067161</td>\n      <td>22.503232</td>\n      <td>0.0</td>\n      <td>...</td>\n      <td>NaN</td>\n      <td>NaN</td>\n      <td>NaN</td>\n      <td>NaN</td>\n      <td>1.000000</td>\n      <td>0.433884</td>\n      <td>0.207912</td>\n      <td>-0.493776</td>\n      <td>-0.464723</td>\n      <td>-2.449294e-16</td>\n    </tr>\n    <tr>\n      <th>1</th>\n      <td>1.0</td>\n      <td>Przeworsk - Rzeszów Główny</td>\n      <td>Grzęska</td>\n      <td>0.0</td>\n      <td>0.0</td>\n      <td>2022-12-01 06:58:30</td>\n      <td>2022-12-01 06:59:00</td>\n      <td>50.080037</td>\n      <td>22.452564</td>\n      <td>1.0</td>\n      <td>...</td>\n      <td>NaN</td>\n      <td>NaN</td>\n      <td>NaN</td>\n      <td>NaN</td>\n      <td>1.000000</td>\n      <td>0.433884</td>\n      <td>0.207912</td>\n      <td>-0.493776</td>\n      <td>-0.464723</td>\n      <td>-2.449294e-16</td>\n    </tr>\n    <tr>\n      <th>2</th>\n      <td>1.0</td>\n      <td>Przeworsk - Rzeszów Główny</td>\n      <td>Rogóżno koło Łańcuta</td>\n      <td>0.0</td>\n      <td>0.0</td>\n      <td>2022-12-01 07:03:00</td>\n      <td>2022-12-01 07:03:30</td>\n      <td>50.083573</td>\n      <td>22.362513</td>\n      <td>2.0</td>\n      <td>...</td>\n      <td>NaN</td>\n      <td>NaN</td>\n      <td>NaN</td>\n      <td>NaN</td>\n      <td>0.965926</td>\n      <td>0.433884</td>\n      <td>0.207912</td>\n      <td>-0.493776</td>\n      <td>-0.464723</td>\n      <td>-2.449294e-16</td>\n    </tr>\n    <tr>\n      <th>3</th>\n      <td>1.0</td>\n      <td>Przeworsk - Rzeszów Główny</td>\n      <td>Kosina</td>\n      <td>0.0</td>\n      <td>0.0</td>\n      <td>2022-12-01 07:06:30</td>\n      <td>2022-12-01 07:07:00</td>\n      <td>50.083570</td>\n      <td>22.322846</td>\n      <td>3.0</td>\n      <td>...</td>\n      <td>NaN</td>\n      <td>NaN</td>\n      <td>NaN</td>\n      <td>NaN</td>\n      <td>0.965926</td>\n      <td>0.433884</td>\n      <td>0.207912</td>\n      <td>-0.493776</td>\n      <td>-0.464723</td>\n      <td>-2.449294e-16</td>\n    </tr>\n    <tr>\n      <th>4</th>\n      <td>1.0</td>\n      <td>Przeworsk - Rzeszów Główny</td>\n      <td>Głuchów</td>\n      <td>0.0</td>\n      <td>0.0</td>\n      <td>2022-12-01 07:09:30</td>\n      <td>2022-12-01 07:10:00</td>\n      <td>50.083469</td>\n      <td>22.279077</td>\n      <td>4.0</td>\n      <td>...</td>\n      <td>NaN</td>\n      <td>NaN</td>\n      <td>NaN</td>\n      <td>NaN</td>\n      <td>0.965926</td>\n      <td>0.433884</td>\n      <td>0.207912</td>\n      <td>-0.493776</td>\n      <td>-0.464723</td>\n      <td>-2.449294e-16</td>\n    </tr>\n    <tr>\n      <th>...</th>\n      <td>...</td>\n      <td>...</td>\n      <td>...</td>\n      <td>...</td>\n      <td>...</td>\n      <td>...</td>\n      <td>...</td>\n      <td>...</td>\n      <td>...</td>\n      <td>...</td>\n      <td>...</td>\n      <td>...</td>\n      <td>...</td>\n      <td>...</td>\n      <td>...</td>\n      <td>...</td>\n      <td>...</td>\n      <td>...</td>\n      <td>...</td>\n      <td>...</td>\n      <td>...</td>\n    </tr>\n    <tr>\n      <th>1138205</th>\n      <td>NaN</td>\n      <td>NaN</td>\n      <td>NaN</td>\n      <td>NaN</td>\n      <td>NaN</td>\n      <td>NaT</td>\n      <td>NaT</td>\n      <td>NaN</td>\n      <td>NaN</td>\n      <td>NaN</td>\n      <td>...</td>\n      <td>1.0</td>\n      <td>0.0</td>\n      <td>0.0</td>\n      <td>0.0</td>\n      <td>NaN</td>\n      <td>NaN</td>\n      <td>NaN</td>\n      <td>NaN</td>\n      <td>&lt;NA&gt;</td>\n      <td>NaN</td>\n    </tr>\n    <tr>\n      <th>1138206</th>\n      <td>NaN</td>\n      <td>NaN</td>\n      <td>NaN</td>\n      <td>NaN</td>\n      <td>NaN</td>\n      <td>NaT</td>\n      <td>NaT</td>\n      <td>NaN</td>\n      <td>NaN</td>\n      <td>NaN</td>\n      <td>...</td>\n      <td>1.0</td>\n      <td>0.0</td>\n      <td>0.0</td>\n      <td>0.0</td>\n      <td>NaN</td>\n      <td>NaN</td>\n      <td>NaN</td>\n      <td>NaN</td>\n      <td>&lt;NA&gt;</td>\n      <td>NaN</td>\n    </tr>\n    <tr>\n      <th>1138207</th>\n      <td>NaN</td>\n      <td>NaN</td>\n      <td>NaN</td>\n      <td>NaN</td>\n      <td>NaN</td>\n      <td>NaT</td>\n      <td>NaT</td>\n      <td>NaN</td>\n      <td>NaN</td>\n      <td>NaN</td>\n      <td>...</td>\n      <td>1.0</td>\n      <td>0.0</td>\n      <td>0.0</td>\n      <td>0.0</td>\n      <td>NaN</td>\n      <td>NaN</td>\n      <td>NaN</td>\n      <td>NaN</td>\n      <td>&lt;NA&gt;</td>\n      <td>NaN</td>\n    </tr>\n    <tr>\n      <th>1138208</th>\n      <td>NaN</td>\n      <td>NaN</td>\n      <td>NaN</td>\n      <td>NaN</td>\n      <td>NaN</td>\n      <td>NaT</td>\n      <td>NaT</td>\n      <td>NaN</td>\n      <td>NaN</td>\n      <td>NaN</td>\n      <td>...</td>\n      <td>1.0</td>\n      <td>0.0</td>\n      <td>0.0</td>\n      <td>0.0</td>\n      <td>NaN</td>\n      <td>NaN</td>\n      <td>NaN</td>\n      <td>NaN</td>\n      <td>&lt;NA&gt;</td>\n      <td>NaN</td>\n    </tr>\n    <tr>\n      <th>1138209</th>\n      <td>NaN</td>\n      <td>NaN</td>\n      <td>NaN</td>\n      <td>NaN</td>\n      <td>NaN</td>\n      <td>NaT</td>\n      <td>NaT</td>\n      <td>NaN</td>\n      <td>NaN</td>\n      <td>NaN</td>\n      <td>...</td>\n      <td>1.0</td>\n      <td>0.0</td>\n      <td>0.0</td>\n      <td>0.0</td>\n      <td>NaN</td>\n      <td>NaN</td>\n      <td>NaN</td>\n      <td>NaN</td>\n      <td>&lt;NA&gt;</td>\n      <td>NaN</td>\n    </tr>\n  </tbody>\n</table>\n<p>2276420 rows × 31 columns</p>\n</div>"
     },
     "execution_count": 7,
     "metadata": {},
     "output_type": "execute_result"
    }
   ],
   "source": [
    "data"
   ],
   "metadata": {
    "collapsed": false,
    "ExecuteTime": {
     "end_time": "2024-02-16T11:59:39.193375600Z",
     "start_time": "2024-02-16T11:59:37.944486300Z"
    }
   },
   "id": "de1a3d8d1b784256",
   "execution_count": 7
  },
  {
   "cell_type": "code",
   "outputs": [],
   "source": [],
   "metadata": {
    "collapsed": false
   },
   "id": "4baa496a7cad76a8"
  },
  {
   "cell_type": "markdown",
   "source": [
    "### longer stop duration"
   ],
   "metadata": {
    "collapsed": false
   },
   "id": "c574a8914f9d93c0"
  },
  {
   "cell_type": "code",
   "outputs": [],
   "source": [
    "data['stop_duration'] = (data['departure_on_time'] - data['arrival_on_time']).dt.total_seconds()/60"
   ],
   "metadata": {
    "collapsed": false,
    "ExecuteTime": {
     "end_time": "2024-02-16T06:55:51.544088200Z",
     "start_time": "2024-02-16T06:55:51.506025800Z"
    }
   },
   "id": "35e68e76fe2c8c72",
   "execution_count": 7
  },
  {
   "cell_type": "code",
   "outputs": [
    {
     "data": {
      "text/plain": "            pk                                     Relacja  \\\n0            1                  Przeworsk - Rzeszów Główny   \n1            1                  Przeworsk - Rzeszów Główny   \n2            1                  Przeworsk - Rzeszów Główny   \n3            1                  Przeworsk - Rzeszów Główny   \n4            1                  Przeworsk - Rzeszów Główny   \n...        ...                                         ...   \n1138205  52128  Kraków Lotnisko - Wieliczka Rynek-Kopalnia   \n1138206  52128  Kraków Lotnisko - Wieliczka Rynek-Kopalnia   \n1138207  52128  Kraków Lotnisko - Wieliczka Rynek-Kopalnia   \n1138208  52128  Kraków Lotnisko - Wieliczka Rynek-Kopalnia   \n1138209  52128  Kraków Lotnisko - Wieliczka Rynek-Kopalnia   \n\n                              Stacja  Opóźnienie przyjazdu  \\\n0                          Przeworsk                     0   \n1                            Grzęska                     0   \n2               Rogóżno koło Łańcuta                     0   \n3                             Kosina                     0   \n4                            Głuchów                     0   \n...                              ...                   ...   \n1138205              Kraków Bieżanów                     0   \n1138206  Kraków Bieżanów Drożdżownia                     0   \n1138207           Wieliczka Bogucice                     0   \n1138208               Wieliczka Park                     0   \n1138209     Wieliczka Rynek-Kopalnia                     0   \n\n         Opóźnienie odjazdu     arrival_on_time   departure_on_time  \\\n0                         0 2022-12-01 06:55:00 2022-12-01 06:55:00   \n1                         0 2022-12-01 06:58:30 2022-12-01 06:59:00   \n2                         0 2022-12-01 07:03:00 2022-12-01 07:03:30   \n3                         0 2022-12-01 07:06:30 2022-12-01 07:07:00   \n4                         0 2022-12-01 07:09:30 2022-12-01 07:10:00   \n...                     ...                 ...                 ...   \n1138205                   0 2023-04-23 08:52:12 2023-04-23 08:52:42   \n1138206                   0 2023-04-23 08:55:00 2023-04-23 08:55:30   \n1138207                   0 2023-04-23 08:57:24 2023-04-23 08:57:54   \n1138208                   0 2023-04-23 09:00:06 2023-04-23 09:00:36   \n1138209                   0 2023-04-23 09:02:00 2023-04-23 09:02:00   \n\n               lat        lon  station_count_on_curr_station  \\\n0        50.067161  22.503232                              0   \n1        50.080037  22.452564                              1   \n2        50.083573  22.362513                              2   \n3        50.083570  22.322846                              3   \n4        50.083469  22.279077                              4   \n...            ...        ...                            ...   \n1138205  50.021694  20.029257                             10   \n1138206  50.010696  20.035373                             11   \n1138207  49.998474  20.036696                             12   \n1138208  49.989105  20.049334                             13   \n1138209  49.985644  20.056648                             14   \n\n         full_route_station_count  distance_to_near_city_station  \\\n0                              10                      35.612095   \n1                              10                      32.152599   \n2                              10                      25.854248   \n3                              10                      23.070959   \n4                              10                      20.013113   \n...                           ...                            ...   \n1138205                        15                      76.751356   \n1138206                        15                      77.593166   \n1138207                        15                      78.180632   \n1138208                        15                      79.411243   \n1138209                        15                      80.041721   \n\n        near_city_station_name  distance_to_prev_station  distance_from_start  \\\n0               Rzeszów Główny                  0.000000             0.000000   \n1               Rzeszów Główny                  3.889077             3.889077   \n2               Rzeszów Główny                  6.437439            10.326516   \n3               Rzeszów Główny                  2.830260            13.156776   \n4               Rzeszów Główny                  3.122964            16.279739   \n...                        ...                       ...                  ...   \n1138205               Katowice                  2.235773            19.677470   \n1138206               Katowice                  1.298655            20.976125   \n1138207               Katowice                  1.362311            22.338436   \n1138208               Katowice                  1.378941            23.717377   \n1138209               Katowice                  0.649257            24.366635   \n\n         distance_to_final  full_route_distance  stop_duration  \n0                36.484418            36.484418            0.0  \n1                31.639766            36.484418            0.5  \n2                28.265814            36.484418            0.5  \n3                22.842960            36.484418            0.5  \n4                20.043487            36.484418            0.5  \n...                    ...                  ...            ...  \n1138205           6.634256            24.366635            0.5  \n1138206           4.328076            24.366635            0.5  \n1138207           3.617016            24.366635            0.5  \n1138208           1.902019            24.366635            0.5  \n1138209           0.000000            24.366635            0.0  \n\n[1138210 rows x 18 columns]",
      "text/html": "<div>\n<style scoped>\n    .dataframe tbody tr th:only-of-type {\n        vertical-align: middle;\n    }\n\n    .dataframe tbody tr th {\n        vertical-align: top;\n    }\n\n    .dataframe thead th {\n        text-align: right;\n    }\n</style>\n<table border=\"1\" class=\"dataframe\">\n  <thead>\n    <tr style=\"text-align: right;\">\n      <th></th>\n      <th>pk</th>\n      <th>Relacja</th>\n      <th>Stacja</th>\n      <th>Opóźnienie przyjazdu</th>\n      <th>Opóźnienie odjazdu</th>\n      <th>arrival_on_time</th>\n      <th>departure_on_time</th>\n      <th>lat</th>\n      <th>lon</th>\n      <th>station_count_on_curr_station</th>\n      <th>full_route_station_count</th>\n      <th>distance_to_near_city_station</th>\n      <th>near_city_station_name</th>\n      <th>distance_to_prev_station</th>\n      <th>distance_from_start</th>\n      <th>distance_to_final</th>\n      <th>full_route_distance</th>\n      <th>stop_duration</th>\n    </tr>\n  </thead>\n  <tbody>\n    <tr>\n      <th>0</th>\n      <td>1</td>\n      <td>Przeworsk - Rzeszów Główny</td>\n      <td>Przeworsk</td>\n      <td>0</td>\n      <td>0</td>\n      <td>2022-12-01 06:55:00</td>\n      <td>2022-12-01 06:55:00</td>\n      <td>50.067161</td>\n      <td>22.503232</td>\n      <td>0</td>\n      <td>10</td>\n      <td>35.612095</td>\n      <td>Rzeszów Główny</td>\n      <td>0.000000</td>\n      <td>0.000000</td>\n      <td>36.484418</td>\n      <td>36.484418</td>\n      <td>0.0</td>\n    </tr>\n    <tr>\n      <th>1</th>\n      <td>1</td>\n      <td>Przeworsk - Rzeszów Główny</td>\n      <td>Grzęska</td>\n      <td>0</td>\n      <td>0</td>\n      <td>2022-12-01 06:58:30</td>\n      <td>2022-12-01 06:59:00</td>\n      <td>50.080037</td>\n      <td>22.452564</td>\n      <td>1</td>\n      <td>10</td>\n      <td>32.152599</td>\n      <td>Rzeszów Główny</td>\n      <td>3.889077</td>\n      <td>3.889077</td>\n      <td>31.639766</td>\n      <td>36.484418</td>\n      <td>0.5</td>\n    </tr>\n    <tr>\n      <th>2</th>\n      <td>1</td>\n      <td>Przeworsk - Rzeszów Główny</td>\n      <td>Rogóżno koło Łańcuta</td>\n      <td>0</td>\n      <td>0</td>\n      <td>2022-12-01 07:03:00</td>\n      <td>2022-12-01 07:03:30</td>\n      <td>50.083573</td>\n      <td>22.362513</td>\n      <td>2</td>\n      <td>10</td>\n      <td>25.854248</td>\n      <td>Rzeszów Główny</td>\n      <td>6.437439</td>\n      <td>10.326516</td>\n      <td>28.265814</td>\n      <td>36.484418</td>\n      <td>0.5</td>\n    </tr>\n    <tr>\n      <th>3</th>\n      <td>1</td>\n      <td>Przeworsk - Rzeszów Główny</td>\n      <td>Kosina</td>\n      <td>0</td>\n      <td>0</td>\n      <td>2022-12-01 07:06:30</td>\n      <td>2022-12-01 07:07:00</td>\n      <td>50.083570</td>\n      <td>22.322846</td>\n      <td>3</td>\n      <td>10</td>\n      <td>23.070959</td>\n      <td>Rzeszów Główny</td>\n      <td>2.830260</td>\n      <td>13.156776</td>\n      <td>22.842960</td>\n      <td>36.484418</td>\n      <td>0.5</td>\n    </tr>\n    <tr>\n      <th>4</th>\n      <td>1</td>\n      <td>Przeworsk - Rzeszów Główny</td>\n      <td>Głuchów</td>\n      <td>0</td>\n      <td>0</td>\n      <td>2022-12-01 07:09:30</td>\n      <td>2022-12-01 07:10:00</td>\n      <td>50.083469</td>\n      <td>22.279077</td>\n      <td>4</td>\n      <td>10</td>\n      <td>20.013113</td>\n      <td>Rzeszów Główny</td>\n      <td>3.122964</td>\n      <td>16.279739</td>\n      <td>20.043487</td>\n      <td>36.484418</td>\n      <td>0.5</td>\n    </tr>\n    <tr>\n      <th>...</th>\n      <td>...</td>\n      <td>...</td>\n      <td>...</td>\n      <td>...</td>\n      <td>...</td>\n      <td>...</td>\n      <td>...</td>\n      <td>...</td>\n      <td>...</td>\n      <td>...</td>\n      <td>...</td>\n      <td>...</td>\n      <td>...</td>\n      <td>...</td>\n      <td>...</td>\n      <td>...</td>\n      <td>...</td>\n      <td>...</td>\n    </tr>\n    <tr>\n      <th>1138205</th>\n      <td>52128</td>\n      <td>Kraków Lotnisko - Wieliczka Rynek-Kopalnia</td>\n      <td>Kraków Bieżanów</td>\n      <td>0</td>\n      <td>0</td>\n      <td>2023-04-23 08:52:12</td>\n      <td>2023-04-23 08:52:42</td>\n      <td>50.021694</td>\n      <td>20.029257</td>\n      <td>10</td>\n      <td>15</td>\n      <td>76.751356</td>\n      <td>Katowice</td>\n      <td>2.235773</td>\n      <td>19.677470</td>\n      <td>6.634256</td>\n      <td>24.366635</td>\n      <td>0.5</td>\n    </tr>\n    <tr>\n      <th>1138206</th>\n      <td>52128</td>\n      <td>Kraków Lotnisko - Wieliczka Rynek-Kopalnia</td>\n      <td>Kraków Bieżanów Drożdżownia</td>\n      <td>0</td>\n      <td>0</td>\n      <td>2023-04-23 08:55:00</td>\n      <td>2023-04-23 08:55:30</td>\n      <td>50.010696</td>\n      <td>20.035373</td>\n      <td>11</td>\n      <td>15</td>\n      <td>77.593166</td>\n      <td>Katowice</td>\n      <td>1.298655</td>\n      <td>20.976125</td>\n      <td>4.328076</td>\n      <td>24.366635</td>\n      <td>0.5</td>\n    </tr>\n    <tr>\n      <th>1138207</th>\n      <td>52128</td>\n      <td>Kraków Lotnisko - Wieliczka Rynek-Kopalnia</td>\n      <td>Wieliczka Bogucice</td>\n      <td>0</td>\n      <td>0</td>\n      <td>2023-04-23 08:57:24</td>\n      <td>2023-04-23 08:57:54</td>\n      <td>49.998474</td>\n      <td>20.036696</td>\n      <td>12</td>\n      <td>15</td>\n      <td>78.180632</td>\n      <td>Katowice</td>\n      <td>1.362311</td>\n      <td>22.338436</td>\n      <td>3.617016</td>\n      <td>24.366635</td>\n      <td>0.5</td>\n    </tr>\n    <tr>\n      <th>1138208</th>\n      <td>52128</td>\n      <td>Kraków Lotnisko - Wieliczka Rynek-Kopalnia</td>\n      <td>Wieliczka Park</td>\n      <td>0</td>\n      <td>0</td>\n      <td>2023-04-23 09:00:06</td>\n      <td>2023-04-23 09:00:36</td>\n      <td>49.989105</td>\n      <td>20.049334</td>\n      <td>13</td>\n      <td>15</td>\n      <td>79.411243</td>\n      <td>Katowice</td>\n      <td>1.378941</td>\n      <td>23.717377</td>\n      <td>1.902019</td>\n      <td>24.366635</td>\n      <td>0.5</td>\n    </tr>\n    <tr>\n      <th>1138209</th>\n      <td>52128</td>\n      <td>Kraków Lotnisko - Wieliczka Rynek-Kopalnia</td>\n      <td>Wieliczka Rynek-Kopalnia</td>\n      <td>0</td>\n      <td>0</td>\n      <td>2023-04-23 09:02:00</td>\n      <td>2023-04-23 09:02:00</td>\n      <td>49.985644</td>\n      <td>20.056648</td>\n      <td>14</td>\n      <td>15</td>\n      <td>80.041721</td>\n      <td>Katowice</td>\n      <td>0.649257</td>\n      <td>24.366635</td>\n      <td>0.000000</td>\n      <td>24.366635</td>\n      <td>0.0</td>\n    </tr>\n  </tbody>\n</table>\n<p>1138210 rows × 18 columns</p>\n</div>"
     },
     "execution_count": 10,
     "metadata": {},
     "output_type": "execute_result"
    }
   ],
   "source": [
    "data['']"
   ],
   "metadata": {
    "collapsed": false,
    "ExecuteTime": {
     "end_time": "2024-02-16T06:59:15.847229100Z",
     "start_time": "2024-02-16T06:59:15.821794500Z"
    }
   },
   "id": "2b9ef9fb38a096ea",
   "execution_count": 10
  },
  {
   "cell_type": "markdown",
   "source": [
    "### date features and holidays"
   ],
   "metadata": {
    "collapsed": false
   },
   "id": "2b95def8962da11a"
  },
  {
   "cell_type": "code",
   "outputs": [],
   "source": [],
   "metadata": {
    "collapsed": false
   },
   "id": "b9377725cc74f3b1"
  },
  {
   "cell_type": "code",
   "outputs": [],
   "source": [],
   "metadata": {
    "collapsed": false
   },
   "id": "cc10e4906846c35a"
  },
  {
   "cell_type": "markdown",
   "source": [
    "### weather features"
   ],
   "metadata": {
    "collapsed": false
   },
   "id": "3df541be752dd965"
  },
  {
   "cell_type": "code",
   "outputs": [
    {
     "data": {
      "text/plain": "            pk                                     Relacja  \\\n0            1                  Przeworsk - Rzeszów Główny   \n1            1                  Przeworsk - Rzeszów Główny   \n2            1                  Przeworsk - Rzeszów Główny   \n3            1                  Przeworsk - Rzeszów Główny   \n4            1                  Przeworsk - Rzeszów Główny   \n...        ...                                         ...   \n1138205  52128  Kraków Lotnisko - Wieliczka Rynek-Kopalnia   \n1138206  52128  Kraków Lotnisko - Wieliczka Rynek-Kopalnia   \n1138207  52128  Kraków Lotnisko - Wieliczka Rynek-Kopalnia   \n1138208  52128  Kraków Lotnisko - Wieliczka Rynek-Kopalnia   \n1138209  52128  Kraków Lotnisko - Wieliczka Rynek-Kopalnia   \n\n                              Stacja  Opóźnienie przyjazdu  \\\n0                          Przeworsk                     0   \n1                            Grzęska                     0   \n2               Rogóżno koło Łańcuta                     0   \n3                             Kosina                     0   \n4                            Głuchów                     0   \n...                              ...                   ...   \n1138205              Kraków Bieżanów                     0   \n1138206  Kraków Bieżanów Drożdżownia                     0   \n1138207           Wieliczka Bogucice                     0   \n1138208               Wieliczka Park                     0   \n1138209     Wieliczka Rynek-Kopalnia                     0   \n\n         Opóźnienie odjazdu     arrival_on_time   departure_on_time  \\\n0                         0 2022-12-01 06:55:00 2022-12-01 06:55:00   \n1                         0 2022-12-01 06:58:30 2022-12-01 06:59:00   \n2                         0 2022-12-01 07:03:00 2022-12-01 07:03:30   \n3                         0 2022-12-01 07:06:30 2022-12-01 07:07:00   \n4                         0 2022-12-01 07:09:30 2022-12-01 07:10:00   \n...                     ...                 ...                 ...   \n1138205                   0 2023-04-23 08:52:12 2023-04-23 08:52:42   \n1138206                   0 2023-04-23 08:55:00 2023-04-23 08:55:30   \n1138207                   0 2023-04-23 08:57:24 2023-04-23 08:57:54   \n1138208                   0 2023-04-23 09:00:06 2023-04-23 09:00:36   \n1138209                   0 2023-04-23 09:02:00 2023-04-23 09:02:00   \n\n               lat        lon  station_count_on_curr_station  \\\n0        50.067161  22.503232                              0   \n1        50.080037  22.452564                              1   \n2        50.083573  22.362513                              2   \n3        50.083570  22.322846                              3   \n4        50.083469  22.279077                              4   \n...            ...        ...                            ...   \n1138205  50.021694  20.029257                             10   \n1138206  50.010696  20.035373                             11   \n1138207  49.998474  20.036696                             12   \n1138208  49.989105  20.049334                             13   \n1138209  49.985644  20.056648                             14   \n\n         full_route_station_count  distance_to_near_city_station  \\\n0                              10                      35.612095   \n1                              10                      32.152599   \n2                              10                      25.854248   \n3                              10                      23.070959   \n4                              10                      20.013113   \n...                           ...                            ...   \n1138205                        15                      76.751356   \n1138206                        15                      77.593166   \n1138207                        15                      78.180632   \n1138208                        15                      79.411243   \n1138209                        15                      80.041721   \n\n        near_city_station_name  distance_to_prev_station  distance_from_start  \\\n0               Rzeszów Główny                  0.000000             0.000000   \n1               Rzeszów Główny                  3.889077             3.889077   \n2               Rzeszów Główny                  6.437439            10.326516   \n3               Rzeszów Główny                  2.830260            13.156776   \n4               Rzeszów Główny                  3.122964            16.279739   \n...                        ...                       ...                  ...   \n1138205               Katowice                  2.235773            19.677470   \n1138206               Katowice                  1.298655            20.976125   \n1138207               Katowice                  1.362311            22.338436   \n1138208               Katowice                  1.378941            23.717377   \n1138209               Katowice                  0.649257            24.366635   \n\n         distance_to_final  full_route_distance  stop_duration  \n0                36.484418            36.484418            0.0  \n1                31.639766            36.484418            0.5  \n2                28.265814            36.484418            0.5  \n3                22.842960            36.484418            0.5  \n4                20.043487            36.484418            0.5  \n...                    ...                  ...            ...  \n1138205           6.634256            24.366635            0.5  \n1138206           4.328076            24.366635            0.5  \n1138207           3.617016            24.366635            0.5  \n1138208           1.902019            24.366635            0.5  \n1138209           0.000000            24.366635            0.0  \n\n[1138210 rows x 18 columns]",
      "text/html": "<div>\n<style scoped>\n    .dataframe tbody tr th:only-of-type {\n        vertical-align: middle;\n    }\n\n    .dataframe tbody tr th {\n        vertical-align: top;\n    }\n\n    .dataframe thead th {\n        text-align: right;\n    }\n</style>\n<table border=\"1\" class=\"dataframe\">\n  <thead>\n    <tr style=\"text-align: right;\">\n      <th></th>\n      <th>pk</th>\n      <th>Relacja</th>\n      <th>Stacja</th>\n      <th>Opóźnienie przyjazdu</th>\n      <th>Opóźnienie odjazdu</th>\n      <th>arrival_on_time</th>\n      <th>departure_on_time</th>\n      <th>lat</th>\n      <th>lon</th>\n      <th>station_count_on_curr_station</th>\n      <th>full_route_station_count</th>\n      <th>distance_to_near_city_station</th>\n      <th>near_city_station_name</th>\n      <th>distance_to_prev_station</th>\n      <th>distance_from_start</th>\n      <th>distance_to_final</th>\n      <th>full_route_distance</th>\n      <th>stop_duration</th>\n    </tr>\n  </thead>\n  <tbody>\n    <tr>\n      <th>0</th>\n      <td>1</td>\n      <td>Przeworsk - Rzeszów Główny</td>\n      <td>Przeworsk</td>\n      <td>0</td>\n      <td>0</td>\n      <td>2022-12-01 06:55:00</td>\n      <td>2022-12-01 06:55:00</td>\n      <td>50.067161</td>\n      <td>22.503232</td>\n      <td>0</td>\n      <td>10</td>\n      <td>35.612095</td>\n      <td>Rzeszów Główny</td>\n      <td>0.000000</td>\n      <td>0.000000</td>\n      <td>36.484418</td>\n      <td>36.484418</td>\n      <td>0.0</td>\n    </tr>\n    <tr>\n      <th>1</th>\n      <td>1</td>\n      <td>Przeworsk - Rzeszów Główny</td>\n      <td>Grzęska</td>\n      <td>0</td>\n      <td>0</td>\n      <td>2022-12-01 06:58:30</td>\n      <td>2022-12-01 06:59:00</td>\n      <td>50.080037</td>\n      <td>22.452564</td>\n      <td>1</td>\n      <td>10</td>\n      <td>32.152599</td>\n      <td>Rzeszów Główny</td>\n      <td>3.889077</td>\n      <td>3.889077</td>\n      <td>31.639766</td>\n      <td>36.484418</td>\n      <td>0.5</td>\n    </tr>\n    <tr>\n      <th>2</th>\n      <td>1</td>\n      <td>Przeworsk - Rzeszów Główny</td>\n      <td>Rogóżno koło Łańcuta</td>\n      <td>0</td>\n      <td>0</td>\n      <td>2022-12-01 07:03:00</td>\n      <td>2022-12-01 07:03:30</td>\n      <td>50.083573</td>\n      <td>22.362513</td>\n      <td>2</td>\n      <td>10</td>\n      <td>25.854248</td>\n      <td>Rzeszów Główny</td>\n      <td>6.437439</td>\n      <td>10.326516</td>\n      <td>28.265814</td>\n      <td>36.484418</td>\n      <td>0.5</td>\n    </tr>\n    <tr>\n      <th>3</th>\n      <td>1</td>\n      <td>Przeworsk - Rzeszów Główny</td>\n      <td>Kosina</td>\n      <td>0</td>\n      <td>0</td>\n      <td>2022-12-01 07:06:30</td>\n      <td>2022-12-01 07:07:00</td>\n      <td>50.083570</td>\n      <td>22.322846</td>\n      <td>3</td>\n      <td>10</td>\n      <td>23.070959</td>\n      <td>Rzeszów Główny</td>\n      <td>2.830260</td>\n      <td>13.156776</td>\n      <td>22.842960</td>\n      <td>36.484418</td>\n      <td>0.5</td>\n    </tr>\n    <tr>\n      <th>4</th>\n      <td>1</td>\n      <td>Przeworsk - Rzeszów Główny</td>\n      <td>Głuchów</td>\n      <td>0</td>\n      <td>0</td>\n      <td>2022-12-01 07:09:30</td>\n      <td>2022-12-01 07:10:00</td>\n      <td>50.083469</td>\n      <td>22.279077</td>\n      <td>4</td>\n      <td>10</td>\n      <td>20.013113</td>\n      <td>Rzeszów Główny</td>\n      <td>3.122964</td>\n      <td>16.279739</td>\n      <td>20.043487</td>\n      <td>36.484418</td>\n      <td>0.5</td>\n    </tr>\n    <tr>\n      <th>...</th>\n      <td>...</td>\n      <td>...</td>\n      <td>...</td>\n      <td>...</td>\n      <td>...</td>\n      <td>...</td>\n      <td>...</td>\n      <td>...</td>\n      <td>...</td>\n      <td>...</td>\n      <td>...</td>\n      <td>...</td>\n      <td>...</td>\n      <td>...</td>\n      <td>...</td>\n      <td>...</td>\n      <td>...</td>\n      <td>...</td>\n    </tr>\n    <tr>\n      <th>1138205</th>\n      <td>52128</td>\n      <td>Kraków Lotnisko - Wieliczka Rynek-Kopalnia</td>\n      <td>Kraków Bieżanów</td>\n      <td>0</td>\n      <td>0</td>\n      <td>2023-04-23 08:52:12</td>\n      <td>2023-04-23 08:52:42</td>\n      <td>50.021694</td>\n      <td>20.029257</td>\n      <td>10</td>\n      <td>15</td>\n      <td>76.751356</td>\n      <td>Katowice</td>\n      <td>2.235773</td>\n      <td>19.677470</td>\n      <td>6.634256</td>\n      <td>24.366635</td>\n      <td>0.5</td>\n    </tr>\n    <tr>\n      <th>1138206</th>\n      <td>52128</td>\n      <td>Kraków Lotnisko - Wieliczka Rynek-Kopalnia</td>\n      <td>Kraków Bieżanów Drożdżownia</td>\n      <td>0</td>\n      <td>0</td>\n      <td>2023-04-23 08:55:00</td>\n      <td>2023-04-23 08:55:30</td>\n      <td>50.010696</td>\n      <td>20.035373</td>\n      <td>11</td>\n      <td>15</td>\n      <td>77.593166</td>\n      <td>Katowice</td>\n      <td>1.298655</td>\n      <td>20.976125</td>\n      <td>4.328076</td>\n      <td>24.366635</td>\n      <td>0.5</td>\n    </tr>\n    <tr>\n      <th>1138207</th>\n      <td>52128</td>\n      <td>Kraków Lotnisko - Wieliczka Rynek-Kopalnia</td>\n      <td>Wieliczka Bogucice</td>\n      <td>0</td>\n      <td>0</td>\n      <td>2023-04-23 08:57:24</td>\n      <td>2023-04-23 08:57:54</td>\n      <td>49.998474</td>\n      <td>20.036696</td>\n      <td>12</td>\n      <td>15</td>\n      <td>78.180632</td>\n      <td>Katowice</td>\n      <td>1.362311</td>\n      <td>22.338436</td>\n      <td>3.617016</td>\n      <td>24.366635</td>\n      <td>0.5</td>\n    </tr>\n    <tr>\n      <th>1138208</th>\n      <td>52128</td>\n      <td>Kraków Lotnisko - Wieliczka Rynek-Kopalnia</td>\n      <td>Wieliczka Park</td>\n      <td>0</td>\n      <td>0</td>\n      <td>2023-04-23 09:00:06</td>\n      <td>2023-04-23 09:00:36</td>\n      <td>49.989105</td>\n      <td>20.049334</td>\n      <td>13</td>\n      <td>15</td>\n      <td>79.411243</td>\n      <td>Katowice</td>\n      <td>1.378941</td>\n      <td>23.717377</td>\n      <td>1.902019</td>\n      <td>24.366635</td>\n      <td>0.5</td>\n    </tr>\n    <tr>\n      <th>1138209</th>\n      <td>52128</td>\n      <td>Kraków Lotnisko - Wieliczka Rynek-Kopalnia</td>\n      <td>Wieliczka Rynek-Kopalnia</td>\n      <td>0</td>\n      <td>0</td>\n      <td>2023-04-23 09:02:00</td>\n      <td>2023-04-23 09:02:00</td>\n      <td>49.985644</td>\n      <td>20.056648</td>\n      <td>14</td>\n      <td>15</td>\n      <td>80.041721</td>\n      <td>Katowice</td>\n      <td>0.649257</td>\n      <td>24.366635</td>\n      <td>0.000000</td>\n      <td>24.366635</td>\n      <td>0.0</td>\n    </tr>\n  </tbody>\n</table>\n<p>1138210 rows × 18 columns</p>\n</div>"
     },
     "execution_count": 11,
     "metadata": {},
     "output_type": "execute_result"
    }
   ],
   "source": [
    "data"
   ],
   "metadata": {
    "collapsed": false,
    "ExecuteTime": {
     "end_time": "2024-02-16T07:14:38.511414200Z",
     "start_time": "2024-02-16T07:14:38.481408Z"
    }
   },
   "id": "9395644e3ff78082",
   "execution_count": 11
  },
  {
   "cell_type": "code",
   "outputs": [],
   "source": [
    "x = get_historical_weather(50.067161, 22.503232, '2022-12-01')"
   ],
   "metadata": {
    "collapsed": false,
    "ExecuteTime": {
     "end_time": "2024-02-16T07:21:30.868916500Z",
     "start_time": "2024-02-16T07:21:30.779008700Z"
    }
   },
   "id": "20b9dcac78515fa7",
   "execution_count": 2
  },
  {
   "cell_type": "code",
   "outputs": [
    {
     "data": {
      "text/plain": "{'error': {'code': 2008, 'message': 'API key has been disabled.'}}"
     },
     "execution_count": 3,
     "metadata": {},
     "output_type": "execute_result"
    }
   ],
   "source": [
    "x"
   ],
   "metadata": {
    "collapsed": false,
    "ExecuteTime": {
     "end_time": "2024-02-16T07:21:31.705157Z",
     "start_time": "2024-02-16T07:21:31.696151100Z"
    }
   },
   "id": "70bb1a31e19a5c64",
   "execution_count": 3
  }
 ],
 "metadata": {
  "kernelspec": {
   "display_name": "Python 3",
   "language": "python",
   "name": "python3"
  },
  "language_info": {
   "codemirror_mode": {
    "name": "ipython",
    "version": 2
   },
   "file_extension": ".py",
   "mimetype": "text/x-python",
   "name": "python",
   "nbconvert_exporter": "python",
   "pygments_lexer": "ipython2",
   "version": "2.7.6"
  }
 },
 "nbformat": 4,
 "nbformat_minor": 5
}
