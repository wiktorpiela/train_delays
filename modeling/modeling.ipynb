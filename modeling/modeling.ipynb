{
 "cells": [
  {
   "cell_type": "code",
   "execution_count": 1,
   "id": "initial_id",
   "metadata": {
    "collapsed": true,
    "ExecuteTime": {
     "end_time": "2024-02-16T06:41:18.627959600Z",
     "start_time": "2024-02-16T06:41:18.051822700Z"
    }
   },
   "outputs": [],
   "source": [
    "import pandas as pd\n",
    "from PreprocessingUtils import prepare_raw_data, count_distances"
   ]
  },
  {
   "cell_type": "code",
   "outputs": [],
   "source": [
    "data = pd.read_parquet('../data/raw_data_delays.parquet')\n",
    "gps = pd.read_csv('../data/station_gps.csv')"
   ],
   "metadata": {
    "collapsed": false,
    "ExecuteTime": {
     "end_time": "2024-02-16T06:41:19.408075100Z",
     "start_time": "2024-02-16T06:41:18.867859500Z"
    }
   },
   "id": "f0ad4bba56ffe2f1",
   "execution_count": 2
  },
  {
   "cell_type": "code",
   "outputs": [],
   "source": [
    "data = prepare_raw_data(data)\n",
    "data = pd.merge(data, gps, on='Stacja', how='left')"
   ],
   "metadata": {
    "collapsed": false,
    "ExecuteTime": {
     "end_time": "2024-02-16T06:41:27.252258300Z",
     "start_time": "2024-02-16T06:41:19.405067400Z"
    }
   },
   "id": "4cc9518684013f94",
   "execution_count": 3
  },
  {
   "cell_type": "markdown",
   "source": [
    "### station count\n",
    "<ul>\n",
    "    <li>full route station count</li>\n",
    "    <li>station count on current station</li>\n",
    "</ul>"
   ],
   "metadata": {
    "collapsed": false
   },
   "id": "bb9b6ae81f1910cd"
  },
  {
   "cell_type": "code",
   "outputs": [],
   "source": [
    "data['station_count_on_curr_station'] = data.groupby(['pk', 'Relacja']).cumcount()\n",
    "data['full_route_station_count'] = data.groupby(['pk', 'Relacja'])['Relacja'].transform('count')"
   ],
   "metadata": {
    "collapsed": false,
    "ExecuteTime": {
     "end_time": "2024-02-16T06:41:27.604101900Z",
     "start_time": "2024-02-16T06:41:27.255379Z"
    }
   },
   "id": "f386924d62a5d1bd",
   "execution_count": 4
  },
  {
   "cell_type": "markdown",
   "source": [
    "### distances\n",
    "<ul>\n",
    "    <li>full route distance</li>\n",
    "    <li>distance distance until current station</li>\n",
    "    <li>distance from start station</li>\n",
    "    <li>distance to final station</li>\n",
    "    <li>distance distance from the nearest big city station</li>\n",
    "</ul>"
   ],
   "metadata": {
    "collapsed": false
   },
   "id": "8a3e1b666de66e86"
  },
  {
   "cell_type": "code",
   "outputs": [],
   "source": [
    "# pks = data['pk'].unique()[:1]\n",
    "# dfs_list = []"
   ],
   "metadata": {
    "collapsed": false,
    "ExecuteTime": {
     "end_time": "2024-02-16T06:36:01.072791Z",
     "start_time": "2024-02-16T06:36:01.054766500Z"
    }
   },
   "id": "e57ec4687a5d7476",
   "execution_count": 36
  },
  {
   "cell_type": "code",
   "outputs": [
    {
     "name": "stdout",
     "output_type": "stream",
     "text": [
      "1\n"
     ]
    }
   ],
   "source": [
    "# big_city_names = pd.read_csv('../data/big_cities_dict.csv', sep=';')['miasto'].unique()\n",
    "# big_city_stations_gps = gps[gps['Stacja'].isin(big_city_names)].reset_index(drop=True).copy()\n",
    "# \n",
    "# for pk in pks:\n",
    "#     temp_df = data[data['pk']==pk].reset_index(drop=True).copy()\n",
    "#     distance_to_prev_station_list = []\n",
    "#     for i in range(len(temp_df)): \n",
    "#         curr_gps = (temp_df.loc[i, 'lat'].item(), temp_df.loc[i, 'lon'].item())\n",
    "#         dist_to_near_city_list = []\n",
    "#         \n",
    "#         for j in range(len(big_city_stations_gps)):\n",
    "#             curr_city_gps = (big_city_stations_gps.loc[j, 'lat'], big_city_stations_gps.loc[j, 'lon'])\n",
    "#             dist_to_near_city = haversine(curr_gps, curr_city_gps)\n",
    "#             dist_to_near_city_list.append(dist_to_near_city)\n",
    "# \n",
    "#         pos = np.array(dist_to_near_city_list).argmin()\n",
    "#         temp_df.loc[i, 'distance_to_near_city_station'] = dist_to_near_city_list[pos]\n",
    "#         temp_df.loc[i, 'near_city_station_name'] = big_city_stations_gps.loc[pos, 'Stacja']\n",
    "#         \n",
    "#         if i == 0:\n",
    "#             distance_to_prev_station_list.append(0)\n",
    "#         else:\n",
    "#             prev_gps = (temp_df.loc[i-1, 'lat'].item(), temp_df.loc[i-1, 'lon'].item())\n",
    "#             distance = haversine(curr_gps, prev_gps, unit=Unit.KILOMETERS)\n",
    "#             distance_to_prev_station_list.append(distance)\n",
    "# \n",
    "#     temp_df['distance_to_prev_station'] = distance_to_prev_station_list\n",
    "#     temp_df['distance_from_start'] = temp_df['distance_to_prev_station'].cumsum()\n",
    "#     temp_df['distance_to_final'] = np.array(temp_df['distance_from_start'][::-1])\n",
    "#     temp_df['full_route_distance'] = temp_df.groupby('pk')['distance_to_prev_station'].transform('sum')\n",
    "# \n",
    "#     dfs_list.append(temp_df)\n",
    "#     print(pk)\n",
    "# \n",
    "# new_data = pd.concat(dfs_list, ignore_index=True) "
   ],
   "metadata": {
    "collapsed": false,
    "ExecuteTime": {
     "end_time": "2024-02-16T06:36:01.907741800Z",
     "start_time": "2024-02-16T06:36:01.871718100Z"
    }
   },
   "id": "4c1fdbe696fc585",
   "execution_count": 37
  },
  {
   "cell_type": "code",
   "outputs": [],
   "source": [
    "data = count_distances(data, gps)"
   ],
   "metadata": {
    "collapsed": false,
    "is_executing": true,
    "ExecuteTime": {
     "start_time": "2024-02-16T06:41:27.606324500Z"
    }
   },
   "id": "c81647b8cf9379ec",
   "execution_count": null
  },
  {
   "cell_type": "code",
   "outputs": [
    {
     "data": {
      "text/plain": "   pk                     Relacja                Stacja  Opóźnienie przyjazdu  \\\n0   1  Przeworsk - Rzeszów Główny             Przeworsk                     0   \n1   1  Przeworsk - Rzeszów Główny               Grzęska                     0   \n2   1  Przeworsk - Rzeszów Główny  Rogóżno koło Łańcuta                     0   \n3   1  Przeworsk - Rzeszów Główny                Kosina                     0   \n4   1  Przeworsk - Rzeszów Główny               Głuchów                     0   \n5   1  Przeworsk - Rzeszów Główny                Łańcut                     0   \n6   1  Przeworsk - Rzeszów Główny           Krzemienica                     0   \n7   1  Przeworsk - Rzeszów Główny               Strażów                     0   \n8   1  Przeworsk - Rzeszów Główny        Rzeszów Załęże                     0   \n9   1  Przeworsk - Rzeszów Główny        Rzeszów Główny                     0   \n\n   Opóźnienie odjazdu     arrival_on_time   departure_on_time        lat  \\\n0                   0 2022-12-01 06:55:00 2022-12-01 06:55:00  50.067161   \n1                   0 2022-12-01 06:58:30 2022-12-01 06:59:00  50.080037   \n2                   0 2022-12-01 07:03:00 2022-12-01 07:03:30  50.083573   \n3                   0 2022-12-01 07:06:30 2022-12-01 07:07:00  50.083570   \n4                   0 2022-12-01 07:09:30 2022-12-01 07:10:00  50.083469   \n5                   0 2022-12-01 07:14:00 2022-12-01 07:14:30  50.081750   \n6                   0 2022-12-01 07:17:00 2022-12-01 07:17:30  50.081738   \n7                   0 2022-12-01 07:21:00 2022-12-01 07:21:30  50.067424   \n8                   0 2022-12-01 07:24:00 2022-12-01 07:24:30  50.058533   \n9                   0 2022-12-01 07:29:00 2022-12-01 07:29:00  50.043213   \n\n         lon  station_count_on_curr_station  full_route_station_count  \\\n0  22.503232                              0                        10   \n1  22.452564                              1                        10   \n2  22.362513                              2                        10   \n3  22.322846                              3                        10   \n4  22.279077                              4                        10   \n5  22.226396                              5                        10   \n6  22.187162                              6                        10   \n7  22.114520                              7                        10   \n8  22.069328                              8                        10   \n9  22.005808                              9                        10   \n\n   distance_to_near_city_station near_city_station_name  \\\n0                      35.612095         Rzeszów Główny   \n1                      32.152599         Rzeszów Główny   \n2                      25.854248         Rzeszów Główny   \n3                      23.070959         Rzeszów Główny   \n4                      20.013113         Rzeszów Główny   \n5                      16.318646         Rzeszów Główny   \n6                      13.635759         Rzeszów Główny   \n7                       8.214880         Rzeszów Główny   \n8                       4.844652         Rzeszów Główny   \n9                       0.000000         Rzeszów Główny   \n\n   distance_to_prev_station  distance_from_start  distance_to_final  \\\n0                  0.000000             0.000000          36.484418   \n1                  3.889077             3.889077          31.639766   \n2                  6.437439            10.326516          28.265814   \n3                  2.830260            13.156776          22.842960   \n4                  3.122964            16.279739          20.043487   \n5                  3.763748            20.043487          16.279739   \n6                  2.799473            22.842960          13.156776   \n7                  5.422854            28.265814          10.326516   \n8                  3.373952            31.639766           3.889077   \n9                  4.844652            36.484418           0.000000   \n\n   full_route_distance  \n0            36.484418  \n1            36.484418  \n2            36.484418  \n3            36.484418  \n4            36.484418  \n5            36.484418  \n6            36.484418  \n7            36.484418  \n8            36.484418  \n9            36.484418  ",
      "text/html": "<div>\n<style scoped>\n    .dataframe tbody tr th:only-of-type {\n        vertical-align: middle;\n    }\n\n    .dataframe tbody tr th {\n        vertical-align: top;\n    }\n\n    .dataframe thead th {\n        text-align: right;\n    }\n</style>\n<table border=\"1\" class=\"dataframe\">\n  <thead>\n    <tr style=\"text-align: right;\">\n      <th></th>\n      <th>pk</th>\n      <th>Relacja</th>\n      <th>Stacja</th>\n      <th>Opóźnienie przyjazdu</th>\n      <th>Opóźnienie odjazdu</th>\n      <th>arrival_on_time</th>\n      <th>departure_on_time</th>\n      <th>lat</th>\n      <th>lon</th>\n      <th>station_count_on_curr_station</th>\n      <th>full_route_station_count</th>\n      <th>distance_to_near_city_station</th>\n      <th>near_city_station_name</th>\n      <th>distance_to_prev_station</th>\n      <th>distance_from_start</th>\n      <th>distance_to_final</th>\n      <th>full_route_distance</th>\n    </tr>\n  </thead>\n  <tbody>\n    <tr>\n      <th>0</th>\n      <td>1</td>\n      <td>Przeworsk - Rzeszów Główny</td>\n      <td>Przeworsk</td>\n      <td>0</td>\n      <td>0</td>\n      <td>2022-12-01 06:55:00</td>\n      <td>2022-12-01 06:55:00</td>\n      <td>50.067161</td>\n      <td>22.503232</td>\n      <td>0</td>\n      <td>10</td>\n      <td>35.612095</td>\n      <td>Rzeszów Główny</td>\n      <td>0.000000</td>\n      <td>0.000000</td>\n      <td>36.484418</td>\n      <td>36.484418</td>\n    </tr>\n    <tr>\n      <th>1</th>\n      <td>1</td>\n      <td>Przeworsk - Rzeszów Główny</td>\n      <td>Grzęska</td>\n      <td>0</td>\n      <td>0</td>\n      <td>2022-12-01 06:58:30</td>\n      <td>2022-12-01 06:59:00</td>\n      <td>50.080037</td>\n      <td>22.452564</td>\n      <td>1</td>\n      <td>10</td>\n      <td>32.152599</td>\n      <td>Rzeszów Główny</td>\n      <td>3.889077</td>\n      <td>3.889077</td>\n      <td>31.639766</td>\n      <td>36.484418</td>\n    </tr>\n    <tr>\n      <th>2</th>\n      <td>1</td>\n      <td>Przeworsk - Rzeszów Główny</td>\n      <td>Rogóżno koło Łańcuta</td>\n      <td>0</td>\n      <td>0</td>\n      <td>2022-12-01 07:03:00</td>\n      <td>2022-12-01 07:03:30</td>\n      <td>50.083573</td>\n      <td>22.362513</td>\n      <td>2</td>\n      <td>10</td>\n      <td>25.854248</td>\n      <td>Rzeszów Główny</td>\n      <td>6.437439</td>\n      <td>10.326516</td>\n      <td>28.265814</td>\n      <td>36.484418</td>\n    </tr>\n    <tr>\n      <th>3</th>\n      <td>1</td>\n      <td>Przeworsk - Rzeszów Główny</td>\n      <td>Kosina</td>\n      <td>0</td>\n      <td>0</td>\n      <td>2022-12-01 07:06:30</td>\n      <td>2022-12-01 07:07:00</td>\n      <td>50.083570</td>\n      <td>22.322846</td>\n      <td>3</td>\n      <td>10</td>\n      <td>23.070959</td>\n      <td>Rzeszów Główny</td>\n      <td>2.830260</td>\n      <td>13.156776</td>\n      <td>22.842960</td>\n      <td>36.484418</td>\n    </tr>\n    <tr>\n      <th>4</th>\n      <td>1</td>\n      <td>Przeworsk - Rzeszów Główny</td>\n      <td>Głuchów</td>\n      <td>0</td>\n      <td>0</td>\n      <td>2022-12-01 07:09:30</td>\n      <td>2022-12-01 07:10:00</td>\n      <td>50.083469</td>\n      <td>22.279077</td>\n      <td>4</td>\n      <td>10</td>\n      <td>20.013113</td>\n      <td>Rzeszów Główny</td>\n      <td>3.122964</td>\n      <td>16.279739</td>\n      <td>20.043487</td>\n      <td>36.484418</td>\n    </tr>\n    <tr>\n      <th>5</th>\n      <td>1</td>\n      <td>Przeworsk - Rzeszów Główny</td>\n      <td>Łańcut</td>\n      <td>0</td>\n      <td>0</td>\n      <td>2022-12-01 07:14:00</td>\n      <td>2022-12-01 07:14:30</td>\n      <td>50.081750</td>\n      <td>22.226396</td>\n      <td>5</td>\n      <td>10</td>\n      <td>16.318646</td>\n      <td>Rzeszów Główny</td>\n      <td>3.763748</td>\n      <td>20.043487</td>\n      <td>16.279739</td>\n      <td>36.484418</td>\n    </tr>\n    <tr>\n      <th>6</th>\n      <td>1</td>\n      <td>Przeworsk - Rzeszów Główny</td>\n      <td>Krzemienica</td>\n      <td>0</td>\n      <td>0</td>\n      <td>2022-12-01 07:17:00</td>\n      <td>2022-12-01 07:17:30</td>\n      <td>50.081738</td>\n      <td>22.187162</td>\n      <td>6</td>\n      <td>10</td>\n      <td>13.635759</td>\n      <td>Rzeszów Główny</td>\n      <td>2.799473</td>\n      <td>22.842960</td>\n      <td>13.156776</td>\n      <td>36.484418</td>\n    </tr>\n    <tr>\n      <th>7</th>\n      <td>1</td>\n      <td>Przeworsk - Rzeszów Główny</td>\n      <td>Strażów</td>\n      <td>0</td>\n      <td>0</td>\n      <td>2022-12-01 07:21:00</td>\n      <td>2022-12-01 07:21:30</td>\n      <td>50.067424</td>\n      <td>22.114520</td>\n      <td>7</td>\n      <td>10</td>\n      <td>8.214880</td>\n      <td>Rzeszów Główny</td>\n      <td>5.422854</td>\n      <td>28.265814</td>\n      <td>10.326516</td>\n      <td>36.484418</td>\n    </tr>\n    <tr>\n      <th>8</th>\n      <td>1</td>\n      <td>Przeworsk - Rzeszów Główny</td>\n      <td>Rzeszów Załęże</td>\n      <td>0</td>\n      <td>0</td>\n      <td>2022-12-01 07:24:00</td>\n      <td>2022-12-01 07:24:30</td>\n      <td>50.058533</td>\n      <td>22.069328</td>\n      <td>8</td>\n      <td>10</td>\n      <td>4.844652</td>\n      <td>Rzeszów Główny</td>\n      <td>3.373952</td>\n      <td>31.639766</td>\n      <td>3.889077</td>\n      <td>36.484418</td>\n    </tr>\n    <tr>\n      <th>9</th>\n      <td>1</td>\n      <td>Przeworsk - Rzeszów Główny</td>\n      <td>Rzeszów Główny</td>\n      <td>0</td>\n      <td>0</td>\n      <td>2022-12-01 07:29:00</td>\n      <td>2022-12-01 07:29:00</td>\n      <td>50.043213</td>\n      <td>22.005808</td>\n      <td>9</td>\n      <td>10</td>\n      <td>0.000000</td>\n      <td>Rzeszów Główny</td>\n      <td>4.844652</td>\n      <td>36.484418</td>\n      <td>0.000000</td>\n      <td>36.484418</td>\n    </tr>\n  </tbody>\n</table>\n</div>"
     },
     "execution_count": 6,
     "metadata": {},
     "output_type": "execute_result"
    }
   ],
   "source": [
    "data"
   ],
   "metadata": {
    "collapsed": false,
    "ExecuteTime": {
     "end_time": "2024-02-16T06:39:56.828312400Z",
     "start_time": "2024-02-16T06:39:56.781301300Z"
    }
   },
   "id": "8769da310a6be183",
   "execution_count": 6
  },
  {
   "cell_type": "markdown",
   "source": [
    "### longer stop duration"
   ],
   "metadata": {
    "collapsed": false
   },
   "id": "c574a8914f9d93c0"
  },
  {
   "cell_type": "code",
   "outputs": [],
   "source": [
    "data['stop_duration'] = (data['departure_on_time'] - data['arrival_on_time']).dt.total_seconds()/60"
   ],
   "metadata": {
    "collapsed": false,
    "ExecuteTime": {
     "end_time": "2024-02-15T12:20:07.068324300Z",
     "start_time": "2024-02-15T12:20:07.016803100Z"
    }
   },
   "id": "35e68e76fe2c8c72",
   "execution_count": 13
  },
  {
   "cell_type": "code",
   "outputs": [
    {
     "data": {
      "text/plain": "            pk                              Relacja              Stacja  \\\n114990    5076         Warszawa Wschodnia - Bohumin            Katowice   \n115051    5079        Kraków Główny - Gdynia Główna      Wrocław Główny   \n120002    5289  Frankfurt/Oder - Warszawa Wschodnia  Warszawa Centralna   \n120040    5290                   Katowice - Zwardoń         Sól Kiczora   \n120102    5292     Wrocław Główny - Przemyśl Główny             Radymno   \n...        ...                                  ...                 ...   \n959711   43731             Zakopane - Gdynia Główna       Kraków Główny   \n961262   43807             Zakopane - Gdynia Główna       Kraków Główny   \n1073062  49122           Rzeszów Główny - Przeworsk             Głuchów   \n1073129  49127            Wejherowo - Gdańsk Główny   Gdynia Leszczynki   \n1073276  49133               Kraków Główny - Tarnów     Kraków Bieżanów   \n\n         Opóźnienie przyjazdu  Opóźnienie odjazdu     arrival_on_time  \\\n114990                      8                   7 2022-11-20 23:58:00   \n115051                     14                   5 2022-11-20 23:27:00   \n120002                      2                   2 2022-11-24 23:53:00   \n120040                      1                   1 2022-11-24 23:59:30   \n120102                      1                   1 2022-11-24 23:59:30   \n...                       ...                 ...                 ...   \n959711                      0                   0 2022-12-30 23:36:00   \n961262                     17                   6 2022-12-31 23:36:00   \n1073062                     0                   0 2023-04-22 23:59:36   \n1073129                     1                   1 2023-04-22 23:59:42   \n1073276                     1                   1 2023-04-22 23:59:30   \n\n          departure_on_time        lat        lon  station_count  \\\n114990  2022-11-20 00:02:00  50.257607  19.017146             10   \n115051  2022-11-20 00:07:00  51.097968  17.037530             13   \n120002  2022-11-24 00:01:00  52.228833  21.002915              8   \n120040  2022-11-24 00:01:00  49.517164  19.031315             36   \n120102  2022-11-24 00:00:30  49.939721  22.828321             23   \n...                     ...        ...        ...            ...   \n959711  2022-12-30 00:06:00  50.068666  19.947802              7   \n961262  2022-12-31 00:06:00  50.068666  19.947802              7   \n1073062 2023-04-22 00:00:06  50.083469  22.279077              5   \n1073129 2023-04-22 00:00:06  54.541340  18.478510              9   \n1073276 2023-04-22 00:00:00  50.021694  20.029257              4   \n\n         how_many_stations  stop_duration  \n114990                  15        -1436.0  \n115051                  31        -1400.0  \n120002                  10        -1432.0  \n120040                  39        -1438.5  \n120102                  26        -1439.0  \n...                    ...            ...  \n959711                  32        -1410.0  \n961262                  32        -1410.0  \n1073062                 10        -1439.5  \n1073129                 27        -1439.6  \n1073276                 23        -1439.5  \n\n[102 rows x 12 columns]",
      "text/html": "<div>\n<style scoped>\n    .dataframe tbody tr th:only-of-type {\n        vertical-align: middle;\n    }\n\n    .dataframe tbody tr th {\n        vertical-align: top;\n    }\n\n    .dataframe thead th {\n        text-align: right;\n    }\n</style>\n<table border=\"1\" class=\"dataframe\">\n  <thead>\n    <tr style=\"text-align: right;\">\n      <th></th>\n      <th>pk</th>\n      <th>Relacja</th>\n      <th>Stacja</th>\n      <th>Opóźnienie przyjazdu</th>\n      <th>Opóźnienie odjazdu</th>\n      <th>arrival_on_time</th>\n      <th>departure_on_time</th>\n      <th>lat</th>\n      <th>lon</th>\n      <th>station_count</th>\n      <th>how_many_stations</th>\n      <th>stop_duration</th>\n    </tr>\n  </thead>\n  <tbody>\n    <tr>\n      <th>114990</th>\n      <td>5076</td>\n      <td>Warszawa Wschodnia - Bohumin</td>\n      <td>Katowice</td>\n      <td>8</td>\n      <td>7</td>\n      <td>2022-11-20 23:58:00</td>\n      <td>2022-11-20 00:02:00</td>\n      <td>50.257607</td>\n      <td>19.017146</td>\n      <td>10</td>\n      <td>15</td>\n      <td>-1436.0</td>\n    </tr>\n    <tr>\n      <th>115051</th>\n      <td>5079</td>\n      <td>Kraków Główny - Gdynia Główna</td>\n      <td>Wrocław Główny</td>\n      <td>14</td>\n      <td>5</td>\n      <td>2022-11-20 23:27:00</td>\n      <td>2022-11-20 00:07:00</td>\n      <td>51.097968</td>\n      <td>17.037530</td>\n      <td>13</td>\n      <td>31</td>\n      <td>-1400.0</td>\n    </tr>\n    <tr>\n      <th>120002</th>\n      <td>5289</td>\n      <td>Frankfurt/Oder - Warszawa Wschodnia</td>\n      <td>Warszawa Centralna</td>\n      <td>2</td>\n      <td>2</td>\n      <td>2022-11-24 23:53:00</td>\n      <td>2022-11-24 00:01:00</td>\n      <td>52.228833</td>\n      <td>21.002915</td>\n      <td>8</td>\n      <td>10</td>\n      <td>-1432.0</td>\n    </tr>\n    <tr>\n      <th>120040</th>\n      <td>5290</td>\n      <td>Katowice - Zwardoń</td>\n      <td>Sól Kiczora</td>\n      <td>1</td>\n      <td>1</td>\n      <td>2022-11-24 23:59:30</td>\n      <td>2022-11-24 00:01:00</td>\n      <td>49.517164</td>\n      <td>19.031315</td>\n      <td>36</td>\n      <td>39</td>\n      <td>-1438.5</td>\n    </tr>\n    <tr>\n      <th>120102</th>\n      <td>5292</td>\n      <td>Wrocław Główny - Przemyśl Główny</td>\n      <td>Radymno</td>\n      <td>1</td>\n      <td>1</td>\n      <td>2022-11-24 23:59:30</td>\n      <td>2022-11-24 00:00:30</td>\n      <td>49.939721</td>\n      <td>22.828321</td>\n      <td>23</td>\n      <td>26</td>\n      <td>-1439.0</td>\n    </tr>\n    <tr>\n      <th>...</th>\n      <td>...</td>\n      <td>...</td>\n      <td>...</td>\n      <td>...</td>\n      <td>...</td>\n      <td>...</td>\n      <td>...</td>\n      <td>...</td>\n      <td>...</td>\n      <td>...</td>\n      <td>...</td>\n      <td>...</td>\n    </tr>\n    <tr>\n      <th>959711</th>\n      <td>43731</td>\n      <td>Zakopane - Gdynia Główna</td>\n      <td>Kraków Główny</td>\n      <td>0</td>\n      <td>0</td>\n      <td>2022-12-30 23:36:00</td>\n      <td>2022-12-30 00:06:00</td>\n      <td>50.068666</td>\n      <td>19.947802</td>\n      <td>7</td>\n      <td>32</td>\n      <td>-1410.0</td>\n    </tr>\n    <tr>\n      <th>961262</th>\n      <td>43807</td>\n      <td>Zakopane - Gdynia Główna</td>\n      <td>Kraków Główny</td>\n      <td>17</td>\n      <td>6</td>\n      <td>2022-12-31 23:36:00</td>\n      <td>2022-12-31 00:06:00</td>\n      <td>50.068666</td>\n      <td>19.947802</td>\n      <td>7</td>\n      <td>32</td>\n      <td>-1410.0</td>\n    </tr>\n    <tr>\n      <th>1073062</th>\n      <td>49122</td>\n      <td>Rzeszów Główny - Przeworsk</td>\n      <td>Głuchów</td>\n      <td>0</td>\n      <td>0</td>\n      <td>2023-04-22 23:59:36</td>\n      <td>2023-04-22 00:00:06</td>\n      <td>50.083469</td>\n      <td>22.279077</td>\n      <td>5</td>\n      <td>10</td>\n      <td>-1439.5</td>\n    </tr>\n    <tr>\n      <th>1073129</th>\n      <td>49127</td>\n      <td>Wejherowo - Gdańsk Główny</td>\n      <td>Gdynia Leszczynki</td>\n      <td>1</td>\n      <td>1</td>\n      <td>2023-04-22 23:59:42</td>\n      <td>2023-04-22 00:00:06</td>\n      <td>54.541340</td>\n      <td>18.478510</td>\n      <td>9</td>\n      <td>27</td>\n      <td>-1439.6</td>\n    </tr>\n    <tr>\n      <th>1073276</th>\n      <td>49133</td>\n      <td>Kraków Główny - Tarnów</td>\n      <td>Kraków Bieżanów</td>\n      <td>1</td>\n      <td>1</td>\n      <td>2023-04-22 23:59:30</td>\n      <td>2023-04-22 00:00:00</td>\n      <td>50.021694</td>\n      <td>20.029257</td>\n      <td>4</td>\n      <td>23</td>\n      <td>-1439.5</td>\n    </tr>\n  </tbody>\n</table>\n<p>102 rows × 12 columns</p>\n</div>"
     },
     "execution_count": 19,
     "metadata": {},
     "output_type": "execute_result"
    }
   ],
   "source": [
    "data[data['stop_duration']"
   ],
   "metadata": {
    "collapsed": false,
    "ExecuteTime": {
     "end_time": "2024-02-15T12:21:11.094301800Z",
     "start_time": "2024-02-15T12:21:11.072296500Z"
    }
   },
   "id": "c07d45b276b88d9d",
   "execution_count": 19
  }
 ],
 "metadata": {
  "kernelspec": {
   "display_name": "Python 3",
   "language": "python",
   "name": "python3"
  },
  "language_info": {
   "codemirror_mode": {
    "name": "ipython",
    "version": 2
   },
   "file_extension": ".py",
   "mimetype": "text/x-python",
   "name": "python",
   "nbconvert_exporter": "python",
   "pygments_lexer": "ipython2",
   "version": "2.7.6"
  }
 },
 "nbformat": 4,
 "nbformat_minor": 5
}
