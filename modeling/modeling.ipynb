{
 "cells": [
  {
   "cell_type": "code",
   "execution_count": 1,
   "id": "initial_id",
   "metadata": {
    "collapsed": true,
    "ExecuteTime": {
     "end_time": "2024-02-15T11:50:55.558346100Z",
     "start_time": "2024-02-15T11:50:54.827444700Z"
    }
   },
   "outputs": [],
   "source": [
    "import pandas as pd\n",
    "import utils"
   ]
  },
  {
   "cell_type": "code",
   "outputs": [],
   "source": [
    "data = pd.read_parquet('../data/raw_data_delays.parquet')\n",
    "gps = pd.read_csv('../data/station_gps.csv')"
   ],
   "metadata": {
    "collapsed": false,
    "ExecuteTime": {
     "end_time": "2024-02-15T11:50:56.782213300Z",
     "start_time": "2024-02-15T11:50:56.211065600Z"
    }
   },
   "id": "f0ad4bba56ffe2f1",
   "execution_count": 2
  },
  {
   "cell_type": "code",
   "outputs": [],
   "source": [
    "data = utils.prepare_raw_data(data)\n",
    "data = pd.merge(data, gps, on='Stacja', how='left')"
   ],
   "metadata": {
    "collapsed": false,
    "ExecuteTime": {
     "end_time": "2024-02-15T11:51:05.485107600Z",
     "start_time": "2024-02-15T11:50:57.424648Z"
    }
   },
   "id": "4cc9518684013f94",
   "execution_count": 3
  },
  {
   "cell_type": "markdown",
   "source": [],
   "metadata": {
    "collapsed": false
   },
   "id": "bb9b6ae81f1910cd"
  },
  {
   "cell_type": "code",
   "outputs": [
    {
     "data": {
      "text/plain": "            pk                                     Relacja  \\\n0            1                  Przeworsk - Rzeszów Główny   \n1            1                  Przeworsk - Rzeszów Główny   \n2            1                  Przeworsk - Rzeszów Główny   \n3            1                  Przeworsk - Rzeszów Główny   \n4            1                  Przeworsk - Rzeszów Główny   \n...        ...                                         ...   \n1138205  52128  Kraków Lotnisko - Wieliczka Rynek-Kopalnia   \n1138206  52128  Kraków Lotnisko - Wieliczka Rynek-Kopalnia   \n1138207  52128  Kraków Lotnisko - Wieliczka Rynek-Kopalnia   \n1138208  52128  Kraków Lotnisko - Wieliczka Rynek-Kopalnia   \n1138209  52128  Kraków Lotnisko - Wieliczka Rynek-Kopalnia   \n\n                              Stacja  Opóźnienie przyjazdu  \\\n0                          Przeworsk                     0   \n1                            Grzęska                     0   \n2               Rogóżno koło Łańcuta                     0   \n3                             Kosina                     0   \n4                            Głuchów                     0   \n...                              ...                   ...   \n1138205              Kraków Bieżanów                     0   \n1138206  Kraków Bieżanów Drożdżownia                     0   \n1138207           Wieliczka Bogucice                     0   \n1138208               Wieliczka Park                     0   \n1138209     Wieliczka Rynek-Kopalnia                     0   \n\n         Opóźnienie odjazdu     arrival_on_time   departure_on_time  \\\n0                         0 2022-12-01 06:55:00 2022-12-01 06:55:00   \n1                         0 2022-12-01 06:58:30 2022-12-01 06:59:00   \n2                         0 2022-12-01 07:03:00 2022-12-01 07:03:30   \n3                         0 2022-12-01 07:06:30 2022-12-01 07:07:00   \n4                         0 2022-12-01 07:09:30 2022-12-01 07:10:00   \n...                     ...                 ...                 ...   \n1138205                   0 2023-04-23 08:52:12 2023-04-23 08:52:42   \n1138206                   0 2023-04-23 08:55:00 2023-04-23 08:55:30   \n1138207                   0 2023-04-23 08:57:24 2023-04-23 08:57:54   \n1138208                   0 2023-04-23 09:00:06 2023-04-23 09:00:36   \n1138209                   0 2023-04-23 09:02:00 2023-04-23 09:02:00   \n\n               lat        lon  \n0        50.067161  22.503232  \n1        50.080037  22.452564  \n2        50.083573  22.362513  \n3        50.083570  22.322846  \n4        50.083469  22.279077  \n...            ...        ...  \n1138205  50.021694  20.029257  \n1138206  50.010696  20.035373  \n1138207  49.998474  20.036696  \n1138208  49.989105  20.049334  \n1138209  49.985644  20.056648  \n\n[1138210 rows x 9 columns]",
      "text/html": "<div>\n<style scoped>\n    .dataframe tbody tr th:only-of-type {\n        vertical-align: middle;\n    }\n\n    .dataframe tbody tr th {\n        vertical-align: top;\n    }\n\n    .dataframe thead th {\n        text-align: right;\n    }\n</style>\n<table border=\"1\" class=\"dataframe\">\n  <thead>\n    <tr style=\"text-align: right;\">\n      <th></th>\n      <th>pk</th>\n      <th>Relacja</th>\n      <th>Stacja</th>\n      <th>Opóźnienie przyjazdu</th>\n      <th>Opóźnienie odjazdu</th>\n      <th>arrival_on_time</th>\n      <th>departure_on_time</th>\n      <th>lat</th>\n      <th>lon</th>\n    </tr>\n  </thead>\n  <tbody>\n    <tr>\n      <th>0</th>\n      <td>1</td>\n      <td>Przeworsk - Rzeszów Główny</td>\n      <td>Przeworsk</td>\n      <td>0</td>\n      <td>0</td>\n      <td>2022-12-01 06:55:00</td>\n      <td>2022-12-01 06:55:00</td>\n      <td>50.067161</td>\n      <td>22.503232</td>\n    </tr>\n    <tr>\n      <th>1</th>\n      <td>1</td>\n      <td>Przeworsk - Rzeszów Główny</td>\n      <td>Grzęska</td>\n      <td>0</td>\n      <td>0</td>\n      <td>2022-12-01 06:58:30</td>\n      <td>2022-12-01 06:59:00</td>\n      <td>50.080037</td>\n      <td>22.452564</td>\n    </tr>\n    <tr>\n      <th>2</th>\n      <td>1</td>\n      <td>Przeworsk - Rzeszów Główny</td>\n      <td>Rogóżno koło Łańcuta</td>\n      <td>0</td>\n      <td>0</td>\n      <td>2022-12-01 07:03:00</td>\n      <td>2022-12-01 07:03:30</td>\n      <td>50.083573</td>\n      <td>22.362513</td>\n    </tr>\n    <tr>\n      <th>3</th>\n      <td>1</td>\n      <td>Przeworsk - Rzeszów Główny</td>\n      <td>Kosina</td>\n      <td>0</td>\n      <td>0</td>\n      <td>2022-12-01 07:06:30</td>\n      <td>2022-12-01 07:07:00</td>\n      <td>50.083570</td>\n      <td>22.322846</td>\n    </tr>\n    <tr>\n      <th>4</th>\n      <td>1</td>\n      <td>Przeworsk - Rzeszów Główny</td>\n      <td>Głuchów</td>\n      <td>0</td>\n      <td>0</td>\n      <td>2022-12-01 07:09:30</td>\n      <td>2022-12-01 07:10:00</td>\n      <td>50.083469</td>\n      <td>22.279077</td>\n    </tr>\n    <tr>\n      <th>...</th>\n      <td>...</td>\n      <td>...</td>\n      <td>...</td>\n      <td>...</td>\n      <td>...</td>\n      <td>...</td>\n      <td>...</td>\n      <td>...</td>\n      <td>...</td>\n    </tr>\n    <tr>\n      <th>1138205</th>\n      <td>52128</td>\n      <td>Kraków Lotnisko - Wieliczka Rynek-Kopalnia</td>\n      <td>Kraków Bieżanów</td>\n      <td>0</td>\n      <td>0</td>\n      <td>2023-04-23 08:52:12</td>\n      <td>2023-04-23 08:52:42</td>\n      <td>50.021694</td>\n      <td>20.029257</td>\n    </tr>\n    <tr>\n      <th>1138206</th>\n      <td>52128</td>\n      <td>Kraków Lotnisko - Wieliczka Rynek-Kopalnia</td>\n      <td>Kraków Bieżanów Drożdżownia</td>\n      <td>0</td>\n      <td>0</td>\n      <td>2023-04-23 08:55:00</td>\n      <td>2023-04-23 08:55:30</td>\n      <td>50.010696</td>\n      <td>20.035373</td>\n    </tr>\n    <tr>\n      <th>1138207</th>\n      <td>52128</td>\n      <td>Kraków Lotnisko - Wieliczka Rynek-Kopalnia</td>\n      <td>Wieliczka Bogucice</td>\n      <td>0</td>\n      <td>0</td>\n      <td>2023-04-23 08:57:24</td>\n      <td>2023-04-23 08:57:54</td>\n      <td>49.998474</td>\n      <td>20.036696</td>\n    </tr>\n    <tr>\n      <th>1138208</th>\n      <td>52128</td>\n      <td>Kraków Lotnisko - Wieliczka Rynek-Kopalnia</td>\n      <td>Wieliczka Park</td>\n      <td>0</td>\n      <td>0</td>\n      <td>2023-04-23 09:00:06</td>\n      <td>2023-04-23 09:00:36</td>\n      <td>49.989105</td>\n      <td>20.049334</td>\n    </tr>\n    <tr>\n      <th>1138209</th>\n      <td>52128</td>\n      <td>Kraków Lotnisko - Wieliczka Rynek-Kopalnia</td>\n      <td>Wieliczka Rynek-Kopalnia</td>\n      <td>0</td>\n      <td>0</td>\n      <td>2023-04-23 09:02:00</td>\n      <td>2023-04-23 09:02:00</td>\n      <td>49.985644</td>\n      <td>20.056648</td>\n    </tr>\n  </tbody>\n</table>\n<p>1138210 rows × 9 columns</p>\n</div>"
     },
     "execution_count": 7,
     "metadata": {},
     "output_type": "execute_result"
    }
   ],
   "source": [
    "test"
   ],
   "metadata": {
    "collapsed": false,
    "ExecuteTime": {
     "end_time": "2024-02-15T11:49:55.958744Z",
     "start_time": "2024-02-15T11:49:55.937466100Z"
    }
   },
   "id": "f386924d62a5d1bd",
   "execution_count": 7
  }
 ],
 "metadata": {
  "kernelspec": {
   "display_name": "Python 3",
   "language": "python",
   "name": "python3"
  },
  "language_info": {
   "codemirror_mode": {
    "name": "ipython",
    "version": 2
   },
   "file_extension": ".py",
   "mimetype": "text/x-python",
   "name": "python",
   "nbconvert_exporter": "python",
   "pygments_lexer": "ipython2",
   "version": "2.7.6"
  }
 },
 "nbformat": 4,
 "nbformat_minor": 5
}
