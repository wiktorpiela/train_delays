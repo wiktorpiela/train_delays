{
 "cells": [
  {
   "cell_type": "code",
   "execution_count": 1,
   "id": "initial_id",
   "metadata": {
    "collapsed": true,
    "ExecuteTime": {
     "end_time": "2024-02-19T06:08:54.041957300Z",
     "start_time": "2024-02-19T06:08:45.470080900Z"
    }
   },
   "outputs": [],
   "source": [
    "import pandas as pd\n",
    "import numpy as np\n",
    "from utils.ModelingUtils import make_dummies, make_ml_target\n",
    "import matplotlib.pyplot as plt\n",
    "from sklearn.model_selection import train_test_split, GridSearchCV\n",
    "from catboost import CatBoostClassifier\n",
    "from sklearn.ensemble import RandomForestClassifier\n",
    "from sklearn.metrics import classification_report, roc_auc_score, roc_curve, auc\n",
    "from sklearn.preprocessing import label_binarize"
   ]
  },
  {
   "cell_type": "code",
   "outputs": [],
   "source": [
    "data = pd.read_parquet('../data/prepared_data.parquet')"
   ],
   "metadata": {
    "collapsed": false,
    "ExecuteTime": {
     "end_time": "2024-02-17T05:43:15.278276300Z",
     "start_time": "2024-02-17T05:43:14.659062700Z"
    }
   },
   "id": "f0ad4bba56ffe2f1",
   "execution_count": 4
  },
  {
   "cell_type": "markdown",
   "source": [
    "### make ml target"
   ],
   "metadata": {
    "collapsed": false
   },
   "id": "8d85a4c8aa99e159"
  },
  {
   "cell_type": "code",
   "outputs": [],
   "source": [
    "data = make_ml_target(data)\n",
    "data = make_dummies(data, 'near_city_station_name')"
   ],
   "metadata": {
    "collapsed": false,
    "ExecuteTime": {
     "end_time": "2024-02-17T05:43:16.429492700Z",
     "start_time": "2024-02-17T05:43:15.973485800Z"
    }
   },
   "id": "9f771abed5be35b4",
   "execution_count": 5
  },
  {
   "cell_type": "code",
   "outputs": [],
   "source": [
    "y = data['ML_TARGET'].values\n",
    "# y = label_binarize(y, classes=[0,1,2,3])\n",
    "# n_classes = y.shape[1]\n",
    "\n",
    "X = data.iloc[:,9:].drop('ML_TARGET', axis=1)\n",
    "X_train, X_test, y_train, y_test = train_test_split(X, y, test_size=0.2, random_state=123)"
   ],
   "metadata": {
    "collapsed": false,
    "ExecuteTime": {
     "end_time": "2024-02-17T05:43:18.391190400Z",
     "start_time": "2024-02-17T05:43:17.237810500Z"
    }
   },
   "id": "7cda94c4ab90d83c",
   "execution_count": 6
  },
  {
   "cell_type": "code",
   "outputs": [
    {
     "name": "stdout",
     "output_type": "stream",
     "text": [
      "Learning rate set to 0.112008\n",
      "0:\tlearn: 1.1740528\ttotal: 3.38s\tremaining: 56m 13s\n",
      "1:\tlearn: 1.0305080\ttotal: 6.46s\tremaining: 53m 46s\n",
      "2:\tlearn: 0.9265809\ttotal: 9.67s\tremaining: 53m 35s\n",
      "3:\tlearn: 0.8471693\ttotal: 12.8s\tremaining: 53m 13s\n",
      "4:\tlearn: 0.7836545\ttotal: 16.3s\tremaining: 54m 2s\n",
      "5:\tlearn: 0.7322920\ttotal: 19.1s\tremaining: 52m 37s\n",
      "6:\tlearn: 0.6896603\ttotal: 22.3s\tremaining: 52m 48s\n",
      "7:\tlearn: 0.6542049\ttotal: 25.7s\tremaining: 53m 1s\n",
      "8:\tlearn: 0.6246839\ttotal: 29.2s\tremaining: 53m 39s\n",
      "9:\tlearn: 0.5998032\ttotal: 32.7s\tremaining: 53m 56s\n",
      "10:\tlearn: 0.5790403\ttotal: 35.9s\tremaining: 53m 49s\n",
      "11:\tlearn: 0.5606539\ttotal: 39.8s\tremaining: 54m 37s\n",
      "12:\tlearn: 0.5449211\ttotal: 43.1s\tremaining: 54m 33s\n",
      "13:\tlearn: 0.5315532\ttotal: 46s\tremaining: 53m 59s\n",
      "14:\tlearn: 0.5194860\ttotal: 49.3s\tremaining: 53m 59s\n",
      "15:\tlearn: 0.5097106\ttotal: 52.2s\tremaining: 53m 29s\n",
      "16:\tlearn: 0.5008574\ttotal: 54.3s\tremaining: 52m 18s\n",
      "17:\tlearn: 0.4928348\ttotal: 56.4s\tremaining: 51m 16s\n",
      "18:\tlearn: 0.4861271\ttotal: 58.2s\tremaining: 50m 7s\n",
      "19:\tlearn: 0.4803768\ttotal: 59.8s\tremaining: 48m 49s\n",
      "20:\tlearn: 0.4752318\ttotal: 1m 1s\tremaining: 47m 39s\n",
      "21:\tlearn: 0.4703063\ttotal: 1m 2s\tremaining: 46m 36s\n",
      "22:\tlearn: 0.4659360\ttotal: 1m 4s\tremaining: 45m 37s\n",
      "23:\tlearn: 0.4622282\ttotal: 1m 5s\tremaining: 44m 42s\n",
      "24:\tlearn: 0.4590168\ttotal: 1m 7s\tremaining: 43m 51s\n",
      "25:\tlearn: 0.4563405\ttotal: 1m 9s\tremaining: 43m 5s\n",
      "26:\tlearn: 0.4539039\ttotal: 1m 10s\tremaining: 42m 22s\n",
      "27:\tlearn: 0.4518312\ttotal: 1m 12s\tremaining: 41m 48s\n",
      "28:\tlearn: 0.4492297\ttotal: 1m 13s\tremaining: 41m 10s\n",
      "29:\tlearn: 0.4470186\ttotal: 1m 15s\tremaining: 40m 35s\n",
      "30:\tlearn: 0.4450484\ttotal: 1m 16s\tremaining: 40m 5s\n",
      "31:\tlearn: 0.4434832\ttotal: 1m 18s\tremaining: 39m 34s\n",
      "32:\tlearn: 0.4423678\ttotal: 1m 20s\tremaining: 39m 6s\n",
      "33:\tlearn: 0.4408825\ttotal: 1m 21s\tremaining: 38m 40s\n",
      "34:\tlearn: 0.4389972\ttotal: 1m 23s\tremaining: 38m 16s\n",
      "35:\tlearn: 0.4378242\ttotal: 1m 24s\tremaining: 37m 53s\n",
      "36:\tlearn: 0.4364256\ttotal: 1m 26s\tremaining: 37m 30s\n",
      "37:\tlearn: 0.4355714\ttotal: 1m 28s\tremaining: 37m 12s\n",
      "38:\tlearn: 0.4343036\ttotal: 1m 30s\tremaining: 37m 4s\n",
      "39:\tlearn: 0.4333987\ttotal: 1m 32s\tremaining: 37m 5s\n",
      "40:\tlearn: 0.4324848\ttotal: 1m 35s\tremaining: 37m 4s\n",
      "41:\tlearn: 0.4318016\ttotal: 1m 37s\tremaining: 37m 3s\n",
      "42:\tlearn: 0.4312570\ttotal: 1m 39s\tremaining: 37m 1s\n",
      "43:\tlearn: 0.4306478\ttotal: 1m 42s\tremaining: 37m 3s\n",
      "44:\tlearn: 0.4301641\ttotal: 1m 44s\tremaining: 37m 8s\n",
      "45:\tlearn: 0.4295571\ttotal: 1m 47s\tremaining: 37m 17s\n",
      "46:\tlearn: 0.4287120\ttotal: 1m 50s\tremaining: 37m 16s\n",
      "47:\tlearn: 0.4283036\ttotal: 1m 52s\tremaining: 37m 18s\n",
      "48:\tlearn: 0.4276961\ttotal: 1m 55s\tremaining: 37m 16s\n",
      "49:\tlearn: 0.4272717\ttotal: 1m 57s\tremaining: 37m 15s\n",
      "50:\tlearn: 0.4266067\ttotal: 1m 59s\tremaining: 37m 12s\n",
      "51:\tlearn: 0.4260670\ttotal: 2m 2s\tremaining: 37m 10s\n",
      "52:\tlearn: 0.4253065\ttotal: 2m 4s\tremaining: 37m 9s\n",
      "53:\tlearn: 0.4250103\ttotal: 2m 7s\tremaining: 37m 10s\n",
      "54:\tlearn: 0.4242401\ttotal: 2m 10s\tremaining: 37m 22s\n",
      "55:\tlearn: 0.4236051\ttotal: 2m 13s\tremaining: 37m 29s\n",
      "56:\tlearn: 0.4227503\ttotal: 2m 16s\tremaining: 37m 38s\n",
      "57:\tlearn: 0.4222061\ttotal: 2m 19s\tremaining: 37m 45s\n",
      "58:\tlearn: 0.4218517\ttotal: 2m 22s\tremaining: 37m 54s\n",
      "59:\tlearn: 0.4210437\ttotal: 2m 25s\tremaining: 38m\n",
      "60:\tlearn: 0.4207408\ttotal: 2m 28s\tremaining: 38m 10s\n",
      "61:\tlearn: 0.4203516\ttotal: 2m 31s\tremaining: 38m 15s\n",
      "62:\tlearn: 0.4196453\ttotal: 2m 34s\tremaining: 38m 23s\n",
      "63:\tlearn: 0.4192473\ttotal: 2m 38s\tremaining: 38m 33s\n",
      "64:\tlearn: 0.4189571\ttotal: 2m 41s\tremaining: 38m 39s\n",
      "65:\tlearn: 0.4185227\ttotal: 2m 44s\tremaining: 38m 44s\n",
      "66:\tlearn: 0.4177240\ttotal: 2m 46s\tremaining: 38m 38s\n",
      "67:\tlearn: 0.4172225\ttotal: 2m 48s\tremaining: 38m 27s\n",
      "68:\tlearn: 0.4168735\ttotal: 2m 50s\tremaining: 38m 14s\n",
      "69:\tlearn: 0.4165572\ttotal: 2m 51s\tremaining: 37m 59s\n",
      "70:\tlearn: 0.4162938\ttotal: 2m 53s\tremaining: 37m 44s\n",
      "71:\tlearn: 0.4157031\ttotal: 2m 54s\tremaining: 37m 30s\n",
      "72:\tlearn: 0.4152192\ttotal: 2m 56s\tremaining: 37m 17s\n",
      "73:\tlearn: 0.4145624\ttotal: 2m 57s\tremaining: 37m 3s\n",
      "74:\tlearn: 0.4139968\ttotal: 2m 59s\tremaining: 36m 51s\n",
      "75:\tlearn: 0.4136227\ttotal: 3m\tremaining: 36m 38s\n",
      "76:\tlearn: 0.4133662\ttotal: 3m 2s\tremaining: 36m 25s\n",
      "77:\tlearn: 0.4127247\ttotal: 3m 3s\tremaining: 36m 13s\n",
      "78:\tlearn: 0.4121339\ttotal: 3m 5s\tremaining: 36m 1s\n",
      "79:\tlearn: 0.4119013\ttotal: 3m 6s\tremaining: 35m 49s\n",
      "80:\tlearn: 0.4116004\ttotal: 3m 8s\tremaining: 35m 37s\n",
      "81:\tlearn: 0.4113685\ttotal: 3m 9s\tremaining: 35m 25s\n",
      "82:\tlearn: 0.4109550\ttotal: 3m 11s\tremaining: 35m 14s\n",
      "83:\tlearn: 0.4106785\ttotal: 3m 12s\tremaining: 35m 3s\n",
      "84:\tlearn: 0.4103592\ttotal: 3m 14s\tremaining: 34m 53s\n",
      "85:\tlearn: 0.4098617\ttotal: 3m 16s\tremaining: 34m 43s\n",
      "86:\tlearn: 0.4094223\ttotal: 3m 17s\tremaining: 34m 33s\n",
      "87:\tlearn: 0.4089815\ttotal: 3m 19s\tremaining: 34m 23s\n",
      "88:\tlearn: 0.4085991\ttotal: 3m 20s\tremaining: 34m 13s\n",
      "89:\tlearn: 0.4080633\ttotal: 3m 22s\tremaining: 34m 4s\n",
      "90:\tlearn: 0.4076017\ttotal: 3m 23s\tremaining: 33m 55s\n",
      "91:\tlearn: 0.4073041\ttotal: 3m 25s\tremaining: 33m 45s\n",
      "92:\tlearn: 0.4070208\ttotal: 3m 26s\tremaining: 33m 36s\n",
      "93:\tlearn: 0.4065013\ttotal: 3m 28s\tremaining: 33m 28s\n",
      "94:\tlearn: 0.4063051\ttotal: 3m 29s\tremaining: 33m 18s\n",
      "95:\tlearn: 0.4060831\ttotal: 3m 31s\tremaining: 33m 10s\n",
      "96:\tlearn: 0.4056085\ttotal: 3m 32s\tremaining: 33m 2s\n",
      "97:\tlearn: 0.4053988\ttotal: 3m 34s\tremaining: 32m 53s\n",
      "98:\tlearn: 0.4050650\ttotal: 3m 35s\tremaining: 32m 45s\n",
      "99:\tlearn: 0.4048160\ttotal: 3m 37s\tremaining: 32m 37s\n",
      "100:\tlearn: 0.4043895\ttotal: 3m 39s\tremaining: 32m 29s\n",
      "101:\tlearn: 0.4042381\ttotal: 3m 40s\tremaining: 32m 21s\n",
      "102:\tlearn: 0.4039551\ttotal: 3m 42s\tremaining: 32m 14s\n",
      "103:\tlearn: 0.4036944\ttotal: 3m 43s\tremaining: 32m 6s\n",
      "104:\tlearn: 0.4033635\ttotal: 3m 45s\tremaining: 31m 59s\n",
      "105:\tlearn: 0.4029990\ttotal: 3m 46s\tremaining: 31m 52s\n",
      "106:\tlearn: 0.4024496\ttotal: 3m 48s\tremaining: 31m 45s\n",
      "107:\tlearn: 0.4021446\ttotal: 3m 49s\tremaining: 31m 38s\n",
      "108:\tlearn: 0.4017713\ttotal: 3m 51s\tremaining: 31m 32s\n",
      "109:\tlearn: 0.4015594\ttotal: 3m 53s\tremaining: 31m 25s\n",
      "110:\tlearn: 0.4011743\ttotal: 3m 54s\tremaining: 31m 19s\n",
      "111:\tlearn: 0.4008747\ttotal: 3m 56s\tremaining: 31m 13s\n",
      "112:\tlearn: 0.4003953\ttotal: 3m 57s\tremaining: 31m 6s\n",
      "113:\tlearn: 0.3997213\ttotal: 3m 59s\tremaining: 31m\n",
      "114:\tlearn: 0.3994720\ttotal: 4m\tremaining: 30m 53s\n",
      "115:\tlearn: 0.3993171\ttotal: 4m 2s\tremaining: 30m 46s\n",
      "116:\tlearn: 0.3985192\ttotal: 4m 3s\tremaining: 30m 40s\n",
      "117:\tlearn: 0.3980349\ttotal: 4m 5s\tremaining: 30m 34s\n",
      "118:\tlearn: 0.3975285\ttotal: 4m 6s\tremaining: 30m 27s\n",
      "119:\tlearn: 0.3971612\ttotal: 4m 8s\tremaining: 30m 21s\n",
      "120:\tlearn: 0.3967800\ttotal: 4m 9s\tremaining: 30m 15s\n",
      "121:\tlearn: 0.3964954\ttotal: 4m 12s\tremaining: 30m 15s\n",
      "122:\tlearn: 0.3962769\ttotal: 4m 14s\tremaining: 30m 15s\n",
      "123:\tlearn: 0.3960821\ttotal: 4m 17s\tremaining: 30m 19s\n",
      "124:\tlearn: 0.3952674\ttotal: 4m 20s\tremaining: 30m 21s\n",
      "125:\tlearn: 0.3950868\ttotal: 4m 22s\tremaining: 30m 23s\n",
      "126:\tlearn: 0.3948906\ttotal: 4m 26s\tremaining: 30m 28s\n",
      "127:\tlearn: 0.3947083\ttotal: 4m 28s\tremaining: 30m 29s\n",
      "128:\tlearn: 0.3945803\ttotal: 4m 30s\tremaining: 30m 28s\n",
      "129:\tlearn: 0.3944393\ttotal: 4m 33s\tremaining: 30m 28s\n",
      "130:\tlearn: 0.3941720\ttotal: 4m 35s\tremaining: 30m 29s\n",
      "131:\tlearn: 0.3938570\ttotal: 4m 38s\tremaining: 30m 29s\n",
      "132:\tlearn: 0.3933308\ttotal: 4m 40s\tremaining: 30m 29s\n",
      "133:\tlearn: 0.3930970\ttotal: 4m 43s\tremaining: 30m 29s\n",
      "134:\tlearn: 0.3927241\ttotal: 4m 45s\tremaining: 30m 29s\n",
      "135:\tlearn: 0.3925309\ttotal: 4m 48s\tremaining: 30m 29s\n",
      "136:\tlearn: 0.3920246\ttotal: 4m 50s\tremaining: 30m 30s\n",
      "137:\tlearn: 0.3917631\ttotal: 4m 52s\tremaining: 30m 28s\n",
      "138:\tlearn: 0.3913869\ttotal: 4m 54s\tremaining: 30m 25s\n",
      "139:\tlearn: 0.3911905\ttotal: 4m 57s\tremaining: 30m 25s\n",
      "140:\tlearn: 0.3907761\ttotal: 4m 59s\tremaining: 30m 21s\n",
      "141:\tlearn: 0.3903262\ttotal: 5m\tremaining: 30m 16s\n",
      "142:\tlearn: 0.3899500\ttotal: 5m 2s\tremaining: 30m 11s\n",
      "143:\tlearn: 0.3896509\ttotal: 5m 3s\tremaining: 30m 5s\n",
      "144:\tlearn: 0.3890663\ttotal: 5m 5s\tremaining: 30m\n",
      "145:\tlearn: 0.3886172\ttotal: 5m 6s\tremaining: 29m 55s\n",
      "146:\tlearn: 0.3883729\ttotal: 5m 8s\tremaining: 29m 49s\n",
      "147:\tlearn: 0.3881030\ttotal: 5m 9s\tremaining: 29m 44s\n",
      "148:\tlearn: 0.3876414\ttotal: 5m 11s\tremaining: 29m 39s\n",
      "149:\tlearn: 0.3873221\ttotal: 5m 13s\tremaining: 29m 33s\n",
      "150:\tlearn: 0.3871201\ttotal: 5m 14s\tremaining: 29m 28s\n",
      "151:\tlearn: 0.3865335\ttotal: 5m 16s\tremaining: 29m 23s\n",
      "152:\tlearn: 0.3862324\ttotal: 5m 17s\tremaining: 29m 17s\n",
      "153:\tlearn: 0.3857911\ttotal: 5m 19s\tremaining: 29m 12s\n",
      "154:\tlearn: 0.3855589\ttotal: 5m 20s\tremaining: 29m 7s\n",
      "155:\tlearn: 0.3853078\ttotal: 5m 22s\tremaining: 29m 2s\n",
      "156:\tlearn: 0.3850988\ttotal: 5m 23s\tremaining: 28m 56s\n",
      "157:\tlearn: 0.3848617\ttotal: 5m 25s\tremaining: 28m 52s\n",
      "158:\tlearn: 0.3847340\ttotal: 5m 26s\tremaining: 28m 47s\n",
      "159:\tlearn: 0.3844362\ttotal: 5m 28s\tremaining: 28m 42s\n",
      "160:\tlearn: 0.3840163\ttotal: 5m 29s\tremaining: 28m 37s\n",
      "161:\tlearn: 0.3834614\ttotal: 5m 31s\tremaining: 28m 32s\n",
      "162:\tlearn: 0.3831158\ttotal: 5m 32s\tremaining: 28m 27s\n",
      "163:\tlearn: 0.3825872\ttotal: 5m 34s\tremaining: 28m 23s\n",
      "164:\tlearn: 0.3822513\ttotal: 5m 35s\tremaining: 28m 19s\n",
      "165:\tlearn: 0.3819399\ttotal: 5m 37s\tremaining: 28m 14s\n",
      "166:\tlearn: 0.3817344\ttotal: 5m 38s\tremaining: 28m 9s\n",
      "167:\tlearn: 0.3814615\ttotal: 5m 40s\tremaining: 28m 5s\n",
      "168:\tlearn: 0.3811753\ttotal: 5m 41s\tremaining: 28m 1s\n",
      "169:\tlearn: 0.3806781\ttotal: 5m 43s\tremaining: 27m 56s\n",
      "170:\tlearn: 0.3801001\ttotal: 5m 44s\tremaining: 27m 52s\n",
      "171:\tlearn: 0.3799055\ttotal: 5m 46s\tremaining: 27m 47s\n",
      "172:\tlearn: 0.3795199\ttotal: 5m 47s\tremaining: 27m 43s\n",
      "173:\tlearn: 0.3793796\ttotal: 5m 49s\tremaining: 27m 38s\n",
      "174:\tlearn: 0.3791389\ttotal: 5m 50s\tremaining: 27m 34s\n",
      "175:\tlearn: 0.3788862\ttotal: 5m 52s\tremaining: 27m 30s\n",
      "176:\tlearn: 0.3786978\ttotal: 5m 54s\tremaining: 27m 26s\n",
      "177:\tlearn: 0.3785652\ttotal: 5m 55s\tremaining: 27m 21s\n",
      "178:\tlearn: 0.3782409\ttotal: 5m 57s\tremaining: 27m 17s\n",
      "179:\tlearn: 0.3779732\ttotal: 5m 58s\tremaining: 27m 13s\n",
      "180:\tlearn: 0.3778014\ttotal: 6m\tremaining: 27m 9s\n",
      "181:\tlearn: 0.3773571\ttotal: 6m 1s\tremaining: 27m 4s\n",
      "182:\tlearn: 0.3769910\ttotal: 6m 3s\tremaining: 27m\n",
      "183:\tlearn: 0.3766387\ttotal: 6m 4s\tremaining: 26m 56s\n",
      "184:\tlearn: 0.3764408\ttotal: 6m 6s\tremaining: 26m 53s\n",
      "185:\tlearn: 0.3761563\ttotal: 6m 7s\tremaining: 26m 49s\n",
      "186:\tlearn: 0.3757617\ttotal: 6m 9s\tremaining: 26m 45s\n",
      "187:\tlearn: 0.3755889\ttotal: 6m 10s\tremaining: 26m 41s\n",
      "188:\tlearn: 0.3753817\ttotal: 6m 12s\tremaining: 26m 37s\n",
      "189:\tlearn: 0.3749467\ttotal: 6m 13s\tremaining: 26m 33s\n",
      "190:\tlearn: 0.3744693\ttotal: 6m 15s\tremaining: 26m 29s\n",
      "191:\tlearn: 0.3741894\ttotal: 6m 16s\tremaining: 26m 25s\n",
      "192:\tlearn: 0.3739099\ttotal: 6m 18s\tremaining: 26m 21s\n",
      "193:\tlearn: 0.3736293\ttotal: 6m 19s\tremaining: 26m 17s\n",
      "194:\tlearn: 0.3733513\ttotal: 6m 21s\tremaining: 26m 14s\n",
      "195:\tlearn: 0.3731302\ttotal: 6m 22s\tremaining: 26m 10s\n",
      "196:\tlearn: 0.3729464\ttotal: 6m 24s\tremaining: 26m 6s\n",
      "197:\tlearn: 0.3727935\ttotal: 6m 25s\tremaining: 26m 2s\n",
      "198:\tlearn: 0.3725902\ttotal: 6m 27s\tremaining: 25m 58s\n",
      "199:\tlearn: 0.3724712\ttotal: 6m 28s\tremaining: 25m 55s\n",
      "200:\tlearn: 0.3721380\ttotal: 6m 30s\tremaining: 25m 52s\n",
      "201:\tlearn: 0.3718689\ttotal: 6m 31s\tremaining: 25m 48s\n",
      "202:\tlearn: 0.3717153\ttotal: 6m 33s\tremaining: 25m 44s\n",
      "203:\tlearn: 0.3714319\ttotal: 6m 34s\tremaining: 25m 41s\n",
      "204:\tlearn: 0.3712875\ttotal: 6m 36s\tremaining: 25m 37s\n",
      "205:\tlearn: 0.3711265\ttotal: 6m 37s\tremaining: 25m 33s\n",
      "206:\tlearn: 0.3710016\ttotal: 6m 39s\tremaining: 25m 30s\n",
      "207:\tlearn: 0.3707703\ttotal: 6m 40s\tremaining: 25m 26s\n",
      "208:\tlearn: 0.3706272\ttotal: 6m 42s\tremaining: 25m 23s\n",
      "209:\tlearn: 0.3704037\ttotal: 6m 44s\tremaining: 25m 19s\n",
      "210:\tlearn: 0.3701606\ttotal: 6m 45s\tremaining: 25m 16s\n",
      "211:\tlearn: 0.3698721\ttotal: 6m 47s\tremaining: 25m 13s\n",
      "212:\tlearn: 0.3696292\ttotal: 6m 48s\tremaining: 25m 9s\n",
      "213:\tlearn: 0.3693323\ttotal: 6m 50s\tremaining: 25m 6s\n",
      "214:\tlearn: 0.3692130\ttotal: 6m 51s\tremaining: 25m 3s\n",
      "215:\tlearn: 0.3690694\ttotal: 6m 53s\tremaining: 24m 59s\n",
      "216:\tlearn: 0.3688773\ttotal: 6m 54s\tremaining: 24m 56s\n",
      "217:\tlearn: 0.3685764\ttotal: 6m 56s\tremaining: 24m 53s\n",
      "218:\tlearn: 0.3683671\ttotal: 6m 57s\tremaining: 24m 49s\n",
      "219:\tlearn: 0.3681806\ttotal: 6m 59s\tremaining: 24m 46s\n",
      "220:\tlearn: 0.3679273\ttotal: 7m\tremaining: 24m 43s\n",
      "221:\tlearn: 0.3676783\ttotal: 7m 2s\tremaining: 24m 40s\n",
      "222:\tlearn: 0.3674735\ttotal: 7m 3s\tremaining: 24m 36s\n",
      "223:\tlearn: 0.3672041\ttotal: 7m 5s\tremaining: 24m 33s\n",
      "224:\tlearn: 0.3670447\ttotal: 7m 6s\tremaining: 24m 30s\n",
      "225:\tlearn: 0.3666729\ttotal: 7m 8s\tremaining: 24m 27s\n",
      "226:\tlearn: 0.3663295\ttotal: 7m 10s\tremaining: 24m 24s\n",
      "227:\tlearn: 0.3660115\ttotal: 7m 11s\tremaining: 24m 21s\n",
      "228:\tlearn: 0.3659130\ttotal: 7m 13s\tremaining: 24m 18s\n",
      "229:\tlearn: 0.3656058\ttotal: 7m 14s\tremaining: 24m 15s\n",
      "230:\tlearn: 0.3653867\ttotal: 7m 16s\tremaining: 24m 12s\n",
      "231:\tlearn: 0.3650948\ttotal: 7m 17s\tremaining: 24m 9s\n",
      "232:\tlearn: 0.3648248\ttotal: 7m 19s\tremaining: 24m 6s\n",
      "233:\tlearn: 0.3644369\ttotal: 7m 20s\tremaining: 24m 2s\n",
      "234:\tlearn: 0.3642857\ttotal: 7m 22s\tremaining: 23m 59s\n",
      "235:\tlearn: 0.3639849\ttotal: 7m 23s\tremaining: 23m 56s\n",
      "236:\tlearn: 0.3638046\ttotal: 7m 24s\tremaining: 23m 52s\n",
      "237:\tlearn: 0.3636494\ttotal: 7m 26s\tremaining: 23m 49s\n",
      "238:\tlearn: 0.3632721\ttotal: 7m 27s\tremaining: 23m 46s\n",
      "239:\tlearn: 0.3630200\ttotal: 7m 29s\tremaining: 23m 43s\n",
      "240:\tlearn: 0.3627262\ttotal: 7m 30s\tremaining: 23m 40s\n",
      "241:\tlearn: 0.3626483\ttotal: 7m 32s\tremaining: 23m 37s\n",
      "242:\tlearn: 0.3625165\ttotal: 7m 33s\tremaining: 23m 34s\n",
      "243:\tlearn: 0.3622949\ttotal: 7m 35s\tremaining: 23m 31s\n",
      "244:\tlearn: 0.3621185\ttotal: 7m 37s\tremaining: 23m 28s\n",
      "245:\tlearn: 0.3617374\ttotal: 7m 38s\tremaining: 23m 25s\n",
      "246:\tlearn: 0.3614621\ttotal: 7m 40s\tremaining: 23m 22s\n",
      "247:\tlearn: 0.3612280\ttotal: 7m 41s\tremaining: 23m 19s\n",
      "248:\tlearn: 0.3609490\ttotal: 7m 43s\tremaining: 23m 16s\n",
      "249:\tlearn: 0.3607905\ttotal: 7m 44s\tremaining: 23m 13s\n",
      "250:\tlearn: 0.3605223\ttotal: 7m 46s\tremaining: 23m 10s\n",
      "251:\tlearn: 0.3604193\ttotal: 7m 47s\tremaining: 23m 7s\n",
      "252:\tlearn: 0.3602938\ttotal: 7m 49s\tremaining: 23m 5s\n",
      "253:\tlearn: 0.3601794\ttotal: 7m 50s\tremaining: 23m 2s\n",
      "254:\tlearn: 0.3597482\ttotal: 7m 52s\tremaining: 22m 59s\n",
      "255:\tlearn: 0.3596118\ttotal: 7m 53s\tremaining: 22m 56s\n",
      "256:\tlearn: 0.3592712\ttotal: 7m 55s\tremaining: 22m 53s\n",
      "257:\tlearn: 0.3589821\ttotal: 7m 56s\tremaining: 22m 50s\n",
      "258:\tlearn: 0.3588721\ttotal: 7m 58s\tremaining: 22m 48s\n",
      "259:\tlearn: 0.3587635\ttotal: 8m 1s\tremaining: 22m 49s\n",
      "260:\tlearn: 0.3586149\ttotal: 8m 4s\tremaining: 22m 51s\n",
      "261:\tlearn: 0.3583845\ttotal: 8m 7s\tremaining: 22m 52s\n",
      "262:\tlearn: 0.3582606\ttotal: 8m 10s\tremaining: 22m 54s\n",
      "263:\tlearn: 0.3581360\ttotal: 8m 13s\tremaining: 22m 56s\n",
      "264:\tlearn: 0.3578705\ttotal: 8m 16s\tremaining: 22m 58s\n",
      "265:\tlearn: 0.3577692\ttotal: 8m 20s\tremaining: 22m 59s\n",
      "266:\tlearn: 0.3576039\ttotal: 8m 23s\tremaining: 23m 1s\n",
      "267:\tlearn: 0.3572607\ttotal: 8m 26s\tremaining: 23m 3s\n",
      "268:\tlearn: 0.3571446\ttotal: 8m 29s\tremaining: 23m 5s\n",
      "269:\tlearn: 0.3570944\ttotal: 8m 33s\tremaining: 23m 7s\n",
      "270:\tlearn: 0.3569638\ttotal: 8m 35s\tremaining: 23m 6s\n",
      "271:\tlearn: 0.3566752\ttotal: 8m 37s\tremaining: 23m 4s\n",
      "272:\tlearn: 0.3565763\ttotal: 8m 39s\tremaining: 23m 2s\n",
      "273:\tlearn: 0.3564113\ttotal: 8m 40s\tremaining: 22m 59s\n",
      "274:\tlearn: 0.3561416\ttotal: 8m 42s\tremaining: 22m 56s\n",
      "275:\tlearn: 0.3559549\ttotal: 8m 43s\tremaining: 22m 53s\n",
      "276:\tlearn: 0.3558202\ttotal: 8m 45s\tremaining: 22m 50s\n",
      "277:\tlearn: 0.3555473\ttotal: 8m 46s\tremaining: 22m 47s\n",
      "278:\tlearn: 0.3553633\ttotal: 8m 48s\tremaining: 22m 45s\n",
      "279:\tlearn: 0.3551892\ttotal: 8m 49s\tremaining: 22m 42s\n",
      "280:\tlearn: 0.3550801\ttotal: 8m 51s\tremaining: 22m 39s\n",
      "281:\tlearn: 0.3546905\ttotal: 8m 52s\tremaining: 22m 36s\n",
      "282:\tlearn: 0.3545814\ttotal: 8m 54s\tremaining: 22m 33s\n",
      "283:\tlearn: 0.3544665\ttotal: 8m 55s\tremaining: 22m 30s\n",
      "284:\tlearn: 0.3542289\ttotal: 8m 57s\tremaining: 22m 27s\n",
      "285:\tlearn: 0.3538691\ttotal: 8m 58s\tremaining: 22m 25s\n",
      "286:\tlearn: 0.3535945\ttotal: 9m\tremaining: 22m 22s\n",
      "287:\tlearn: 0.3533662\ttotal: 9m 1s\tremaining: 22m 19s\n",
      "288:\tlearn: 0.3531892\ttotal: 9m 3s\tremaining: 22m 16s\n",
      "289:\tlearn: 0.3531191\ttotal: 9m 4s\tremaining: 22m 13s\n",
      "290:\tlearn: 0.3529417\ttotal: 9m 6s\tremaining: 22m 10s\n",
      "291:\tlearn: 0.3525482\ttotal: 9m 7s\tremaining: 22m 8s\n",
      "292:\tlearn: 0.3524327\ttotal: 9m 9s\tremaining: 22m 5s\n",
      "293:\tlearn: 0.3521498\ttotal: 9m 10s\tremaining: 22m 2s\n",
      "294:\tlearn: 0.3519629\ttotal: 9m 12s\tremaining: 21m 59s\n",
      "295:\tlearn: 0.3518741\ttotal: 9m 13s\tremaining: 21m 57s\n",
      "296:\tlearn: 0.3515158\ttotal: 9m 15s\tremaining: 21m 54s\n",
      "297:\tlearn: 0.3514283\ttotal: 9m 16s\tremaining: 21m 51s\n",
      "298:\tlearn: 0.3511675\ttotal: 9m 18s\tremaining: 21m 49s\n",
      "299:\tlearn: 0.3508599\ttotal: 9m 20s\tremaining: 21m 46s\n",
      "300:\tlearn: 0.3507783\ttotal: 9m 21s\tremaining: 21m 44s\n",
      "301:\tlearn: 0.3506771\ttotal: 9m 23s\tremaining: 21m 41s\n",
      "302:\tlearn: 0.3504536\ttotal: 9m 24s\tremaining: 21m 39s\n",
      "303:\tlearn: 0.3503438\ttotal: 9m 26s\tremaining: 21m 36s\n",
      "304:\tlearn: 0.3502122\ttotal: 9m 27s\tremaining: 21m 33s\n",
      "305:\tlearn: 0.3501097\ttotal: 9m 29s\tremaining: 21m 31s\n",
      "306:\tlearn: 0.3499275\ttotal: 9m 30s\tremaining: 21m 28s\n",
      "307:\tlearn: 0.3497678\ttotal: 9m 32s\tremaining: 21m 25s\n",
      "308:\tlearn: 0.3496571\ttotal: 9m 33s\tremaining: 21m 23s\n",
      "309:\tlearn: 0.3495661\ttotal: 9m 35s\tremaining: 21m 20s\n",
      "310:\tlearn: 0.3492759\ttotal: 9m 36s\tremaining: 21m 17s\n",
      "311:\tlearn: 0.3491125\ttotal: 9m 38s\tremaining: 21m 15s\n",
      "312:\tlearn: 0.3490176\ttotal: 9m 39s\tremaining: 21m 12s\n",
      "313:\tlearn: 0.3488393\ttotal: 9m 41s\tremaining: 21m 10s\n",
      "314:\tlearn: 0.3486483\ttotal: 9m 42s\tremaining: 21m 7s\n",
      "315:\tlearn: 0.3484014\ttotal: 9m 44s\tremaining: 21m 5s\n",
      "316:\tlearn: 0.3481243\ttotal: 9m 47s\tremaining: 21m 6s\n",
      "317:\tlearn: 0.3478990\ttotal: 9m 51s\tremaining: 21m 7s\n",
      "318:\tlearn: 0.3477134\ttotal: 9m 54s\tremaining: 21m 8s\n",
      "319:\tlearn: 0.3475384\ttotal: 9m 56s\tremaining: 21m 7s\n",
      "320:\tlearn: 0.3474430\ttotal: 9m 58s\tremaining: 21m 5s\n",
      "321:\tlearn: 0.3473226\ttotal: 10m\tremaining: 21m 4s\n",
      "322:\tlearn: 0.3472170\ttotal: 10m 3s\tremaining: 21m 5s\n",
      "323:\tlearn: 0.3471387\ttotal: 10m 5s\tremaining: 21m 3s\n",
      "324:\tlearn: 0.3470384\ttotal: 10m 7s\tremaining: 21m 1s\n",
      "325:\tlearn: 0.3469642\ttotal: 10m 9s\tremaining: 20m 59s\n",
      "326:\tlearn: 0.3468140\ttotal: 10m 10s\tremaining: 20m 56s\n",
      "327:\tlearn: 0.3465631\ttotal: 10m 12s\tremaining: 20m 55s\n",
      "328:\tlearn: 0.3462821\ttotal: 10m 14s\tremaining: 20m 53s\n",
      "329:\tlearn: 0.3460568\ttotal: 10m 16s\tremaining: 20m 52s\n",
      "330:\tlearn: 0.3458082\ttotal: 10m 18s\tremaining: 20m 50s\n",
      "331:\tlearn: 0.3457018\ttotal: 10m 20s\tremaining: 20m 47s\n",
      "332:\tlearn: 0.3455680\ttotal: 10m 21s\tremaining: 20m 45s\n",
      "333:\tlearn: 0.3454462\ttotal: 10m 24s\tremaining: 20m 44s\n",
      "334:\tlearn: 0.3453910\ttotal: 10m 26s\tremaining: 20m 43s\n",
      "335:\tlearn: 0.3452303\ttotal: 10m 28s\tremaining: 20m 42s\n",
      "336:\tlearn: 0.3451555\ttotal: 10m 30s\tremaining: 20m 41s\n",
      "337:\tlearn: 0.3449248\ttotal: 10m 32s\tremaining: 20m 38s\n",
      "338:\tlearn: 0.3444708\ttotal: 10m 34s\tremaining: 20m 37s\n",
      "339:\tlearn: 0.3443831\ttotal: 10m 37s\tremaining: 20m 37s\n",
      "340:\tlearn: 0.3441515\ttotal: 10m 39s\tremaining: 20m 35s\n",
      "341:\tlearn: 0.3439858\ttotal: 10m 41s\tremaining: 20m 34s\n",
      "342:\tlearn: 0.3437992\ttotal: 10m 43s\tremaining: 20m 31s\n",
      "343:\tlearn: 0.3436107\ttotal: 10m 45s\tremaining: 20m 30s\n",
      "344:\tlearn: 0.3433438\ttotal: 10m 47s\tremaining: 20m 28s\n",
      "345:\tlearn: 0.3432378\ttotal: 10m 48s\tremaining: 20m 26s\n",
      "346:\tlearn: 0.3429321\ttotal: 10m 50s\tremaining: 20m 24s\n",
      "347:\tlearn: 0.3428580\ttotal: 10m 52s\tremaining: 20m 21s\n",
      "348:\tlearn: 0.3425601\ttotal: 10m 53s\tremaining: 20m 19s\n",
      "349:\tlearn: 0.3424453\ttotal: 10m 56s\tremaining: 20m 18s\n",
      "350:\tlearn: 0.3422941\ttotal: 10m 58s\tremaining: 20m 17s\n",
      "351:\tlearn: 0.3421975\ttotal: 11m\tremaining: 20m 16s\n",
      "352:\tlearn: 0.3419268\ttotal: 11m 4s\tremaining: 20m 17s\n",
      "353:\tlearn: 0.3416716\ttotal: 11m 7s\tremaining: 20m 18s\n",
      "354:\tlearn: 0.3415712\ttotal: 11m 11s\tremaining: 20m 20s\n",
      "355:\tlearn: 0.3412889\ttotal: 11m 16s\tremaining: 20m 22s\n",
      "356:\tlearn: 0.3412051\ttotal: 11m 20s\tremaining: 20m 25s\n",
      "357:\tlearn: 0.3409693\ttotal: 11m 25s\tremaining: 20m 29s\n",
      "358:\tlearn: 0.3407491\ttotal: 11m 30s\tremaining: 20m 33s\n",
      "359:\tlearn: 0.3405881\ttotal: 11m 35s\tremaining: 20m 35s\n",
      "360:\tlearn: 0.3404508\ttotal: 11m 39s\tremaining: 20m 37s\n",
      "361:\tlearn: 0.3401762\ttotal: 11m 44s\tremaining: 20m 40s\n",
      "362:\tlearn: 0.3400234\ttotal: 11m 47s\tremaining: 20m 42s\n",
      "363:\tlearn: 0.3397679\ttotal: 11m 50s\tremaining: 20m 41s\n",
      "364:\tlearn: 0.3396558\ttotal: 11m 52s\tremaining: 20m 39s\n",
      "365:\tlearn: 0.3394134\ttotal: 11m 54s\tremaining: 20m 37s\n",
      "366:\tlearn: 0.3391618\ttotal: 11m 56s\tremaining: 20m 36s\n",
      "367:\tlearn: 0.3389452\ttotal: 11m 58s\tremaining: 20m 34s\n",
      "368:\tlearn: 0.3388402\ttotal: 12m\tremaining: 20m 32s\n",
      "369:\tlearn: 0.3387212\ttotal: 12m 3s\tremaining: 20m 32s\n",
      "370:\tlearn: 0.3385145\ttotal: 12m 7s\tremaining: 20m 33s\n",
      "371:\tlearn: 0.3382435\ttotal: 12m 11s\tremaining: 20m 34s\n",
      "372:\tlearn: 0.3380433\ttotal: 12m 16s\tremaining: 20m 37s\n",
      "373:\tlearn: 0.3378733\ttotal: 12m 20s\tremaining: 20m 38s\n",
      "374:\tlearn: 0.3377651\ttotal: 12m 24s\tremaining: 20m 40s\n",
      "375:\tlearn: 0.3375609\ttotal: 12m 28s\tremaining: 20m 42s\n",
      "376:\tlearn: 0.3374697\ttotal: 12m 31s\tremaining: 20m 42s\n",
      "377:\tlearn: 0.3373365\ttotal: 12m 35s\tremaining: 20m 43s\n",
      "378:\tlearn: 0.3370749\ttotal: 12m 40s\tremaining: 20m 45s\n",
      "379:\tlearn: 0.3368303\ttotal: 12m 43s\tremaining: 20m 45s\n",
      "380:\tlearn: 0.3367448\ttotal: 12m 47s\tremaining: 20m 46s\n",
      "381:\tlearn: 0.3366089\ttotal: 12m 50s\tremaining: 20m 46s\n",
      "382:\tlearn: 0.3364883\ttotal: 12m 54s\tremaining: 20m 47s\n",
      "383:\tlearn: 0.3362964\ttotal: 12m 58s\tremaining: 20m 48s\n",
      "384:\tlearn: 0.3359289\ttotal: 13m 2s\tremaining: 20m 49s\n",
      "385:\tlearn: 0.3357593\ttotal: 13m 5s\tremaining: 20m 49s\n",
      "386:\tlearn: 0.3356804\ttotal: 13m 7s\tremaining: 20m 48s\n",
      "387:\tlearn: 0.3354832\ttotal: 13m 11s\tremaining: 20m 47s\n",
      "388:\tlearn: 0.3354237\ttotal: 13m 13s\tremaining: 20m 46s\n",
      "389:\tlearn: 0.3353387\ttotal: 13m 17s\tremaining: 20m 46s\n",
      "390:\tlearn: 0.3352515\ttotal: 13m 20s\tremaining: 20m 47s\n",
      "391:\tlearn: 0.3351763\ttotal: 13m 24s\tremaining: 20m 47s\n",
      "392:\tlearn: 0.3350060\ttotal: 13m 28s\tremaining: 20m 48s\n",
      "393:\tlearn: 0.3346507\ttotal: 13m 31s\tremaining: 20m 48s\n",
      "394:\tlearn: 0.3345227\ttotal: 13m 35s\tremaining: 20m 48s\n",
      "395:\tlearn: 0.3341557\ttotal: 13m 38s\tremaining: 20m 48s\n",
      "396:\tlearn: 0.3339774\ttotal: 13m 42s\tremaining: 20m 48s\n",
      "397:\tlearn: 0.3338886\ttotal: 13m 45s\tremaining: 20m 49s\n",
      "398:\tlearn: 0.3337337\ttotal: 13m 49s\tremaining: 20m 49s\n",
      "399:\tlearn: 0.3335213\ttotal: 13m 52s\tremaining: 20m 49s\n",
      "400:\tlearn: 0.3334526\ttotal: 13m 55s\tremaining: 20m 48s\n",
      "401:\tlearn: 0.3331772\ttotal: 13m 59s\tremaining: 20m 48s\n",
      "402:\tlearn: 0.3330904\ttotal: 14m 2s\tremaining: 20m 48s\n",
      "403:\tlearn: 0.3328448\ttotal: 14m 6s\tremaining: 20m 48s\n",
      "404:\tlearn: 0.3326367\ttotal: 14m 8s\tremaining: 20m 46s\n",
      "405:\tlearn: 0.3324669\ttotal: 14m 11s\tremaining: 20m 46s\n",
      "406:\tlearn: 0.3322960\ttotal: 14m 15s\tremaining: 20m 46s\n",
      "407:\tlearn: 0.3322588\ttotal: 14m 18s\tremaining: 20m 45s\n",
      "408:\tlearn: 0.3319756\ttotal: 14m 21s\tremaining: 20m 44s\n",
      "409:\tlearn: 0.3318286\ttotal: 14m 24s\tremaining: 20m 44s\n",
      "410:\tlearn: 0.3317703\ttotal: 14m 27s\tremaining: 20m 42s\n",
      "411:\tlearn: 0.3316306\ttotal: 14m 30s\tremaining: 20m 42s\n",
      "412:\tlearn: 0.3314219\ttotal: 14m 34s\tremaining: 20m 42s\n",
      "413:\tlearn: 0.3311906\ttotal: 14m 40s\tremaining: 20m 45s\n",
      "414:\tlearn: 0.3310696\ttotal: 14m 45s\tremaining: 20m 48s\n",
      "415:\tlearn: 0.3309629\ttotal: 14m 51s\tremaining: 20m 51s\n",
      "416:\tlearn: 0.3308562\ttotal: 14m 58s\tremaining: 20m 55s\n",
      "417:\tlearn: 0.3307883\ttotal: 15m 2s\tremaining: 20m 56s\n",
      "418:\tlearn: 0.3305727\ttotal: 15m 8s\tremaining: 21m\n",
      "419:\tlearn: 0.3304181\ttotal: 15m 13s\tremaining: 21m 1s\n",
      "420:\tlearn: 0.3302936\ttotal: 15m 16s\tremaining: 21m\n",
      "421:\tlearn: 0.3301362\ttotal: 15m 22s\tremaining: 21m 2s\n",
      "422:\tlearn: 0.3299691\ttotal: 15m 27s\tremaining: 21m 4s\n",
      "423:\tlearn: 0.3297409\ttotal: 15m 31s\tremaining: 21m 6s\n",
      "424:\tlearn: 0.3296481\ttotal: 15m 34s\tremaining: 21m 4s\n",
      "425:\tlearn: 0.3295164\ttotal: 15m 37s\tremaining: 21m 3s\n",
      "426:\tlearn: 0.3293798\ttotal: 15m 40s\tremaining: 21m 2s\n",
      "427:\tlearn: 0.3292280\ttotal: 15m 43s\tremaining: 21m\n",
      "428:\tlearn: 0.3291432\ttotal: 15m 45s\tremaining: 20m 58s\n",
      "429:\tlearn: 0.3290550\ttotal: 15m 49s\tremaining: 20m 58s\n",
      "430:\tlearn: 0.3289555\ttotal: 15m 53s\tremaining: 20m 58s\n",
      "431:\tlearn: 0.3286671\ttotal: 15m 56s\tremaining: 20m 56s\n",
      "432:\tlearn: 0.3285274\ttotal: 15m 58s\tremaining: 20m 55s\n"
     ]
    }
   ],
   "source": [
    "model = CatBoostClassifier(max_depth=10, loss_function='MultiClass', random_seed=123)\n",
    "model.fit(X_train, y_train)"
   ],
   "metadata": {
    "collapsed": false,
    "ExecuteTime": {
     "start_time": "2024-02-17T05:43:19.477044500Z"
    }
   },
   "id": "a0970762f636c95f",
   "execution_count": null
  },
  {
   "cell_type": "code",
   "outputs": [],
   "source": [
    "y_pred = model.predict(X_test)\n",
    "y_prob = model.predict_proba(X_test)"
   ],
   "metadata": {
    "collapsed": false,
    "ExecuteTime": {
     "end_time": "2024-02-17T05:37:34.632576800Z",
     "start_time": "2024-02-17T05:37:32.284392Z"
    }
   },
   "id": "812168dd11dd93b7",
   "execution_count": 38
  },
  {
   "cell_type": "code",
   "outputs": [
    {
     "name": "stdout",
     "output_type": "stream",
     "text": [
      "              precision    recall  f1-score   support\n",
      "\n",
      "           0       0.87      0.99      0.93    193326\n",
      "           1       0.57      0.10      0.17     26277\n",
      "           2       0.54      0.11      0.19      6840\n",
      "           3       0.68      0.05      0.10      1199\n",
      "\n",
      "    accuracy                           0.86    227642\n",
      "   macro avg       0.66      0.32      0.35    227642\n",
      "weighted avg       0.82      0.86      0.81    227642\n"
     ]
    }
   ],
   "source": [
    "print(classification_report(y_test, y_pred))"
   ],
   "metadata": {
    "collapsed": false,
    "ExecuteTime": {
     "end_time": "2024-02-17T05:40:49.679913500Z",
     "start_time": "2024-02-17T05:40:49.435613500Z"
    }
   },
   "id": "8306ba241c591431",
   "execution_count": 43
  },
  {
   "cell_type": "code",
   "outputs": [
    {
     "data": {
      "text/plain": "0.8807862587345204"
     },
     "execution_count": 45,
     "metadata": {},
     "output_type": "execute_result"
    }
   ],
   "source": [
    "roc_auc_score(y_test, y_prob, multi_class='ovr', average='macro')"
   ],
   "metadata": {
    "collapsed": false,
    "ExecuteTime": {
     "end_time": "2024-02-17T05:41:19.416872500Z",
     "start_time": "2024-02-17T05:41:19.174049100Z"
    }
   },
   "id": "989880b24dabbcc3",
   "execution_count": 45
  },
  {
   "cell_type": "code",
   "outputs": [
    {
     "ename": "ValueError",
     "evalue": "multiclass format is not supported",
     "output_type": "error",
     "traceback": [
      "\u001B[1;31m---------------------------------------------------------------------------\u001B[0m",
      "\u001B[1;31mValueError\u001B[0m                                Traceback (most recent call last)",
      "Cell \u001B[1;32mIn[42], line 7\u001B[0m\n\u001B[0;32m      4\u001B[0m n_classes \u001B[38;5;241m=\u001B[39m \u001B[38;5;28mlen\u001B[39m(model\u001B[38;5;241m.\u001B[39mclasses_)\n\u001B[0;32m      6\u001B[0m \u001B[38;5;28;01mfor\u001B[39;00m i \u001B[38;5;129;01min\u001B[39;00m \u001B[38;5;28mrange\u001B[39m(n_classes):\n\u001B[1;32m----> 7\u001B[0m     fpr[i], tpr[i], _ \u001B[38;5;241m=\u001B[39m \u001B[43mroc_curve\u001B[49m\u001B[43m(\u001B[49m\u001B[43my_test\u001B[49m\u001B[43m,\u001B[49m\u001B[43m \u001B[49m\u001B[43my_prob\u001B[49m\u001B[43m[\u001B[49m\u001B[43m:\u001B[49m\u001B[43m,\u001B[49m\u001B[43m \u001B[49m\u001B[43mi\u001B[49m\u001B[43m]\u001B[49m\u001B[43m)\u001B[49m\n\u001B[0;32m      8\u001B[0m     roc_auc[i] \u001B[38;5;241m=\u001B[39m auc(fpr[i], tpr[i])\n\u001B[0;32m     10\u001B[0m \u001B[38;5;66;03m# Compute micro-average ROC curve and ROC area\u001B[39;00m\n",
      "File \u001B[1;32m~\\web_dev\\trains-delay-prediction\\env\\lib\\site-packages\\sklearn\\utils\\_param_validation.py:213\u001B[0m, in \u001B[0;36mvalidate_params.<locals>.decorator.<locals>.wrapper\u001B[1;34m(*args, **kwargs)\u001B[0m\n\u001B[0;32m    207\u001B[0m \u001B[38;5;28;01mtry\u001B[39;00m:\n\u001B[0;32m    208\u001B[0m     \u001B[38;5;28;01mwith\u001B[39;00m config_context(\n\u001B[0;32m    209\u001B[0m         skip_parameter_validation\u001B[38;5;241m=\u001B[39m(\n\u001B[0;32m    210\u001B[0m             prefer_skip_nested_validation \u001B[38;5;129;01mor\u001B[39;00m global_skip_validation\n\u001B[0;32m    211\u001B[0m         )\n\u001B[0;32m    212\u001B[0m     ):\n\u001B[1;32m--> 213\u001B[0m         \u001B[38;5;28;01mreturn\u001B[39;00m func(\u001B[38;5;241m*\u001B[39margs, \u001B[38;5;241m*\u001B[39m\u001B[38;5;241m*\u001B[39mkwargs)\n\u001B[0;32m    214\u001B[0m \u001B[38;5;28;01mexcept\u001B[39;00m InvalidParameterError \u001B[38;5;28;01mas\u001B[39;00m e:\n\u001B[0;32m    215\u001B[0m     \u001B[38;5;66;03m# When the function is just a wrapper around an estimator, we allow\u001B[39;00m\n\u001B[0;32m    216\u001B[0m     \u001B[38;5;66;03m# the function to delegate validation to the estimator, but we replace\u001B[39;00m\n\u001B[0;32m    217\u001B[0m     \u001B[38;5;66;03m# the name of the estimator by the name of the function in the error\u001B[39;00m\n\u001B[0;32m    218\u001B[0m     \u001B[38;5;66;03m# message to avoid confusion.\u001B[39;00m\n\u001B[0;32m    219\u001B[0m     msg \u001B[38;5;241m=\u001B[39m re\u001B[38;5;241m.\u001B[39msub(\n\u001B[0;32m    220\u001B[0m         \u001B[38;5;124mr\u001B[39m\u001B[38;5;124m\"\u001B[39m\u001B[38;5;124mparameter of \u001B[39m\u001B[38;5;124m\\\u001B[39m\u001B[38;5;124mw+ must be\u001B[39m\u001B[38;5;124m\"\u001B[39m,\n\u001B[0;32m    221\u001B[0m         \u001B[38;5;124mf\u001B[39m\u001B[38;5;124m\"\u001B[39m\u001B[38;5;124mparameter of \u001B[39m\u001B[38;5;132;01m{\u001B[39;00mfunc\u001B[38;5;241m.\u001B[39m\u001B[38;5;18m__qualname__\u001B[39m\u001B[38;5;132;01m}\u001B[39;00m\u001B[38;5;124m must be\u001B[39m\u001B[38;5;124m\"\u001B[39m,\n\u001B[0;32m    222\u001B[0m         \u001B[38;5;28mstr\u001B[39m(e),\n\u001B[0;32m    223\u001B[0m     )\n",
      "File \u001B[1;32m~\\web_dev\\trains-delay-prediction\\env\\lib\\site-packages\\sklearn\\metrics\\_ranking.py:1095\u001B[0m, in \u001B[0;36mroc_curve\u001B[1;34m(y_true, y_score, pos_label, sample_weight, drop_intermediate)\u001B[0m\n\u001B[0;32m    993\u001B[0m \u001B[38;5;129m@validate_params\u001B[39m(\n\u001B[0;32m    994\u001B[0m     {\n\u001B[0;32m    995\u001B[0m         \u001B[38;5;124m\"\u001B[39m\u001B[38;5;124my_true\u001B[39m\u001B[38;5;124m\"\u001B[39m: [\u001B[38;5;124m\"\u001B[39m\u001B[38;5;124marray-like\u001B[39m\u001B[38;5;124m\"\u001B[39m],\n\u001B[1;32m   (...)\u001B[0m\n\u001B[0;32m   1004\u001B[0m     y_true, y_score, \u001B[38;5;241m*\u001B[39m, pos_label\u001B[38;5;241m=\u001B[39m\u001B[38;5;28;01mNone\u001B[39;00m, sample_weight\u001B[38;5;241m=\u001B[39m\u001B[38;5;28;01mNone\u001B[39;00m, drop_intermediate\u001B[38;5;241m=\u001B[39m\u001B[38;5;28;01mTrue\u001B[39;00m\n\u001B[0;32m   1005\u001B[0m ):\n\u001B[0;32m   1006\u001B[0m \u001B[38;5;250m    \u001B[39m\u001B[38;5;124;03m\"\"\"Compute Receiver operating characteristic (ROC).\u001B[39;00m\n\u001B[0;32m   1007\u001B[0m \n\u001B[0;32m   1008\u001B[0m \u001B[38;5;124;03m    Note: this implementation is restricted to the binary classification task.\u001B[39;00m\n\u001B[1;32m   (...)\u001B[0m\n\u001B[0;32m   1093\u001B[0m \u001B[38;5;124;03m    array([ inf, 0.8 , 0.4 , 0.35, 0.1 ])\u001B[39;00m\n\u001B[0;32m   1094\u001B[0m \u001B[38;5;124;03m    \"\"\"\u001B[39;00m\n\u001B[1;32m-> 1095\u001B[0m     fps, tps, thresholds \u001B[38;5;241m=\u001B[39m \u001B[43m_binary_clf_curve\u001B[49m\u001B[43m(\u001B[49m\n\u001B[0;32m   1096\u001B[0m \u001B[43m        \u001B[49m\u001B[43my_true\u001B[49m\u001B[43m,\u001B[49m\u001B[43m \u001B[49m\u001B[43my_score\u001B[49m\u001B[43m,\u001B[49m\u001B[43m \u001B[49m\u001B[43mpos_label\u001B[49m\u001B[38;5;241;43m=\u001B[39;49m\u001B[43mpos_label\u001B[49m\u001B[43m,\u001B[49m\u001B[43m \u001B[49m\u001B[43msample_weight\u001B[49m\u001B[38;5;241;43m=\u001B[39;49m\u001B[43msample_weight\u001B[49m\n\u001B[0;32m   1097\u001B[0m \u001B[43m    \u001B[49m\u001B[43m)\u001B[49m\n\u001B[0;32m   1099\u001B[0m     \u001B[38;5;66;03m# Attempt to drop thresholds corresponding to points in between and\u001B[39;00m\n\u001B[0;32m   1100\u001B[0m     \u001B[38;5;66;03m# collinear with other points. These are always suboptimal and do not\u001B[39;00m\n\u001B[0;32m   1101\u001B[0m     \u001B[38;5;66;03m# appear on a plotted ROC curve (and thus do not affect the AUC).\u001B[39;00m\n\u001B[1;32m   (...)\u001B[0m\n\u001B[0;32m   1106\u001B[0m     \u001B[38;5;66;03m# but does not drop more complicated cases like fps = [1, 3, 7],\u001B[39;00m\n\u001B[0;32m   1107\u001B[0m     \u001B[38;5;66;03m# tps = [1, 2, 4]; there is no harm in keeping too many thresholds.\u001B[39;00m\n\u001B[0;32m   1108\u001B[0m     \u001B[38;5;28;01mif\u001B[39;00m drop_intermediate \u001B[38;5;129;01mand\u001B[39;00m \u001B[38;5;28mlen\u001B[39m(fps) \u001B[38;5;241m>\u001B[39m \u001B[38;5;241m2\u001B[39m:\n",
      "File \u001B[1;32m~\\web_dev\\trains-delay-prediction\\env\\lib\\site-packages\\sklearn\\metrics\\_ranking.py:804\u001B[0m, in \u001B[0;36m_binary_clf_curve\u001B[1;34m(y_true, y_score, pos_label, sample_weight)\u001B[0m\n\u001B[0;32m    802\u001B[0m y_type \u001B[38;5;241m=\u001B[39m type_of_target(y_true, input_name\u001B[38;5;241m=\u001B[39m\u001B[38;5;124m\"\u001B[39m\u001B[38;5;124my_true\u001B[39m\u001B[38;5;124m\"\u001B[39m)\n\u001B[0;32m    803\u001B[0m \u001B[38;5;28;01mif\u001B[39;00m \u001B[38;5;129;01mnot\u001B[39;00m (y_type \u001B[38;5;241m==\u001B[39m \u001B[38;5;124m\"\u001B[39m\u001B[38;5;124mbinary\u001B[39m\u001B[38;5;124m\"\u001B[39m \u001B[38;5;129;01mor\u001B[39;00m (y_type \u001B[38;5;241m==\u001B[39m \u001B[38;5;124m\"\u001B[39m\u001B[38;5;124mmulticlass\u001B[39m\u001B[38;5;124m\"\u001B[39m \u001B[38;5;129;01mand\u001B[39;00m pos_label \u001B[38;5;129;01mis\u001B[39;00m \u001B[38;5;129;01mnot\u001B[39;00m \u001B[38;5;28;01mNone\u001B[39;00m)):\n\u001B[1;32m--> 804\u001B[0m     \u001B[38;5;28;01mraise\u001B[39;00m \u001B[38;5;167;01mValueError\u001B[39;00m(\u001B[38;5;124m\"\u001B[39m\u001B[38;5;132;01m{0}\u001B[39;00m\u001B[38;5;124m format is not supported\u001B[39m\u001B[38;5;124m\"\u001B[39m\u001B[38;5;241m.\u001B[39mformat(y_type))\n\u001B[0;32m    806\u001B[0m check_consistent_length(y_true, y_score, sample_weight)\n\u001B[0;32m    807\u001B[0m y_true \u001B[38;5;241m=\u001B[39m column_or_1d(y_true)\n",
      "\u001B[1;31mValueError\u001B[0m: multiclass format is not supported"
     ]
    }
   ],
   "source": [
    "fpr = dict()\n",
    "tpr = dict()\n",
    "roc_auc = dict()\n",
    "n_classes = len(model.classes_)\n",
    "\n",
    "for i in range(n_classes):\n",
    "    fpr[i], tpr[i], _ = roc_curve(y_test, y_prob[:, i])\n",
    "    roc_auc[i] = auc(fpr[i], tpr[i])\n",
    "\n",
    "# Compute micro-average ROC curve and ROC area\n",
    "fpr[\"micro\"], tpr[\"micro\"], _ = roc_curve(y_test.ravel(), y_prob.ravel())\n",
    "roc_auc[\"micro\"] = auc(fpr[\"micro\"], tpr[\"micro\"])\n",
    "\n",
    "# Plot ROC curve for each class\n",
    "plt.figure(figsize=(8, 6))\n",
    "lw = 2\n",
    "for i in range(n_classes):\n",
    "    plt.plot(fpr[i], tpr[i], lw=lw,\n",
    "             label='ROC curve of class {0} (area = {1:0.2f})'\n",
    "             ''.format(i, roc_auc[i]))\n",
    "\n",
    "# Plot micro-average ROC curve\n",
    "plt.plot(fpr[\"micro\"], tpr[\"micro\"],\n",
    "         label='micro-average ROC curve (area = {0:0.2f})'\n",
    "               ''.format(roc_auc[\"micro\"]),\n",
    "         color='deeppink', linestyle=':', linewidth=4)\n",
    "\n",
    "plt.plot([0, 1], [0, 1], 'k--', lw=lw)\n",
    "plt.xlim([0.0, 1.0])\n",
    "plt.ylim([0.0, 1.05])\n",
    "plt.xlabel('False Positive Rate')\n",
    "plt.ylabel('True Positive Rate')\n",
    "plt.title('ROC Curve for Multiclass Classification')\n",
    "plt.legend(loc=\"lower right\")\n",
    "plt.show()"
   ],
   "metadata": {
    "collapsed": false,
    "ExecuteTime": {
     "end_time": "2024-02-17T05:40:09.080575200Z",
     "start_time": "2024-02-17T05:40:08.872283500Z"
    }
   },
   "id": "faf14e96755aa7e7",
   "execution_count": 42
  },
  {
   "cell_type": "code",
   "outputs": [
    {
     "data": {
      "text/plain": "array([0, 0, 1, ..., 0, 0, 0])"
     },
     "execution_count": 41,
     "metadata": {},
     "output_type": "execute_result"
    }
   ],
   "source": [
    "y_test"
   ],
   "metadata": {
    "collapsed": false,
    "ExecuteTime": {
     "end_time": "2024-02-17T05:38:57.644561500Z",
     "start_time": "2024-02-17T05:38:57.630557400Z"
    }
   },
   "id": "afe47a135ddf964c",
   "execution_count": 41
  },
  {
   "cell_type": "code",
   "outputs": [],
   "source": [],
   "metadata": {
    "collapsed": false
   },
   "id": "b1d6f1516b7db669"
  },
  {
   "cell_type": "code",
   "outputs": [],
   "source": [],
   "metadata": {
    "collapsed": false
   },
   "id": "57482033ad593700"
  },
  {
   "cell_type": "code",
   "outputs": [],
   "source": [],
   "metadata": {
    "collapsed": false
   },
   "id": "1b587aaedc6bbf9c"
  },
  {
   "cell_type": "code",
   "outputs": [],
   "source": [],
   "metadata": {
    "collapsed": false
   },
   "id": "5c8a660ed4f9b67c"
  },
  {
   "cell_type": "code",
   "outputs": [],
   "source": [],
   "metadata": {
    "collapsed": false
   },
   "id": "9ac2ba3dae0b689b"
  },
  {
   "cell_type": "code",
   "outputs": [],
   "source": [],
   "metadata": {
    "collapsed": false
   },
   "id": "4962e9a473696c51"
  },
  {
   "cell_type": "code",
   "outputs": [],
   "source": [],
   "metadata": {
    "collapsed": false
   },
   "id": "8f87b86245d6cdfc"
  },
  {
   "cell_type": "code",
   "outputs": [],
   "source": [
    "X_train, X_test, y_train, y_test = train_test_split(X, y, test_size=0.2, random_state=123)\n",
    "model = RandomForestClassifier(random_state=123)\n",
    "\n",
    "param_grid = {\n",
    "    'n_estimators': [50, 100, 150],\n",
    "    'max_depth': [None, 10, 20],\n",
    "    'min_samples_split': [2, 5, 10],\n",
    "    'min_samples_leaf': [1, 2, 4]\n",
    "}\n",
    "\n",
    "cv = GridSearchCV(estimator=model, param_grid=param_grid, cv=5, scoring='accuracy')\n",
    "cv.fit(X_train, y_train)"
   ],
   "metadata": {
    "collapsed": false,
    "ExecuteTime": {
     "start_time": "2024-02-16T12:48:48.369777100Z"
    }
   },
   "id": "f65c3a16169f5109",
   "execution_count": null
  },
  {
   "cell_type": "code",
   "outputs": [],
   "source": [],
   "metadata": {
    "collapsed": false
   },
   "id": "df14ce451b39d2d8"
  },
  {
   "cell_type": "code",
   "outputs": [],
   "source": [],
   "metadata": {
    "collapsed": false
   },
   "id": "e7526fa6fcd2d29c"
  },
  {
   "cell_type": "code",
   "outputs": [],
   "source": [],
   "metadata": {
    "collapsed": false
   },
   "id": "b66a6a4d3c3ec0ae"
  },
  {
   "cell_type": "code",
   "outputs": [],
   "source": [],
   "metadata": {
    "collapsed": false
   },
   "id": "f4fcc73707f105f3"
  }
 ],
 "metadata": {
  "kernelspec": {
   "display_name": "Python 3",
   "language": "python",
   "name": "python3"
  },
  "language_info": {
   "codemirror_mode": {
    "name": "ipython",
    "version": 2
   },
   "file_extension": ".py",
   "mimetype": "text/x-python",
   "name": "python",
   "nbconvert_exporter": "python",
   "pygments_lexer": "ipython2",
   "version": "2.7.6"
  }
 },
 "nbformat": 4,
 "nbformat_minor": 5
}
