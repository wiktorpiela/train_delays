{
 "cells": [
  {
   "cell_type": "code",
   "execution_count": 1,
   "id": "initial_id",
   "metadata": {
    "collapsed": true,
    "ExecuteTime": {
     "end_time": "2024-02-16T12:00:49.476650Z",
     "start_time": "2024-02-16T12:00:48.336756100Z"
    }
   },
   "outputs": [],
   "source": [
    "import pandas as pd\n",
    "import numpy as np\n",
    "import matplotlib.pyplot as plt\n",
    "import PreprocessingUtils as utils\n",
    "from GeneralUtils import get_historical_weather"
   ]
  },
  {
   "cell_type": "code",
   "outputs": [],
   "source": [
    "data = pd.read_parquet('../data/raw_data_delays.parquet')\n",
    "gps = pd.read_csv('../data/station_gps.csv')"
   ],
   "metadata": {
    "collapsed": false,
    "ExecuteTime": {
     "end_time": "2024-02-16T12:00:50.076016200Z",
     "start_time": "2024-02-16T12:00:49.481027400Z"
    }
   },
   "id": "f0ad4bba56ffe2f1",
   "execution_count": 2
  },
  {
   "cell_type": "code",
   "outputs": [],
   "source": [
    "data = utils.prepare_raw_data(data)\n",
    "data = pd.merge(data, gps, on='Stacja', how='left')"
   ],
   "metadata": {
    "collapsed": false,
    "ExecuteTime": {
     "end_time": "2024-02-16T12:00:58.727395200Z",
     "start_time": "2024-02-16T12:00:50.074019800Z"
    }
   },
   "id": "4cc9518684013f94",
   "execution_count": 3
  },
  {
   "cell_type": "markdown",
   "source": [
    "### station count\n",
    "<ul>\n",
    "    <li>full route station count</li>\n",
    "    <li>station count on current station</li>\n",
    "</ul>"
   ],
   "metadata": {
    "collapsed": false
   },
   "id": "bb9b6ae81f1910cd"
  },
  {
   "cell_type": "code",
   "outputs": [],
   "source": [
    "data['station_count_on_curr_station'] = data.groupby(['pk', 'Relacja']).cumcount()\n",
    "data['full_route_station_count'] = data.groupby(['pk', 'Relacja'])['Relacja'].transform('count')"
   ],
   "metadata": {
    "collapsed": false,
    "ExecuteTime": {
     "end_time": "2024-02-16T12:00:59.061753800Z",
     "start_time": "2024-02-16T12:00:58.730572200Z"
    }
   },
   "id": "f386924d62a5d1bd",
   "execution_count": 4
  },
  {
   "cell_type": "markdown",
   "source": [
    "### distances\n",
    "<ul>\n",
    "    <li>full route distance</li>\n",
    "    <li>distance distance until current station</li>\n",
    "    <li>distance from start station</li>\n",
    "    <li>distance to final station</li>\n",
    "    <li>distance distance from the nearest big city station</li>\n",
    "</ul>"
   ],
   "metadata": {
    "collapsed": false
   },
   "id": "8a3e1b666de66e86"
  },
  {
   "cell_type": "code",
   "outputs": [],
   "source": [
    "data = utils.count_distances(data, gps)"
   ],
   "metadata": {
    "collapsed": false,
    "ExecuteTime": {
     "end_time": "2024-02-16T12:13:02.813359Z",
     "start_time": "2024-02-16T12:00:59.064440800Z"
    }
   },
   "id": "c81647b8cf9379ec",
   "execution_count": 5
  },
  {
   "cell_type": "markdown",
   "source": [
    "### date features and holidays"
   ],
   "metadata": {
    "collapsed": false
   },
   "id": "e16c7d5d819c235d"
  },
  {
   "cell_type": "code",
   "outputs": [
    {
     "name": "stderr",
     "output_type": "stream",
     "text": [
      "C:\\Users\\wpiel\\web_dev\\trains-delay-prediction\\modeling\\PreprocessingUtils.py:85: SettingWithCopyWarning: \n",
      "A value is trying to be set on a copy of a slice from a DataFrame.\n",
      "Try using .loc[row_indexer,col_indexer] = value instead\n",
      "\n",
      "See the caveats in the documentation: https://pandas.pydata.org/pandas-docs/stable/user_guide/indexing.html#returning-a-view-versus-a-copy\n",
      "  df_temp[col_name] = new_dates\n"
     ]
    }
   ],
   "source": [
    "cols = ['arrival_on_time','departure_on_time']\n",
    "for col in cols:\n",
    "    data = utils.fix_dates(data, col)\n",
    "    \n",
    "data = utils.apply_date_features(data)"
   ],
   "metadata": {
    "collapsed": false,
    "ExecuteTime": {
     "end_time": "2024-02-16T12:16:17.138599900Z",
     "start_time": "2024-02-16T12:13:02.815359300Z"
    }
   },
   "id": "6459d382875b3f73",
   "execution_count": 6
  },
  {
   "cell_type": "markdown",
   "source": [
    "### longer stop duration"
   ],
   "metadata": {
    "collapsed": false
   },
   "id": "c574a8914f9d93c0"
  },
  {
   "cell_type": "code",
   "outputs": [],
   "source": [
    "data['stop_duration'] = (data['departure_on_time'] - data['arrival_on_time']).dt.total_seconds()/60"
   ],
   "metadata": {
    "collapsed": false,
    "ExecuteTime": {
     "end_time": "2024-02-16T12:22:33.574007300Z",
     "start_time": "2024-02-16T12:22:33.529991900Z"
    }
   },
   "id": "35e68e76fe2c8c72",
   "execution_count": 8
  },
  {
   "cell_type": "markdown",
   "source": [
    "### modeling"
   ],
   "metadata": {
    "collapsed": false
   },
   "id": "8c87b07c8897647b"
  },
  {
   "cell_type": "code",
   "outputs": [],
   "source": [
    "relacje = data[data['Stacja']=='Wrocław Główny']['Relacja'].unique()\n",
    "example = data[data['Relacja'].isin(relacje)].reset_index(drop=True).copy()"
   ],
   "metadata": {
    "collapsed": false,
    "ExecuteTime": {
     "end_time": "2024-02-16T12:44:07.567544800Z",
     "start_time": "2024-02-16T12:44:07.355869200Z"
    }
   },
   "id": "16fc4850b21e9669",
   "execution_count": 39
  },
  {
   "cell_type": "markdown",
   "source": [
    "### make ml target"
   ],
   "metadata": {
    "collapsed": false
   },
   "id": "9bf529f5784e45c6"
  },
  {
   "cell_type": "code",
   "outputs": [],
   "source": [
    "example['ML_TARGET'] = np.select(\n",
    "    [\n",
    "        example['Opóźnienie przyjazdu']<=5,\n",
    "        (example['Opóźnienie przyjazdu']>5) & (example['Opóźnienie przyjazdu']<=20),\n",
    "        (example['Opóźnienie przyjazdu']>20) & (example['Opóźnienie przyjazdu']<=60),\n",
    "        example['Opóźnienie przyjazdu']>60\n",
    "     ],\n",
    "    [\n",
    "        0,\n",
    "        1,\n",
    "        2,\n",
    "        3 \n",
    "    ]\n",
    ")"
   ],
   "metadata": {
    "collapsed": false,
    "ExecuteTime": {
     "end_time": "2024-02-16T12:44:08.232372600Z",
     "start_time": "2024-02-16T12:44:08.214371Z"
    }
   },
   "id": "a1253baecf021413",
   "execution_count": 40
  },
  {
   "cell_type": "code",
   "outputs": [],
   "source": [
    "relation_dummies = pd.get_dummies(example['Relacja'], prefix='Relacja', dtype=float)\n",
    "example = pd.concat([example.drop('Relacja', axis=1), relation_dummies], axis=1)"
   ],
   "metadata": {
    "collapsed": false,
    "ExecuteTime": {
     "end_time": "2024-02-16T12:44:09.548498100Z",
     "start_time": "2024-02-16T12:44:09.310935300Z"
    }
   },
   "id": "67df46c409a1852c",
   "execution_count": 41
  },
  {
   "cell_type": "code",
   "outputs": [],
   "source": [
    "station_dummies = pd.get_dummies(example['near_city_station_name'], prefix='near_city_station_name', dtype=float)\n",
    "example = pd.concat([example.drop('near_city_station_name', axis=1), station_dummies], axis=1)"
   ],
   "metadata": {
    "collapsed": false,
    "ExecuteTime": {
     "end_time": "2024-02-16T12:44:10.895983700Z",
     "start_time": "2024-02-16T12:44:10.131730800Z"
    }
   },
   "id": "7354682c402bdfc5",
   "execution_count": 42
  },
  {
   "cell_type": "code",
   "outputs": [
    {
     "data": {
      "text/plain": "           pk               Stacja  Opóźnienie przyjazdu  Opóźnienie odjazdu  \\\n0           4  Ostrów Wielkopolski                     0                   0   \n1           4       Topola-Osiedle                     0                   0   \n2           4     Tarchały Wielkie                     0                   0   \n3           4             Odolanów                     0                   0   \n4           4                Garki                     0                   0   \n...       ...                  ...                   ...                 ...   \n230343  52125     Wałbrzych Główny                     7                   7   \n230344  52125     Wałbrzych Miasto                     8                   8   \n230345  52125          Świebodzice                     9                   8   \n230346  52125     Jaworzyna Śląska                     5                   5   \n230347  52125       Wrocław Główny                     4                   0   \n\n           arrival_on_time   departure_on_time        lat        lon  \\\n0      2022-12-01 05:23:00 2022-12-01 05:23:00  51.649247  17.805625   \n1      2022-12-01 05:28:30 2022-12-01 05:29:00  51.612860  17.761920   \n2      2022-12-01 05:33:00 2022-12-01 05:33:30  51.587130  17.701904   \n3      2022-12-01 05:36:30 2022-12-01 05:37:00  51.574752  17.667913   \n4      2022-12-01 05:40:30 2022-12-01 05:41:00  51.540548  17.648767   \n...                    ...                 ...        ...        ...   \n230343 2023-04-23 07:45:30 2023-04-23 07:46:30  50.743393  16.280690   \n230344 2023-04-23 07:56:00 2023-04-23 07:58:00  50.786229  16.285234   \n230345 2023-04-23 08:10:24 2023-04-23 08:12:24  50.860193  16.332831   \n230346 2023-04-23 08:19:00 2023-04-23 08:23:00  50.912468  16.428852   \n230347 2023-04-23 08:58:00 2023-04-23 08:58:00  51.097968  17.037530   \n\n        station_count_on_curr_station  full_route_station_count  ...  \\\n0                                   0                        24  ...   \n1                                   1                        24  ...   \n2                                   2                        24  ...   \n3                                   3                        24  ...   \n4                                   4                        24  ...   \n...                               ...                       ...  ...   \n230343                              2                         7  ...   \n230344                              3                         7  ...   \n230345                              4                         7  ...   \n230346                              5                         7  ...   \n230347                              6                         7  ...   \n\n        near_city_station_name_Katowice  near_city_station_name_Kołobrzeg  \\\n0                                   0.0                               0.0   \n1                                   0.0                               0.0   \n2                                   0.0                               0.0   \n3                                   0.0                               0.0   \n4                                   0.0                               0.0   \n...                                 ...                               ...   \n230343                              0.0                               0.0   \n230344                              0.0                               0.0   \n230345                              0.0                               0.0   \n230346                              0.0                               0.0   \n230347                              0.0                               0.0   \n\n        near_city_station_name_Lublin Główny  \\\n0                                        0.0   \n1                                        0.0   \n2                                        0.0   \n3                                        0.0   \n4                                        0.0   \n...                                      ...   \n230343                                   0.0   \n230344                                   0.0   \n230345                                   0.0   \n230346                                   0.0   \n230347                                   0.0   \n\n        near_city_station_name_Olsztyn Główny  \\\n0                                         0.0   \n1                                         0.0   \n2                                         0.0   \n3                                         0.0   \n4                                         0.0   \n...                                       ...   \n230343                                    0.0   \n230344                                    0.0   \n230345                                    0.0   \n230346                                    0.0   \n230347                                    0.0   \n\n        near_city_station_name_Poznań Główny  \\\n0                                        0.0   \n1                                        0.0   \n2                                        0.0   \n3                                        0.0   \n4                                        0.0   \n...                                      ...   \n230343                                   0.0   \n230344                                   0.0   \n230345                                   0.0   \n230346                                   0.0   \n230347                                   0.0   \n\n        near_city_station_name_Rzeszów Główny  \\\n0                                         0.0   \n1                                         0.0   \n2                                         0.0   \n3                                         0.0   \n4                                         0.0   \n...                                       ...   \n230343                                    0.0   \n230344                                    0.0   \n230345                                    0.0   \n230346                                    0.0   \n230347                                    0.0   \n\n        near_city_station_name_Szczecin Główny  \\\n0                                          0.0   \n1                                          0.0   \n2                                          0.0   \n3                                          0.0   \n4                                          0.0   \n...                                        ...   \n230343                                     0.0   \n230344                                     0.0   \n230345                                     0.0   \n230346                                     0.0   \n230347                                     0.0   \n\n        near_city_station_name_Warszawa Centralna  \\\n0                                             0.0   \n1                                             0.0   \n2                                             0.0   \n3                                             0.0   \n4                                             0.0   \n...                                           ...   \n230343                                        0.0   \n230344                                        0.0   \n230345                                        0.0   \n230346                                        0.0   \n230347                                        0.0   \n\n        near_city_station_name_Wrocław Główny  \\\n0                                         1.0   \n1                                         1.0   \n2                                         1.0   \n3                                         1.0   \n4                                         1.0   \n...                                       ...   \n230343                                    1.0   \n230344                                    1.0   \n230345                                    1.0   \n230346                                    1.0   \n230347                                    1.0   \n\n        near_city_station_name_Łódź Widzew  \n0                                      0.0  \n1                                      0.0  \n2                                      0.0  \n3                                      0.0  \n4                                      0.0  \n...                                    ...  \n230343                                 0.0  \n230344                                 0.0  \n230345                                 0.0  \n230346                                 0.0  \n230347                                 0.0  \n\n[230348 rows x 281 columns]",
      "text/html": "<div>\n<style scoped>\n    .dataframe tbody tr th:only-of-type {\n        vertical-align: middle;\n    }\n\n    .dataframe tbody tr th {\n        vertical-align: top;\n    }\n\n    .dataframe thead th {\n        text-align: right;\n    }\n</style>\n<table border=\"1\" class=\"dataframe\">\n  <thead>\n    <tr style=\"text-align: right;\">\n      <th></th>\n      <th>pk</th>\n      <th>Stacja</th>\n      <th>Opóźnienie przyjazdu</th>\n      <th>Opóźnienie odjazdu</th>\n      <th>arrival_on_time</th>\n      <th>departure_on_time</th>\n      <th>lat</th>\n      <th>lon</th>\n      <th>station_count_on_curr_station</th>\n      <th>full_route_station_count</th>\n      <th>...</th>\n      <th>near_city_station_name_Katowice</th>\n      <th>near_city_station_name_Kołobrzeg</th>\n      <th>near_city_station_name_Lublin Główny</th>\n      <th>near_city_station_name_Olsztyn Główny</th>\n      <th>near_city_station_name_Poznań Główny</th>\n      <th>near_city_station_name_Rzeszów Główny</th>\n      <th>near_city_station_name_Szczecin Główny</th>\n      <th>near_city_station_name_Warszawa Centralna</th>\n      <th>near_city_station_name_Wrocław Główny</th>\n      <th>near_city_station_name_Łódź Widzew</th>\n    </tr>\n  </thead>\n  <tbody>\n    <tr>\n      <th>0</th>\n      <td>4</td>\n      <td>Ostrów Wielkopolski</td>\n      <td>0</td>\n      <td>0</td>\n      <td>2022-12-01 05:23:00</td>\n      <td>2022-12-01 05:23:00</td>\n      <td>51.649247</td>\n      <td>17.805625</td>\n      <td>0</td>\n      <td>24</td>\n      <td>...</td>\n      <td>0.0</td>\n      <td>0.0</td>\n      <td>0.0</td>\n      <td>0.0</td>\n      <td>0.0</td>\n      <td>0.0</td>\n      <td>0.0</td>\n      <td>0.0</td>\n      <td>1.0</td>\n      <td>0.0</td>\n    </tr>\n    <tr>\n      <th>1</th>\n      <td>4</td>\n      <td>Topola-Osiedle</td>\n      <td>0</td>\n      <td>0</td>\n      <td>2022-12-01 05:28:30</td>\n      <td>2022-12-01 05:29:00</td>\n      <td>51.612860</td>\n      <td>17.761920</td>\n      <td>1</td>\n      <td>24</td>\n      <td>...</td>\n      <td>0.0</td>\n      <td>0.0</td>\n      <td>0.0</td>\n      <td>0.0</td>\n      <td>0.0</td>\n      <td>0.0</td>\n      <td>0.0</td>\n      <td>0.0</td>\n      <td>1.0</td>\n      <td>0.0</td>\n    </tr>\n    <tr>\n      <th>2</th>\n      <td>4</td>\n      <td>Tarchały Wielkie</td>\n      <td>0</td>\n      <td>0</td>\n      <td>2022-12-01 05:33:00</td>\n      <td>2022-12-01 05:33:30</td>\n      <td>51.587130</td>\n      <td>17.701904</td>\n      <td>2</td>\n      <td>24</td>\n      <td>...</td>\n      <td>0.0</td>\n      <td>0.0</td>\n      <td>0.0</td>\n      <td>0.0</td>\n      <td>0.0</td>\n      <td>0.0</td>\n      <td>0.0</td>\n      <td>0.0</td>\n      <td>1.0</td>\n      <td>0.0</td>\n    </tr>\n    <tr>\n      <th>3</th>\n      <td>4</td>\n      <td>Odolanów</td>\n      <td>0</td>\n      <td>0</td>\n      <td>2022-12-01 05:36:30</td>\n      <td>2022-12-01 05:37:00</td>\n      <td>51.574752</td>\n      <td>17.667913</td>\n      <td>3</td>\n      <td>24</td>\n      <td>...</td>\n      <td>0.0</td>\n      <td>0.0</td>\n      <td>0.0</td>\n      <td>0.0</td>\n      <td>0.0</td>\n      <td>0.0</td>\n      <td>0.0</td>\n      <td>0.0</td>\n      <td>1.0</td>\n      <td>0.0</td>\n    </tr>\n    <tr>\n      <th>4</th>\n      <td>4</td>\n      <td>Garki</td>\n      <td>0</td>\n      <td>0</td>\n      <td>2022-12-01 05:40:30</td>\n      <td>2022-12-01 05:41:00</td>\n      <td>51.540548</td>\n      <td>17.648767</td>\n      <td>4</td>\n      <td>24</td>\n      <td>...</td>\n      <td>0.0</td>\n      <td>0.0</td>\n      <td>0.0</td>\n      <td>0.0</td>\n      <td>0.0</td>\n      <td>0.0</td>\n      <td>0.0</td>\n      <td>0.0</td>\n      <td>1.0</td>\n      <td>0.0</td>\n    </tr>\n    <tr>\n      <th>...</th>\n      <td>...</td>\n      <td>...</td>\n      <td>...</td>\n      <td>...</td>\n      <td>...</td>\n      <td>...</td>\n      <td>...</td>\n      <td>...</td>\n      <td>...</td>\n      <td>...</td>\n      <td>...</td>\n      <td>...</td>\n      <td>...</td>\n      <td>...</td>\n      <td>...</td>\n      <td>...</td>\n      <td>...</td>\n      <td>...</td>\n      <td>...</td>\n      <td>...</td>\n      <td>...</td>\n    </tr>\n    <tr>\n      <th>230343</th>\n      <td>52125</td>\n      <td>Wałbrzych Główny</td>\n      <td>7</td>\n      <td>7</td>\n      <td>2023-04-23 07:45:30</td>\n      <td>2023-04-23 07:46:30</td>\n      <td>50.743393</td>\n      <td>16.280690</td>\n      <td>2</td>\n      <td>7</td>\n      <td>...</td>\n      <td>0.0</td>\n      <td>0.0</td>\n      <td>0.0</td>\n      <td>0.0</td>\n      <td>0.0</td>\n      <td>0.0</td>\n      <td>0.0</td>\n      <td>0.0</td>\n      <td>1.0</td>\n      <td>0.0</td>\n    </tr>\n    <tr>\n      <th>230344</th>\n      <td>52125</td>\n      <td>Wałbrzych Miasto</td>\n      <td>8</td>\n      <td>8</td>\n      <td>2023-04-23 07:56:00</td>\n      <td>2023-04-23 07:58:00</td>\n      <td>50.786229</td>\n      <td>16.285234</td>\n      <td>3</td>\n      <td>7</td>\n      <td>...</td>\n      <td>0.0</td>\n      <td>0.0</td>\n      <td>0.0</td>\n      <td>0.0</td>\n      <td>0.0</td>\n      <td>0.0</td>\n      <td>0.0</td>\n      <td>0.0</td>\n      <td>1.0</td>\n      <td>0.0</td>\n    </tr>\n    <tr>\n      <th>230345</th>\n      <td>52125</td>\n      <td>Świebodzice</td>\n      <td>9</td>\n      <td>8</td>\n      <td>2023-04-23 08:10:24</td>\n      <td>2023-04-23 08:12:24</td>\n      <td>50.860193</td>\n      <td>16.332831</td>\n      <td>4</td>\n      <td>7</td>\n      <td>...</td>\n      <td>0.0</td>\n      <td>0.0</td>\n      <td>0.0</td>\n      <td>0.0</td>\n      <td>0.0</td>\n      <td>0.0</td>\n      <td>0.0</td>\n      <td>0.0</td>\n      <td>1.0</td>\n      <td>0.0</td>\n    </tr>\n    <tr>\n      <th>230346</th>\n      <td>52125</td>\n      <td>Jaworzyna Śląska</td>\n      <td>5</td>\n      <td>5</td>\n      <td>2023-04-23 08:19:00</td>\n      <td>2023-04-23 08:23:00</td>\n      <td>50.912468</td>\n      <td>16.428852</td>\n      <td>5</td>\n      <td>7</td>\n      <td>...</td>\n      <td>0.0</td>\n      <td>0.0</td>\n      <td>0.0</td>\n      <td>0.0</td>\n      <td>0.0</td>\n      <td>0.0</td>\n      <td>0.0</td>\n      <td>0.0</td>\n      <td>1.0</td>\n      <td>0.0</td>\n    </tr>\n    <tr>\n      <th>230347</th>\n      <td>52125</td>\n      <td>Wrocław Główny</td>\n      <td>4</td>\n      <td>0</td>\n      <td>2023-04-23 08:58:00</td>\n      <td>2023-04-23 08:58:00</td>\n      <td>51.097968</td>\n      <td>17.037530</td>\n      <td>6</td>\n      <td>7</td>\n      <td>...</td>\n      <td>0.0</td>\n      <td>0.0</td>\n      <td>0.0</td>\n      <td>0.0</td>\n      <td>0.0</td>\n      <td>0.0</td>\n      <td>0.0</td>\n      <td>0.0</td>\n      <td>1.0</td>\n      <td>0.0</td>\n    </tr>\n  </tbody>\n</table>\n<p>230348 rows × 281 columns</p>\n</div>"
     },
     "execution_count": 43,
     "metadata": {},
     "output_type": "execute_result"
    }
   ],
   "source": [
    "example"
   ],
   "metadata": {
    "collapsed": false,
    "ExecuteTime": {
     "end_time": "2024-02-16T12:44:20.439569300Z",
     "start_time": "2024-02-16T12:44:20.335848Z"
    }
   },
   "id": "7fef27092d32ae24",
   "execution_count": 43
  },
  {
   "cell_type": "code",
   "outputs": [],
   "source": [
    "y = example['ML_TARGET']\n",
    "X = example.iloc[:,8:].drop('ML_TARGET', axis=1)"
   ],
   "metadata": {
    "collapsed": false,
    "ExecuteTime": {
     "end_time": "2024-02-16T12:46:05.545795100Z",
     "start_time": "2024-02-16T12:46:05.274700Z"
    }
   },
   "id": "71579ddc9dc40d34",
   "execution_count": 48
  },
  {
   "cell_type": "code",
   "outputs": [],
   "source": [
    "from sklearn.model_selection import train_test_split, GridSearchCV\n",
    "from sklearn.ensemble import RandomForestClassifier\n",
    "from sklearn.metrics import classification_report"
   ],
   "metadata": {
    "collapsed": false,
    "ExecuteTime": {
     "end_time": "2024-02-16T12:47:21.583595100Z",
     "start_time": "2024-02-16T12:47:16.810750100Z"
    }
   },
   "id": "ab11ddd5b8e2ab91",
   "execution_count": 50
  },
  {
   "cell_type": "code",
   "outputs": [],
   "source": [
    "X_train, X_test, y_train, y_test = train_test_split(X, y, test_size=0.2, random_state=123)\n",
    "model = RandomForestClassifier(random_state=123)\n",
    "\n",
    "param_grid = {\n",
    "    'n_estimators': [50, 100, 150],\n",
    "    'max_depth': [None, 10, 20],\n",
    "    'min_samples_split': [2, 5, 10],\n",
    "    'min_samples_leaf': [1, 2, 4]\n",
    "}\n",
    "\n",
    "cv = GridSearchCV(estimator=model, param_grid=param_grid, cv=5, scoring='accuracy')\n",
    "cv.fit(X_train, y_train)"
   ],
   "metadata": {
    "collapsed": false,
    "is_executing": true,
    "ExecuteTime": {
     "start_time": "2024-02-16T12:48:48.369777100Z"
    }
   },
   "id": "f65c3a16169f5109",
   "execution_count": null
  },
  {
   "cell_type": "code",
   "outputs": [],
   "source": [],
   "metadata": {
    "collapsed": false
   },
   "id": "df14ce451b39d2d8"
  },
  {
   "cell_type": "code",
   "outputs": [],
   "source": [],
   "metadata": {
    "collapsed": false
   },
   "id": "e7526fa6fcd2d29c"
  },
  {
   "cell_type": "code",
   "outputs": [],
   "source": [],
   "metadata": {
    "collapsed": false
   },
   "id": "b66a6a4d3c3ec0ae"
  },
  {
   "cell_type": "code",
   "outputs": [],
   "source": [],
   "metadata": {
    "collapsed": false
   },
   "id": "f4fcc73707f105f3"
  },
  {
   "cell_type": "markdown",
   "source": [
    "### weather features"
   ],
   "metadata": {
    "collapsed": false
   },
   "id": "3df541be752dd965"
  },
  {
   "cell_type": "code",
   "outputs": [
    {
     "data": {
      "text/plain": "            pk                                     Relacja  \\\n0            1                  Przeworsk - Rzeszów Główny   \n1            1                  Przeworsk - Rzeszów Główny   \n2            1                  Przeworsk - Rzeszów Główny   \n3            1                  Przeworsk - Rzeszów Główny   \n4            1                  Przeworsk - Rzeszów Główny   \n...        ...                                         ...   \n1138205  52128  Kraków Lotnisko - Wieliczka Rynek-Kopalnia   \n1138206  52128  Kraków Lotnisko - Wieliczka Rynek-Kopalnia   \n1138207  52128  Kraków Lotnisko - Wieliczka Rynek-Kopalnia   \n1138208  52128  Kraków Lotnisko - Wieliczka Rynek-Kopalnia   \n1138209  52128  Kraków Lotnisko - Wieliczka Rynek-Kopalnia   \n\n                              Stacja  Opóźnienie przyjazdu  \\\n0                          Przeworsk                     0   \n1                            Grzęska                     0   \n2               Rogóżno koło Łańcuta                     0   \n3                             Kosina                     0   \n4                            Głuchów                     0   \n...                              ...                   ...   \n1138205              Kraków Bieżanów                     0   \n1138206  Kraków Bieżanów Drożdżownia                     0   \n1138207           Wieliczka Bogucice                     0   \n1138208               Wieliczka Park                     0   \n1138209     Wieliczka Rynek-Kopalnia                     0   \n\n         Opóźnienie odjazdu     arrival_on_time   departure_on_time  \\\n0                         0 2022-12-01 06:55:00 2022-12-01 06:55:00   \n1                         0 2022-12-01 06:58:30 2022-12-01 06:59:00   \n2                         0 2022-12-01 07:03:00 2022-12-01 07:03:30   \n3                         0 2022-12-01 07:06:30 2022-12-01 07:07:00   \n4                         0 2022-12-01 07:09:30 2022-12-01 07:10:00   \n...                     ...                 ...                 ...   \n1138205                   0 2023-04-23 08:52:12 2023-04-23 08:52:42   \n1138206                   0 2023-04-23 08:55:00 2023-04-23 08:55:30   \n1138207                   0 2023-04-23 08:57:24 2023-04-23 08:57:54   \n1138208                   0 2023-04-23 09:00:06 2023-04-23 09:00:36   \n1138209                   0 2023-04-23 09:02:00 2023-04-23 09:02:00   \n\n               lat        lon  station_count_on_curr_station  \\\n0        50.067161  22.503232                              0   \n1        50.080037  22.452564                              1   \n2        50.083573  22.362513                              2   \n3        50.083570  22.322846                              3   \n4        50.083469  22.279077                              4   \n...            ...        ...                            ...   \n1138205  50.021694  20.029257                             10   \n1138206  50.010696  20.035373                             11   \n1138207  49.998474  20.036696                             12   \n1138208  49.989105  20.049334                             13   \n1138209  49.985644  20.056648                             14   \n\n         full_route_station_count  distance_to_near_city_station  \\\n0                              10                      35.612095   \n1                              10                      32.152599   \n2                              10                      25.854248   \n3                              10                      23.070959   \n4                              10                      20.013113   \n...                           ...                            ...   \n1138205                        15                      76.751356   \n1138206                        15                      77.593166   \n1138207                        15                      78.180632   \n1138208                        15                      79.411243   \n1138209                        15                      80.041721   \n\n        near_city_station_name  distance_to_prev_station  distance_from_start  \\\n0               Rzeszów Główny                  0.000000             0.000000   \n1               Rzeszów Główny                  3.889077             3.889077   \n2               Rzeszów Główny                  6.437439            10.326516   \n3               Rzeszów Główny                  2.830260            13.156776   \n4               Rzeszów Główny                  3.122964            16.279739   \n...                        ...                       ...                  ...   \n1138205               Katowice                  2.235773            19.677470   \n1138206               Katowice                  1.298655            20.976125   \n1138207               Katowice                  1.362311            22.338436   \n1138208               Katowice                  1.378941            23.717377   \n1138209               Katowice                  0.649257            24.366635   \n\n         distance_to_final  full_route_distance  stop_duration  \n0                36.484418            36.484418            0.0  \n1                31.639766            36.484418            0.5  \n2                28.265814            36.484418            0.5  \n3                22.842960            36.484418            0.5  \n4                20.043487            36.484418            0.5  \n...                    ...                  ...            ...  \n1138205           6.634256            24.366635            0.5  \n1138206           4.328076            24.366635            0.5  \n1138207           3.617016            24.366635            0.5  \n1138208           1.902019            24.366635            0.5  \n1138209           0.000000            24.366635            0.0  \n\n[1138210 rows x 18 columns]",
      "text/html": "<div>\n<style scoped>\n    .dataframe tbody tr th:only-of-type {\n        vertical-align: middle;\n    }\n\n    .dataframe tbody tr th {\n        vertical-align: top;\n    }\n\n    .dataframe thead th {\n        text-align: right;\n    }\n</style>\n<table border=\"1\" class=\"dataframe\">\n  <thead>\n    <tr style=\"text-align: right;\">\n      <th></th>\n      <th>pk</th>\n      <th>Relacja</th>\n      <th>Stacja</th>\n      <th>Opóźnienie przyjazdu</th>\n      <th>Opóźnienie odjazdu</th>\n      <th>arrival_on_time</th>\n      <th>departure_on_time</th>\n      <th>lat</th>\n      <th>lon</th>\n      <th>station_count_on_curr_station</th>\n      <th>full_route_station_count</th>\n      <th>distance_to_near_city_station</th>\n      <th>near_city_station_name</th>\n      <th>distance_to_prev_station</th>\n      <th>distance_from_start</th>\n      <th>distance_to_final</th>\n      <th>full_route_distance</th>\n      <th>stop_duration</th>\n    </tr>\n  </thead>\n  <tbody>\n    <tr>\n      <th>0</th>\n      <td>1</td>\n      <td>Przeworsk - Rzeszów Główny</td>\n      <td>Przeworsk</td>\n      <td>0</td>\n      <td>0</td>\n      <td>2022-12-01 06:55:00</td>\n      <td>2022-12-01 06:55:00</td>\n      <td>50.067161</td>\n      <td>22.503232</td>\n      <td>0</td>\n      <td>10</td>\n      <td>35.612095</td>\n      <td>Rzeszów Główny</td>\n      <td>0.000000</td>\n      <td>0.000000</td>\n      <td>36.484418</td>\n      <td>36.484418</td>\n      <td>0.0</td>\n    </tr>\n    <tr>\n      <th>1</th>\n      <td>1</td>\n      <td>Przeworsk - Rzeszów Główny</td>\n      <td>Grzęska</td>\n      <td>0</td>\n      <td>0</td>\n      <td>2022-12-01 06:58:30</td>\n      <td>2022-12-01 06:59:00</td>\n      <td>50.080037</td>\n      <td>22.452564</td>\n      <td>1</td>\n      <td>10</td>\n      <td>32.152599</td>\n      <td>Rzeszów Główny</td>\n      <td>3.889077</td>\n      <td>3.889077</td>\n      <td>31.639766</td>\n      <td>36.484418</td>\n      <td>0.5</td>\n    </tr>\n    <tr>\n      <th>2</th>\n      <td>1</td>\n      <td>Przeworsk - Rzeszów Główny</td>\n      <td>Rogóżno koło Łańcuta</td>\n      <td>0</td>\n      <td>0</td>\n      <td>2022-12-01 07:03:00</td>\n      <td>2022-12-01 07:03:30</td>\n      <td>50.083573</td>\n      <td>22.362513</td>\n      <td>2</td>\n      <td>10</td>\n      <td>25.854248</td>\n      <td>Rzeszów Główny</td>\n      <td>6.437439</td>\n      <td>10.326516</td>\n      <td>28.265814</td>\n      <td>36.484418</td>\n      <td>0.5</td>\n    </tr>\n    <tr>\n      <th>3</th>\n      <td>1</td>\n      <td>Przeworsk - Rzeszów Główny</td>\n      <td>Kosina</td>\n      <td>0</td>\n      <td>0</td>\n      <td>2022-12-01 07:06:30</td>\n      <td>2022-12-01 07:07:00</td>\n      <td>50.083570</td>\n      <td>22.322846</td>\n      <td>3</td>\n      <td>10</td>\n      <td>23.070959</td>\n      <td>Rzeszów Główny</td>\n      <td>2.830260</td>\n      <td>13.156776</td>\n      <td>22.842960</td>\n      <td>36.484418</td>\n      <td>0.5</td>\n    </tr>\n    <tr>\n      <th>4</th>\n      <td>1</td>\n      <td>Przeworsk - Rzeszów Główny</td>\n      <td>Głuchów</td>\n      <td>0</td>\n      <td>0</td>\n      <td>2022-12-01 07:09:30</td>\n      <td>2022-12-01 07:10:00</td>\n      <td>50.083469</td>\n      <td>22.279077</td>\n      <td>4</td>\n      <td>10</td>\n      <td>20.013113</td>\n      <td>Rzeszów Główny</td>\n      <td>3.122964</td>\n      <td>16.279739</td>\n      <td>20.043487</td>\n      <td>36.484418</td>\n      <td>0.5</td>\n    </tr>\n    <tr>\n      <th>...</th>\n      <td>...</td>\n      <td>...</td>\n      <td>...</td>\n      <td>...</td>\n      <td>...</td>\n      <td>...</td>\n      <td>...</td>\n      <td>...</td>\n      <td>...</td>\n      <td>...</td>\n      <td>...</td>\n      <td>...</td>\n      <td>...</td>\n      <td>...</td>\n      <td>...</td>\n      <td>...</td>\n      <td>...</td>\n      <td>...</td>\n    </tr>\n    <tr>\n      <th>1138205</th>\n      <td>52128</td>\n      <td>Kraków Lotnisko - Wieliczka Rynek-Kopalnia</td>\n      <td>Kraków Bieżanów</td>\n      <td>0</td>\n      <td>0</td>\n      <td>2023-04-23 08:52:12</td>\n      <td>2023-04-23 08:52:42</td>\n      <td>50.021694</td>\n      <td>20.029257</td>\n      <td>10</td>\n      <td>15</td>\n      <td>76.751356</td>\n      <td>Katowice</td>\n      <td>2.235773</td>\n      <td>19.677470</td>\n      <td>6.634256</td>\n      <td>24.366635</td>\n      <td>0.5</td>\n    </tr>\n    <tr>\n      <th>1138206</th>\n      <td>52128</td>\n      <td>Kraków Lotnisko - Wieliczka Rynek-Kopalnia</td>\n      <td>Kraków Bieżanów Drożdżownia</td>\n      <td>0</td>\n      <td>0</td>\n      <td>2023-04-23 08:55:00</td>\n      <td>2023-04-23 08:55:30</td>\n      <td>50.010696</td>\n      <td>20.035373</td>\n      <td>11</td>\n      <td>15</td>\n      <td>77.593166</td>\n      <td>Katowice</td>\n      <td>1.298655</td>\n      <td>20.976125</td>\n      <td>4.328076</td>\n      <td>24.366635</td>\n      <td>0.5</td>\n    </tr>\n    <tr>\n      <th>1138207</th>\n      <td>52128</td>\n      <td>Kraków Lotnisko - Wieliczka Rynek-Kopalnia</td>\n      <td>Wieliczka Bogucice</td>\n      <td>0</td>\n      <td>0</td>\n      <td>2023-04-23 08:57:24</td>\n      <td>2023-04-23 08:57:54</td>\n      <td>49.998474</td>\n      <td>20.036696</td>\n      <td>12</td>\n      <td>15</td>\n      <td>78.180632</td>\n      <td>Katowice</td>\n      <td>1.362311</td>\n      <td>22.338436</td>\n      <td>3.617016</td>\n      <td>24.366635</td>\n      <td>0.5</td>\n    </tr>\n    <tr>\n      <th>1138208</th>\n      <td>52128</td>\n      <td>Kraków Lotnisko - Wieliczka Rynek-Kopalnia</td>\n      <td>Wieliczka Park</td>\n      <td>0</td>\n      <td>0</td>\n      <td>2023-04-23 09:00:06</td>\n      <td>2023-04-23 09:00:36</td>\n      <td>49.989105</td>\n      <td>20.049334</td>\n      <td>13</td>\n      <td>15</td>\n      <td>79.411243</td>\n      <td>Katowice</td>\n      <td>1.378941</td>\n      <td>23.717377</td>\n      <td>1.902019</td>\n      <td>24.366635</td>\n      <td>0.5</td>\n    </tr>\n    <tr>\n      <th>1138209</th>\n      <td>52128</td>\n      <td>Kraków Lotnisko - Wieliczka Rynek-Kopalnia</td>\n      <td>Wieliczka Rynek-Kopalnia</td>\n      <td>0</td>\n      <td>0</td>\n      <td>2023-04-23 09:02:00</td>\n      <td>2023-04-23 09:02:00</td>\n      <td>49.985644</td>\n      <td>20.056648</td>\n      <td>14</td>\n      <td>15</td>\n      <td>80.041721</td>\n      <td>Katowice</td>\n      <td>0.649257</td>\n      <td>24.366635</td>\n      <td>0.000000</td>\n      <td>24.366635</td>\n      <td>0.0</td>\n    </tr>\n  </tbody>\n</table>\n<p>1138210 rows × 18 columns</p>\n</div>"
     },
     "execution_count": 11,
     "metadata": {},
     "output_type": "execute_result"
    }
   ],
   "source": [
    "data"
   ],
   "metadata": {
    "collapsed": false,
    "ExecuteTime": {
     "end_time": "2024-02-16T07:14:38.511414200Z",
     "start_time": "2024-02-16T07:14:38.481408Z"
    }
   },
   "id": "9395644e3ff78082",
   "execution_count": 11
  },
  {
   "cell_type": "code",
   "outputs": [],
   "source": [
    "x = get_historical_weather(50.067161, 22.503232, '2022-12-01')"
   ],
   "metadata": {
    "collapsed": false,
    "ExecuteTime": {
     "end_time": "2024-02-16T07:21:30.868916500Z",
     "start_time": "2024-02-16T07:21:30.779008700Z"
    }
   },
   "id": "20b9dcac78515fa7",
   "execution_count": 2
  },
  {
   "cell_type": "code",
   "outputs": [
    {
     "data": {
      "text/plain": "{'error': {'code': 2008, 'message': 'API key has been disabled.'}}"
     },
     "execution_count": 3,
     "metadata": {},
     "output_type": "execute_result"
    }
   ],
   "source": [
    "x"
   ],
   "metadata": {
    "collapsed": false,
    "ExecuteTime": {
     "end_time": "2024-02-16T07:21:31.705157Z",
     "start_time": "2024-02-16T07:21:31.696151100Z"
    }
   },
   "id": "70bb1a31e19a5c64",
   "execution_count": 3
  }
 ],
 "metadata": {
  "kernelspec": {
   "display_name": "Python 3",
   "language": "python",
   "name": "python3"
  },
  "language_info": {
   "codemirror_mode": {
    "name": "ipython",
    "version": 2
   },
   "file_extension": ".py",
   "mimetype": "text/x-python",
   "name": "python",
   "nbconvert_exporter": "python",
   "pygments_lexer": "ipython2",
   "version": "2.7.6"
  }
 },
 "nbformat": 4,
 "nbformat_minor": 5
}
