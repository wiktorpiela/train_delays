{
 "cells": [
  {
   "cell_type": "code",
   "execution_count": 26,
   "id": "initial_id",
   "metadata": {
    "collapsed": true,
    "ExecuteTime": {
     "end_time": "2024-02-17T05:23:39.709360900Z",
     "start_time": "2024-02-17T05:23:39.702579Z"
    }
   },
   "outputs": [],
   "source": [
    "import pandas as pd\n",
    "import numpy as np\n",
    "from ModelingUtils import make_dummies, make_ml_target\n",
    "import matplotlib.pyplot as plt\n",
    "from sklearn.model_selection import train_test_split, GridSearchCV\n",
    "from catboost import CatBoostClassifier\n",
    "from sklearn.ensemble import RandomForestClassifier\n",
    "from sklearn.metrics import classification_report, roc_auc_score, roc_curve\n",
    "from sklearn.preprocessing import label_binarize"
   ]
  },
  {
   "cell_type": "code",
   "outputs": [],
   "source": [
    "data = pd.read_parquet('../data/prepared_data.parquet')"
   ],
   "metadata": {
    "collapsed": false,
    "ExecuteTime": {
     "end_time": "2024-02-17T05:23:42.060768300Z",
     "start_time": "2024-02-17T05:23:41.611928700Z"
    }
   },
   "id": "f0ad4bba56ffe2f1",
   "execution_count": 27
  },
  {
   "cell_type": "markdown",
   "source": [
    "### make ml target"
   ],
   "metadata": {
    "collapsed": false
   },
   "id": "8d85a4c8aa99e159"
  },
  {
   "cell_type": "code",
   "outputs": [],
   "source": [
    "data = make_ml_target(data)\n",
    "data = make_dummies(data, 'near_city_station_name')"
   ],
   "metadata": {
    "collapsed": false,
    "ExecuteTime": {
     "end_time": "2024-02-17T05:23:43.380520Z",
     "start_time": "2024-02-17T05:23:42.862526500Z"
    }
   },
   "id": "9f771abed5be35b4",
   "execution_count": 28
  },
  {
   "cell_type": "code",
   "outputs": [
    {
     "data": {
      "text/plain": "            pk                                     Relacja  \\\n0            1                  Przeworsk - Rzeszów Główny   \n1            1                  Przeworsk - Rzeszów Główny   \n2            1                  Przeworsk - Rzeszów Główny   \n3            1                  Przeworsk - Rzeszów Główny   \n4            1                  Przeworsk - Rzeszów Główny   \n...        ...                                         ...   \n1138205  52128  Kraków Lotnisko - Wieliczka Rynek-Kopalnia   \n1138206  52128  Kraków Lotnisko - Wieliczka Rynek-Kopalnia   \n1138207  52128  Kraków Lotnisko - Wieliczka Rynek-Kopalnia   \n1138208  52128  Kraków Lotnisko - Wieliczka Rynek-Kopalnia   \n1138209  52128  Kraków Lotnisko - Wieliczka Rynek-Kopalnia   \n\n                              Stacja  Opóźnienie przyjazdu  \\\n0                          Przeworsk                     0   \n1                            Grzęska                     0   \n2               Rogóżno koło Łańcuta                     0   \n3                             Kosina                     0   \n4                            Głuchów                     0   \n...                              ...                   ...   \n1138205              Kraków Bieżanów                     0   \n1138206  Kraków Bieżanów Drożdżownia                     0   \n1138207           Wieliczka Bogucice                     0   \n1138208               Wieliczka Park                     0   \n1138209     Wieliczka Rynek-Kopalnia                     0   \n\n         Opóźnienie odjazdu     arrival_on_time   departure_on_time  \\\n0                         0 2022-12-01 06:55:00 2022-12-01 06:55:00   \n1                         0 2022-12-01 06:58:30 2022-12-01 06:59:00   \n2                         0 2022-12-01 07:03:00 2022-12-01 07:03:30   \n3                         0 2022-12-01 07:06:30 2022-12-01 07:07:00   \n4                         0 2022-12-01 07:09:30 2022-12-01 07:10:00   \n...                     ...                 ...                 ...   \n1138205                   0 2023-04-23 08:52:12 2023-04-23 08:52:42   \n1138206                   0 2023-04-23 08:55:00 2023-04-23 08:55:30   \n1138207                   0 2023-04-23 08:57:24 2023-04-23 08:57:54   \n1138208                   0 2023-04-23 09:00:06 2023-04-23 09:00:36   \n1138209                   0 2023-04-23 09:02:00 2023-04-23 09:02:00   \n\n               lat        lon  station_count_on_curr_station  ...  \\\n0        50.067161  22.503232                              0  ...   \n1        50.080037  22.452564                              1  ...   \n2        50.083573  22.362513                              2  ...   \n3        50.083570  22.322846                              3  ...   \n4        50.083469  22.279077                              4  ...   \n...            ...        ...                            ...  ...   \n1138205  50.021694  20.029257                             10  ...   \n1138206  50.010696  20.035373                             11  ...   \n1138207  49.998474  20.036696                             12  ...   \n1138208  49.989105  20.049334                             13  ...   \n1138209  49.985644  20.056648                             14  ...   \n\n         near_city_station_name_Katowice  near_city_station_name_Kołobrzeg  \\\n0                                    0.0                               0.0   \n1                                    0.0                               0.0   \n2                                    0.0                               0.0   \n3                                    0.0                               0.0   \n4                                    0.0                               0.0   \n...                                  ...                               ...   \n1138205                              1.0                               0.0   \n1138206                              1.0                               0.0   \n1138207                              1.0                               0.0   \n1138208                              1.0                               0.0   \n1138209                              1.0                               0.0   \n\n         near_city_station_name_Lublin Główny  \\\n0                                         0.0   \n1                                         0.0   \n2                                         0.0   \n3                                         0.0   \n4                                         0.0   \n...                                       ...   \n1138205                                   0.0   \n1138206                                   0.0   \n1138207                                   0.0   \n1138208                                   0.0   \n1138209                                   0.0   \n\n         near_city_station_name_Olsztyn Główny  \\\n0                                          0.0   \n1                                          0.0   \n2                                          0.0   \n3                                          0.0   \n4                                          0.0   \n...                                        ...   \n1138205                                    0.0   \n1138206                                    0.0   \n1138207                                    0.0   \n1138208                                    0.0   \n1138209                                    0.0   \n\n         near_city_station_name_Poznań Główny  \\\n0                                         0.0   \n1                                         0.0   \n2                                         0.0   \n3                                         0.0   \n4                                         0.0   \n...                                       ...   \n1138205                                   0.0   \n1138206                                   0.0   \n1138207                                   0.0   \n1138208                                   0.0   \n1138209                                   0.0   \n\n         near_city_station_name_Rzeszów Główny  \\\n0                                          1.0   \n1                                          1.0   \n2                                          1.0   \n3                                          1.0   \n4                                          1.0   \n...                                        ...   \n1138205                                    0.0   \n1138206                                    0.0   \n1138207                                    0.0   \n1138208                                    0.0   \n1138209                                    0.0   \n\n         near_city_station_name_Szczecin Główny  \\\n0                                           0.0   \n1                                           0.0   \n2                                           0.0   \n3                                           0.0   \n4                                           0.0   \n...                                         ...   \n1138205                                     0.0   \n1138206                                     0.0   \n1138207                                     0.0   \n1138208                                     0.0   \n1138209                                     0.0   \n\n         near_city_station_name_Warszawa Centralna  \\\n0                                              0.0   \n1                                              0.0   \n2                                              0.0   \n3                                              0.0   \n4                                              0.0   \n...                                            ...   \n1138205                                        0.0   \n1138206                                        0.0   \n1138207                                        0.0   \n1138208                                        0.0   \n1138209                                        0.0   \n\n         near_city_station_name_Wrocław Główny  \\\n0                                          0.0   \n1                                          0.0   \n2                                          0.0   \n3                                          0.0   \n4                                          0.0   \n...                                        ...   \n1138205                                    0.0   \n1138206                                    0.0   \n1138207                                    0.0   \n1138208                                    0.0   \n1138209                                    0.0   \n\n         near_city_station_name_Łódź Widzew  \n0                                       0.0  \n1                                       0.0  \n2                                       0.0  \n3                                       0.0  \n4                                       0.0  \n...                                     ...  \n1138205                                 0.0  \n1138206                                 0.0  \n1138207                                 0.0  \n1138208                                 0.0  \n1138209                                 0.0  \n\n[1138210 rows x 53 columns]",
      "text/html": "<div>\n<style scoped>\n    .dataframe tbody tr th:only-of-type {\n        vertical-align: middle;\n    }\n\n    .dataframe tbody tr th {\n        vertical-align: top;\n    }\n\n    .dataframe thead th {\n        text-align: right;\n    }\n</style>\n<table border=\"1\" class=\"dataframe\">\n  <thead>\n    <tr style=\"text-align: right;\">\n      <th></th>\n      <th>pk</th>\n      <th>Relacja</th>\n      <th>Stacja</th>\n      <th>Opóźnienie przyjazdu</th>\n      <th>Opóźnienie odjazdu</th>\n      <th>arrival_on_time</th>\n      <th>departure_on_time</th>\n      <th>lat</th>\n      <th>lon</th>\n      <th>station_count_on_curr_station</th>\n      <th>...</th>\n      <th>near_city_station_name_Katowice</th>\n      <th>near_city_station_name_Kołobrzeg</th>\n      <th>near_city_station_name_Lublin Główny</th>\n      <th>near_city_station_name_Olsztyn Główny</th>\n      <th>near_city_station_name_Poznań Główny</th>\n      <th>near_city_station_name_Rzeszów Główny</th>\n      <th>near_city_station_name_Szczecin Główny</th>\n      <th>near_city_station_name_Warszawa Centralna</th>\n      <th>near_city_station_name_Wrocław Główny</th>\n      <th>near_city_station_name_Łódź Widzew</th>\n    </tr>\n  </thead>\n  <tbody>\n    <tr>\n      <th>0</th>\n      <td>1</td>\n      <td>Przeworsk - Rzeszów Główny</td>\n      <td>Przeworsk</td>\n      <td>0</td>\n      <td>0</td>\n      <td>2022-12-01 06:55:00</td>\n      <td>2022-12-01 06:55:00</td>\n      <td>50.067161</td>\n      <td>22.503232</td>\n      <td>0</td>\n      <td>...</td>\n      <td>0.0</td>\n      <td>0.0</td>\n      <td>0.0</td>\n      <td>0.0</td>\n      <td>0.0</td>\n      <td>1.0</td>\n      <td>0.0</td>\n      <td>0.0</td>\n      <td>0.0</td>\n      <td>0.0</td>\n    </tr>\n    <tr>\n      <th>1</th>\n      <td>1</td>\n      <td>Przeworsk - Rzeszów Główny</td>\n      <td>Grzęska</td>\n      <td>0</td>\n      <td>0</td>\n      <td>2022-12-01 06:58:30</td>\n      <td>2022-12-01 06:59:00</td>\n      <td>50.080037</td>\n      <td>22.452564</td>\n      <td>1</td>\n      <td>...</td>\n      <td>0.0</td>\n      <td>0.0</td>\n      <td>0.0</td>\n      <td>0.0</td>\n      <td>0.0</td>\n      <td>1.0</td>\n      <td>0.0</td>\n      <td>0.0</td>\n      <td>0.0</td>\n      <td>0.0</td>\n    </tr>\n    <tr>\n      <th>2</th>\n      <td>1</td>\n      <td>Przeworsk - Rzeszów Główny</td>\n      <td>Rogóżno koło Łańcuta</td>\n      <td>0</td>\n      <td>0</td>\n      <td>2022-12-01 07:03:00</td>\n      <td>2022-12-01 07:03:30</td>\n      <td>50.083573</td>\n      <td>22.362513</td>\n      <td>2</td>\n      <td>...</td>\n      <td>0.0</td>\n      <td>0.0</td>\n      <td>0.0</td>\n      <td>0.0</td>\n      <td>0.0</td>\n      <td>1.0</td>\n      <td>0.0</td>\n      <td>0.0</td>\n      <td>0.0</td>\n      <td>0.0</td>\n    </tr>\n    <tr>\n      <th>3</th>\n      <td>1</td>\n      <td>Przeworsk - Rzeszów Główny</td>\n      <td>Kosina</td>\n      <td>0</td>\n      <td>0</td>\n      <td>2022-12-01 07:06:30</td>\n      <td>2022-12-01 07:07:00</td>\n      <td>50.083570</td>\n      <td>22.322846</td>\n      <td>3</td>\n      <td>...</td>\n      <td>0.0</td>\n      <td>0.0</td>\n      <td>0.0</td>\n      <td>0.0</td>\n      <td>0.0</td>\n      <td>1.0</td>\n      <td>0.0</td>\n      <td>0.0</td>\n      <td>0.0</td>\n      <td>0.0</td>\n    </tr>\n    <tr>\n      <th>4</th>\n      <td>1</td>\n      <td>Przeworsk - Rzeszów Główny</td>\n      <td>Głuchów</td>\n      <td>0</td>\n      <td>0</td>\n      <td>2022-12-01 07:09:30</td>\n      <td>2022-12-01 07:10:00</td>\n      <td>50.083469</td>\n      <td>22.279077</td>\n      <td>4</td>\n      <td>...</td>\n      <td>0.0</td>\n      <td>0.0</td>\n      <td>0.0</td>\n      <td>0.0</td>\n      <td>0.0</td>\n      <td>1.0</td>\n      <td>0.0</td>\n      <td>0.0</td>\n      <td>0.0</td>\n      <td>0.0</td>\n    </tr>\n    <tr>\n      <th>...</th>\n      <td>...</td>\n      <td>...</td>\n      <td>...</td>\n      <td>...</td>\n      <td>...</td>\n      <td>...</td>\n      <td>...</td>\n      <td>...</td>\n      <td>...</td>\n      <td>...</td>\n      <td>...</td>\n      <td>...</td>\n      <td>...</td>\n      <td>...</td>\n      <td>...</td>\n      <td>...</td>\n      <td>...</td>\n      <td>...</td>\n      <td>...</td>\n      <td>...</td>\n      <td>...</td>\n    </tr>\n    <tr>\n      <th>1138205</th>\n      <td>52128</td>\n      <td>Kraków Lotnisko - Wieliczka Rynek-Kopalnia</td>\n      <td>Kraków Bieżanów</td>\n      <td>0</td>\n      <td>0</td>\n      <td>2023-04-23 08:52:12</td>\n      <td>2023-04-23 08:52:42</td>\n      <td>50.021694</td>\n      <td>20.029257</td>\n      <td>10</td>\n      <td>...</td>\n      <td>1.0</td>\n      <td>0.0</td>\n      <td>0.0</td>\n      <td>0.0</td>\n      <td>0.0</td>\n      <td>0.0</td>\n      <td>0.0</td>\n      <td>0.0</td>\n      <td>0.0</td>\n      <td>0.0</td>\n    </tr>\n    <tr>\n      <th>1138206</th>\n      <td>52128</td>\n      <td>Kraków Lotnisko - Wieliczka Rynek-Kopalnia</td>\n      <td>Kraków Bieżanów Drożdżownia</td>\n      <td>0</td>\n      <td>0</td>\n      <td>2023-04-23 08:55:00</td>\n      <td>2023-04-23 08:55:30</td>\n      <td>50.010696</td>\n      <td>20.035373</td>\n      <td>11</td>\n      <td>...</td>\n      <td>1.0</td>\n      <td>0.0</td>\n      <td>0.0</td>\n      <td>0.0</td>\n      <td>0.0</td>\n      <td>0.0</td>\n      <td>0.0</td>\n      <td>0.0</td>\n      <td>0.0</td>\n      <td>0.0</td>\n    </tr>\n    <tr>\n      <th>1138207</th>\n      <td>52128</td>\n      <td>Kraków Lotnisko - Wieliczka Rynek-Kopalnia</td>\n      <td>Wieliczka Bogucice</td>\n      <td>0</td>\n      <td>0</td>\n      <td>2023-04-23 08:57:24</td>\n      <td>2023-04-23 08:57:54</td>\n      <td>49.998474</td>\n      <td>20.036696</td>\n      <td>12</td>\n      <td>...</td>\n      <td>1.0</td>\n      <td>0.0</td>\n      <td>0.0</td>\n      <td>0.0</td>\n      <td>0.0</td>\n      <td>0.0</td>\n      <td>0.0</td>\n      <td>0.0</td>\n      <td>0.0</td>\n      <td>0.0</td>\n    </tr>\n    <tr>\n      <th>1138208</th>\n      <td>52128</td>\n      <td>Kraków Lotnisko - Wieliczka Rynek-Kopalnia</td>\n      <td>Wieliczka Park</td>\n      <td>0</td>\n      <td>0</td>\n      <td>2023-04-23 09:00:06</td>\n      <td>2023-04-23 09:00:36</td>\n      <td>49.989105</td>\n      <td>20.049334</td>\n      <td>13</td>\n      <td>...</td>\n      <td>1.0</td>\n      <td>0.0</td>\n      <td>0.0</td>\n      <td>0.0</td>\n      <td>0.0</td>\n      <td>0.0</td>\n      <td>0.0</td>\n      <td>0.0</td>\n      <td>0.0</td>\n      <td>0.0</td>\n    </tr>\n    <tr>\n      <th>1138209</th>\n      <td>52128</td>\n      <td>Kraków Lotnisko - Wieliczka Rynek-Kopalnia</td>\n      <td>Wieliczka Rynek-Kopalnia</td>\n      <td>0</td>\n      <td>0</td>\n      <td>2023-04-23 09:02:00</td>\n      <td>2023-04-23 09:02:00</td>\n      <td>49.985644</td>\n      <td>20.056648</td>\n      <td>14</td>\n      <td>...</td>\n      <td>1.0</td>\n      <td>0.0</td>\n      <td>0.0</td>\n      <td>0.0</td>\n      <td>0.0</td>\n      <td>0.0</td>\n      <td>0.0</td>\n      <td>0.0</td>\n      <td>0.0</td>\n      <td>0.0</td>\n    </tr>\n  </tbody>\n</table>\n<p>1138210 rows × 53 columns</p>\n</div>"
     },
     "execution_count": 29,
     "metadata": {},
     "output_type": "execute_result"
    }
   ],
   "source": [
    "data"
   ],
   "metadata": {
    "collapsed": false,
    "ExecuteTime": {
     "end_time": "2024-02-17T05:23:45.958802200Z",
     "start_time": "2024-02-17T05:23:45.662741300Z"
    }
   },
   "id": "d43decf98ec0e77e",
   "execution_count": 29
  },
  {
   "cell_type": "code",
   "outputs": [],
   "source": [
    "y = data['ML_TARGET'].values\n",
    "# y = label_binarize(y, classes=[0,1,2,3])\n",
    "# n_classes = y.shape[1]\n",
    "\n",
    "X = data.iloc[:,9:].drop('ML_TARGET', axis=1)\n",
    "X_train, X_test, y_train, y_test = train_test_split(X, y, test_size=0.2, random_state=123)"
   ],
   "metadata": {
    "collapsed": false,
    "ExecuteTime": {
     "end_time": "2024-02-17T05:27:53.061748300Z",
     "start_time": "2024-02-17T05:27:51.406402600Z"
    }
   },
   "id": "7cda94c4ab90d83c",
   "execution_count": 33
  },
  {
   "cell_type": "code",
   "outputs": [
    {
     "name": "stdout",
     "output_type": "stream",
     "text": [
      "0:\tlearn: 1.1960653\ttotal: 1.1s\tremaining: 18m 22s\n",
      "1:\tlearn: 1.0620177\ttotal: 1.58s\tremaining: 13m 9s\n",
      "2:\tlearn: 0.9617336\ttotal: 1.86s\tremaining: 10m 18s\n",
      "3:\tlearn: 0.8840828\ttotal: 2.14s\tremaining: 8m 53s\n",
      "4:\tlearn: 0.8218968\ttotal: 2.42s\tremaining: 8m 2s\n",
      "5:\tlearn: 0.7706168\ttotal: 2.71s\tremaining: 7m 29s\n",
      "6:\tlearn: 0.7273040\ttotal: 3.06s\tremaining: 7m 13s\n",
      "7:\tlearn: 0.6907161\ttotal: 3.53s\tremaining: 7m 17s\n",
      "8:\tlearn: 0.6601644\ttotal: 3.83s\tremaining: 7m 1s\n",
      "9:\tlearn: 0.6339126\ttotal: 4.12s\tremaining: 6m 48s\n",
      "10:\tlearn: 0.6109925\ttotal: 4.44s\tremaining: 6m 38s\n",
      "11:\tlearn: 0.5913708\ttotal: 4.74s\tremaining: 6m 30s\n",
      "12:\tlearn: 0.5744138\ttotal: 5.08s\tremaining: 6m 26s\n",
      "13:\tlearn: 0.5600061\ttotal: 5.41s\tremaining: 6m 21s\n",
      "14:\tlearn: 0.5472621\ttotal: 5.74s\tremaining: 6m 16s\n",
      "15:\tlearn: 0.5359101\ttotal: 6.09s\tremaining: 6m 14s\n",
      "16:\tlearn: 0.5258017\ttotal: 6.42s\tremaining: 6m 11s\n",
      "17:\tlearn: 0.5173056\ttotal: 6.79s\tremaining: 6m 10s\n",
      "18:\tlearn: 0.5097049\ttotal: 7.07s\tremaining: 6m 4s\n",
      "19:\tlearn: 0.5026930\ttotal: 7.35s\tremaining: 6m\n",
      "20:\tlearn: 0.4965417\ttotal: 7.66s\tremaining: 5m 57s\n",
      "21:\tlearn: 0.4914074\ttotal: 7.98s\tremaining: 5m 54s\n",
      "22:\tlearn: 0.4867432\ttotal: 8.35s\tremaining: 5m 54s\n",
      "23:\tlearn: 0.4824736\ttotal: 8.75s\tremaining: 5m 55s\n",
      "24:\tlearn: 0.4787329\ttotal: 9.23s\tremaining: 6m\n",
      "25:\tlearn: 0.4755379\ttotal: 9.69s\tremaining: 6m 3s\n",
      "26:\tlearn: 0.4727198\ttotal: 10.1s\tremaining: 6m 5s\n",
      "27:\tlearn: 0.4698022\ttotal: 10.6s\tremaining: 6m 9s\n",
      "28:\tlearn: 0.4675295\ttotal: 10.9s\tremaining: 6m 6s\n",
      "29:\tlearn: 0.4652393\ttotal: 11.3s\tremaining: 6m 4s\n",
      "30:\tlearn: 0.4634468\ttotal: 11.6s\tremaining: 6m 1s\n",
      "31:\tlearn: 0.4615469\ttotal: 11.9s\tremaining: 5m 58s\n",
      "32:\tlearn: 0.4601407\ttotal: 12.1s\tremaining: 5m 55s\n",
      "33:\tlearn: 0.4586504\ttotal: 12.4s\tremaining: 5m 52s\n",
      "34:\tlearn: 0.4572354\ttotal: 12.7s\tremaining: 5m 50s\n",
      "35:\tlearn: 0.4561505\ttotal: 13.1s\tremaining: 5m 49s\n",
      "36:\tlearn: 0.4549587\ttotal: 13.5s\tremaining: 5m 51s\n",
      "37:\tlearn: 0.4538666\ttotal: 14s\tremaining: 5m 54s\n",
      "38:\tlearn: 0.4529620\ttotal: 14.3s\tremaining: 5m 52s\n",
      "39:\tlearn: 0.4520944\ttotal: 14.7s\tremaining: 5m 51s\n",
      "40:\tlearn: 0.4512313\ttotal: 15s\tremaining: 5m 51s\n",
      "41:\tlearn: 0.4505713\ttotal: 15.5s\tremaining: 5m 54s\n",
      "42:\tlearn: 0.4496716\ttotal: 16s\tremaining: 5m 55s\n",
      "43:\tlearn: 0.4491118\ttotal: 16.5s\tremaining: 5m 57s\n",
      "44:\tlearn: 0.4485670\ttotal: 16.8s\tremaining: 5m 57s\n",
      "45:\tlearn: 0.4479163\ttotal: 17.3s\tremaining: 5m 59s\n",
      "46:\tlearn: 0.4474221\ttotal: 17.7s\tremaining: 5m 58s\n",
      "47:\tlearn: 0.4468431\ttotal: 18.2s\tremaining: 6m\n",
      "48:\tlearn: 0.4463526\ttotal: 18.6s\tremaining: 6m\n",
      "49:\tlearn: 0.4457132\ttotal: 19.1s\tremaining: 6m 3s\n",
      "50:\tlearn: 0.4452802\ttotal: 19.5s\tremaining: 6m 2s\n",
      "51:\tlearn: 0.4450444\ttotal: 19.8s\tremaining: 6m 1s\n",
      "52:\tlearn: 0.4445571\ttotal: 20.3s\tremaining: 6m 2s\n",
      "53:\tlearn: 0.4439973\ttotal: 20.7s\tremaining: 6m 3s\n",
      "54:\tlearn: 0.4437703\ttotal: 21.1s\tremaining: 6m 2s\n",
      "55:\tlearn: 0.4434900\ttotal: 21.4s\tremaining: 6m\n",
      "56:\tlearn: 0.4432491\ttotal: 21.7s\tremaining: 5m 59s\n",
      "57:\tlearn: 0.4429727\ttotal: 22.1s\tremaining: 5m 58s\n",
      "58:\tlearn: 0.4427280\ttotal: 22.5s\tremaining: 5m 58s\n",
      "59:\tlearn: 0.4425151\ttotal: 22.9s\tremaining: 5m 58s\n",
      "60:\tlearn: 0.4420404\ttotal: 23.4s\tremaining: 6m\n",
      "61:\tlearn: 0.4417607\ttotal: 23.7s\tremaining: 5m 58s\n",
      "62:\tlearn: 0.4414310\ttotal: 24.1s\tremaining: 5m 58s\n",
      "63:\tlearn: 0.4410459\ttotal: 24.5s\tremaining: 5m 57s\n",
      "64:\tlearn: 0.4407249\ttotal: 24.9s\tremaining: 5m 58s\n",
      "65:\tlearn: 0.4405610\ttotal: 25.3s\tremaining: 5m 57s\n",
      "66:\tlearn: 0.4403395\ttotal: 25.7s\tremaining: 5m 57s\n",
      "67:\tlearn: 0.4401824\ttotal: 26.1s\tremaining: 5m 57s\n",
      "68:\tlearn: 0.4399228\ttotal: 26.5s\tremaining: 5m 57s\n",
      "69:\tlearn: 0.4397074\ttotal: 26.9s\tremaining: 5m 57s\n",
      "70:\tlearn: 0.4395642\ttotal: 27.2s\tremaining: 5m 56s\n",
      "71:\tlearn: 0.4393187\ttotal: 27.7s\tremaining: 5m 57s\n",
      "72:\tlearn: 0.4392243\ttotal: 28.1s\tremaining: 5m 56s\n",
      "73:\tlearn: 0.4389268\ttotal: 28.5s\tremaining: 5m 57s\n",
      "74:\tlearn: 0.4385927\ttotal: 29s\tremaining: 5m 57s\n",
      "75:\tlearn: 0.4384540\ttotal: 29.5s\tremaining: 5m 58s\n",
      "76:\tlearn: 0.4382853\ttotal: 29.8s\tremaining: 5m 57s\n",
      "77:\tlearn: 0.4381133\ttotal: 30.3s\tremaining: 5m 57s\n",
      "78:\tlearn: 0.4378625\ttotal: 30.7s\tremaining: 5m 57s\n",
      "79:\tlearn: 0.4376879\ttotal: 31.2s\tremaining: 5m 59s\n",
      "80:\tlearn: 0.4376048\ttotal: 31.6s\tremaining: 5m 58s\n",
      "81:\tlearn: 0.4374603\ttotal: 32.2s\tremaining: 6m\n",
      "82:\tlearn: 0.4372602\ttotal: 32.7s\tremaining: 6m\n",
      "83:\tlearn: 0.4371341\ttotal: 33.1s\tremaining: 6m 1s\n",
      "84:\tlearn: 0.4370654\ttotal: 33.5s\tremaining: 6m\n",
      "85:\tlearn: 0.4368467\ttotal: 34s\tremaining: 6m 1s\n",
      "86:\tlearn: 0.4367220\ttotal: 34.4s\tremaining: 6m 1s\n",
      "87:\tlearn: 0.4364228\ttotal: 35s\tremaining: 6m 2s\n",
      "88:\tlearn: 0.4361364\ttotal: 35.4s\tremaining: 6m 2s\n",
      "89:\tlearn: 0.4360067\ttotal: 35.9s\tremaining: 6m 3s\n",
      "90:\tlearn: 0.4358713\ttotal: 36.3s\tremaining: 6m 3s\n",
      "91:\tlearn: 0.4357260\ttotal: 36.9s\tremaining: 6m 4s\n",
      "92:\tlearn: 0.4355839\ttotal: 37.3s\tremaining: 6m 3s\n",
      "93:\tlearn: 0.4353712\ttotal: 37.9s\tremaining: 6m 5s\n",
      "94:\tlearn: 0.4352036\ttotal: 38.4s\tremaining: 6m 5s\n",
      "95:\tlearn: 0.4350336\ttotal: 38.9s\tremaining: 6m 6s\n",
      "96:\tlearn: 0.4349478\ttotal: 39.3s\tremaining: 6m 6s\n",
      "97:\tlearn: 0.4348711\ttotal: 39.8s\tremaining: 6m 6s\n",
      "98:\tlearn: 0.4345062\ttotal: 40.4s\tremaining: 6m 7s\n",
      "99:\tlearn: 0.4344294\ttotal: 40.9s\tremaining: 6m 8s\n",
      "100:\tlearn: 0.4341843\ttotal: 41.4s\tremaining: 6m 8s\n",
      "101:\tlearn: 0.4340731\ttotal: 42s\tremaining: 6m 9s\n",
      "102:\tlearn: 0.4337154\ttotal: 42.4s\tremaining: 6m 9s\n",
      "103:\tlearn: 0.4335569\ttotal: 43s\tremaining: 6m 10s\n",
      "104:\tlearn: 0.4333543\ttotal: 43.5s\tremaining: 6m 10s\n",
      "105:\tlearn: 0.4331287\ttotal: 44.2s\tremaining: 6m 12s\n",
      "106:\tlearn: 0.4330318\ttotal: 44.7s\tremaining: 6m 12s\n",
      "107:\tlearn: 0.4327990\ttotal: 45.3s\tremaining: 6m 14s\n",
      "108:\tlearn: 0.4325504\ttotal: 45.8s\tremaining: 6m 14s\n",
      "109:\tlearn: 0.4324539\ttotal: 46.3s\tremaining: 6m 14s\n",
      "110:\tlearn: 0.4322917\ttotal: 46.8s\tremaining: 6m 15s\n",
      "111:\tlearn: 0.4320932\ttotal: 47.5s\tremaining: 6m 16s\n",
      "112:\tlearn: 0.4319271\ttotal: 48.1s\tremaining: 6m 17s\n",
      "113:\tlearn: 0.4318534\ttotal: 48.7s\tremaining: 6m 18s\n",
      "114:\tlearn: 0.4317800\ttotal: 49.1s\tremaining: 6m 18s\n",
      "115:\tlearn: 0.4315081\ttotal: 49.8s\tremaining: 6m 19s\n",
      "116:\tlearn: 0.4314250\ttotal: 50.2s\tremaining: 6m 19s\n",
      "117:\tlearn: 0.4313519\ttotal: 50.7s\tremaining: 6m 19s\n",
      "118:\tlearn: 0.4310904\ttotal: 51.2s\tremaining: 6m 19s\n",
      "119:\tlearn: 0.4309490\ttotal: 51.8s\tremaining: 6m 19s\n",
      "120:\tlearn: 0.4306324\ttotal: 52.2s\tremaining: 6m 19s\n",
      "121:\tlearn: 0.4305307\ttotal: 52.7s\tremaining: 6m 19s\n",
      "122:\tlearn: 0.4304371\ttotal: 53.1s\tremaining: 6m 18s\n",
      "123:\tlearn: 0.4303427\ttotal: 53.7s\tremaining: 6m 19s\n",
      "124:\tlearn: 0.4301339\ttotal: 54.2s\tremaining: 6m 19s\n",
      "125:\tlearn: 0.4300148\ttotal: 54.9s\tremaining: 6m 20s\n",
      "126:\tlearn: 0.4298153\ttotal: 55.4s\tremaining: 6m 20s\n",
      "127:\tlearn: 0.4295868\ttotal: 55.9s\tremaining: 6m 20s\n",
      "128:\tlearn: 0.4295182\ttotal: 56.4s\tremaining: 6m 20s\n",
      "129:\tlearn: 0.4292786\ttotal: 57.2s\tremaining: 6m 23s\n",
      "130:\tlearn: 0.4291648\ttotal: 57.7s\tremaining: 6m 22s\n",
      "131:\tlearn: 0.4290307\ttotal: 59.7s\tremaining: 6m 32s\n",
      "132:\tlearn: 0.4289127\ttotal: 1m\tremaining: 6m 33s\n",
      "133:\tlearn: 0.4288694\ttotal: 1m\tremaining: 6m 33s\n",
      "134:\tlearn: 0.4285742\ttotal: 1m 1s\tremaining: 6m 34s\n",
      "135:\tlearn: 0.4284275\ttotal: 1m 2s\tremaining: 6m 35s\n",
      "136:\tlearn: 0.4282304\ttotal: 1m 2s\tremaining: 6m 35s\n",
      "137:\tlearn: 0.4281614\ttotal: 1m 3s\tremaining: 6m 35s\n",
      "138:\tlearn: 0.4280371\ttotal: 1m 3s\tremaining: 6m 35s\n",
      "139:\tlearn: 0.4278503\ttotal: 1m 4s\tremaining: 6m 35s\n",
      "140:\tlearn: 0.4277467\ttotal: 1m 4s\tremaining: 6m 35s\n",
      "141:\tlearn: 0.4276193\ttotal: 1m 5s\tremaining: 6m 35s\n",
      "142:\tlearn: 0.4274987\ttotal: 1m 6s\tremaining: 6m 36s\n",
      "143:\tlearn: 0.4274181\ttotal: 1m 6s\tremaining: 6m 36s\n",
      "144:\tlearn: 0.4273100\ttotal: 1m 7s\tremaining: 6m 36s\n",
      "145:\tlearn: 0.4272315\ttotal: 1m 7s\tremaining: 6m 35s\n",
      "146:\tlearn: 0.4271036\ttotal: 1m 7s\tremaining: 6m 34s\n",
      "147:\tlearn: 0.4269814\ttotal: 1m 8s\tremaining: 6m 33s\n",
      "148:\tlearn: 0.4269202\ttotal: 1m 8s\tremaining: 6m 32s\n",
      "149:\tlearn: 0.4268297\ttotal: 1m 9s\tremaining: 6m 32s\n",
      "150:\tlearn: 0.4266638\ttotal: 1m 9s\tremaining: 6m 33s\n",
      "151:\tlearn: 0.4265437\ttotal: 1m 10s\tremaining: 6m 33s\n",
      "152:\tlearn: 0.4263858\ttotal: 1m 10s\tremaining: 6m 32s\n",
      "153:\tlearn: 0.4262823\ttotal: 1m 11s\tremaining: 6m 32s\n",
      "154:\tlearn: 0.4262326\ttotal: 1m 11s\tremaining: 6m 31s\n",
      "155:\tlearn: 0.4261742\ttotal: 1m 12s\tremaining: 6m 31s\n",
      "156:\tlearn: 0.4260815\ttotal: 1m 12s\tremaining: 6m 30s\n",
      "157:\tlearn: 0.4259742\ttotal: 1m 13s\tremaining: 6m 30s\n",
      "158:\tlearn: 0.4258411\ttotal: 1m 14s\tremaining: 6m 31s\n",
      "159:\tlearn: 0.4257414\ttotal: 1m 14s\tremaining: 6m 32s\n",
      "160:\tlearn: 0.4256743\ttotal: 1m 15s\tremaining: 6m 31s\n",
      "161:\tlearn: 0.4255578\ttotal: 1m 15s\tremaining: 6m 31s\n",
      "162:\tlearn: 0.4253419\ttotal: 1m 16s\tremaining: 6m 32s\n",
      "163:\tlearn: 0.4252470\ttotal: 1m 16s\tremaining: 6m 31s\n",
      "164:\tlearn: 0.4251560\ttotal: 1m 17s\tremaining: 6m 31s\n",
      "165:\tlearn: 0.4251052\ttotal: 1m 18s\tremaining: 6m 32s\n"
     ]
    }
   ],
   "source": [
    "model = CatBoostClassifier(\n",
    "    iterations=1000,  # Number of trees (boosting rounds)\n",
    "    learning_rate=0.1,  # Learning rate\n",
    "    depth=6,  # Depth of each tree\n",
    "    loss_function='MultiClass',  # Loss function for multiclass classification\n",
    "    random_seed=123\n",
    ")\n",
    "model.fit(X_train, y_train)"
   ],
   "metadata": {
    "collapsed": false,
    "is_executing": true,
    "ExecuteTime": {
     "start_time": "2024-02-17T05:27:57.316375200Z"
    }
   },
   "id": "a0970762f636c95f",
   "execution_count": null
  },
  {
   "cell_type": "code",
   "outputs": [],
   "source": [],
   "metadata": {
    "collapsed": false
   },
   "id": "812168dd11dd93b7"
  },
  {
   "cell_type": "code",
   "outputs": [],
   "source": [],
   "metadata": {
    "collapsed": false
   },
   "id": "faf14e96755aa7e7"
  },
  {
   "cell_type": "code",
   "outputs": [],
   "source": [],
   "metadata": {
    "collapsed": false
   },
   "id": "afe47a135ddf964c"
  },
  {
   "cell_type": "code",
   "outputs": [],
   "source": [],
   "metadata": {
    "collapsed": false
   },
   "id": "b1d6f1516b7db669"
  },
  {
   "cell_type": "code",
   "outputs": [],
   "source": [],
   "metadata": {
    "collapsed": false
   },
   "id": "57482033ad593700"
  },
  {
   "cell_type": "code",
   "outputs": [],
   "source": [],
   "metadata": {
    "collapsed": false
   },
   "id": "1b587aaedc6bbf9c"
  },
  {
   "cell_type": "code",
   "outputs": [],
   "source": [],
   "metadata": {
    "collapsed": false
   },
   "id": "5c8a660ed4f9b67c"
  },
  {
   "cell_type": "code",
   "outputs": [],
   "source": [],
   "metadata": {
    "collapsed": false
   },
   "id": "9ac2ba3dae0b689b"
  },
  {
   "cell_type": "code",
   "outputs": [],
   "source": [],
   "metadata": {
    "collapsed": false
   },
   "id": "4962e9a473696c51"
  },
  {
   "cell_type": "code",
   "outputs": [],
   "source": [],
   "metadata": {
    "collapsed": false
   },
   "id": "8f87b86245d6cdfc"
  },
  {
   "cell_type": "code",
   "outputs": [],
   "source": [
    "X_train, X_test, y_train, y_test = train_test_split(X, y, test_size=0.2, random_state=123)\n",
    "model = RandomForestClassifier(random_state=123)\n",
    "\n",
    "param_grid = {\n",
    "    'n_estimators': [50, 100, 150],\n",
    "    'max_depth': [None, 10, 20],\n",
    "    'min_samples_split': [2, 5, 10],\n",
    "    'min_samples_leaf': [1, 2, 4]\n",
    "}\n",
    "\n",
    "cv = GridSearchCV(estimator=model, param_grid=param_grid, cv=5, scoring='accuracy')\n",
    "cv.fit(X_train, y_train)"
   ],
   "metadata": {
    "collapsed": false,
    "ExecuteTime": {
     "start_time": "2024-02-16T12:48:48.369777100Z"
    }
   },
   "id": "f65c3a16169f5109",
   "execution_count": null
  },
  {
   "cell_type": "code",
   "outputs": [],
   "source": [],
   "metadata": {
    "collapsed": false
   },
   "id": "df14ce451b39d2d8"
  },
  {
   "cell_type": "code",
   "outputs": [],
   "source": [],
   "metadata": {
    "collapsed": false
   },
   "id": "e7526fa6fcd2d29c"
  },
  {
   "cell_type": "code",
   "outputs": [],
   "source": [],
   "metadata": {
    "collapsed": false
   },
   "id": "b66a6a4d3c3ec0ae"
  },
  {
   "cell_type": "code",
   "outputs": [],
   "source": [],
   "metadata": {
    "collapsed": false
   },
   "id": "f4fcc73707f105f3"
  }
 ],
 "metadata": {
  "kernelspec": {
   "display_name": "Python 3",
   "language": "python",
   "name": "python3"
  },
  "language_info": {
   "codemirror_mode": {
    "name": "ipython",
    "version": 2
   },
   "file_extension": ".py",
   "mimetype": "text/x-python",
   "name": "python",
   "nbconvert_exporter": "python",
   "pygments_lexer": "ipython2",
   "version": "2.7.6"
  }
 },
 "nbformat": 4,
 "nbformat_minor": 5
}
