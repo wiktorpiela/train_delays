{
 "cells": [
  {
   "cell_type": "code",
   "execution_count": 1,
   "metadata": {},
   "outputs": [],
   "source": [
    "import os, schedule, time\n",
    "import pandas as pd\n",
    "import numpy as np\n",
    "from datetime import datetime, timedelta\n",
    "from selenium import webdriver\n",
    "from webdriver_manager.chrome import ChromeDriverManager\n",
    "import matplotlib.pyplot as plt"
   ]
  },
  {
   "cell_type": "code",
   "execution_count": 2,
   "metadata": {},
   "outputs": [],
   "source": [
    "city_dict = pd.read_excel(os.getcwd()+\"//miasta_slownik.xlsx\")\\\n",
    "    .iloc[:,1]\\\n",
    "        .to_list()\n",
    "\n",
    "main_path = \"https://infopasazer.intercity.pl/?p=station&id=\""
   ]
  },
  {
   "cell_type": "code",
   "execution_count": 4,
   "metadata": {},
   "outputs": [
    {
     "name": "stdout",
     "output_type": "stream",
     "text": [
      "\n"
     ]
    },
    {
     "name": "stderr",
     "output_type": "stream",
     "text": [
      "[WDM] - ====== WebDriver manager ======\n",
      "[WDM] - Current google-chrome version is 105.0.5195\n",
      "[WDM] - Get LATEST chromedriver version for 105.0.5195 google-chrome\n",
      "[WDM] - Driver [C:\\Users\\wpiel\\.wdm\\drivers\\chromedriver\\win32\\105.0.5195.52\\chromedriver.exe] found in cache\n",
      "C:\\Users\\wpiel\\AppData\\Local\\Temp\\ipykernel_4152\\614994235.py:12: DeprecationWarning: executable_path has been deprecated, please pass in a Service object\n",
      "  driver = webdriver.Chrome(ChromeDriverManager().install())\n",
      "C:\\Users\\wpiel\\AppData\\Local\\Temp\\ipykernel_4152\\614994235.py:16: DeprecationWarning: find_elements_by_xpath is deprecated. Please use find_elements(by=By.XPATH, value=xpath) instead\n",
      "  elems = driver.find_elements_by_xpath(\"//a[@href]\")\n"
     ]
    },
    {
     "name": "stdout",
     "output_type": "stream",
     "text": [
      "\n"
     ]
    },
    {
     "name": "stderr",
     "output_type": "stream",
     "text": [
      "[WDM] - ====== WebDriver manager ======\n",
      "[WDM] - Current google-chrome version is 105.0.5195\n",
      "[WDM] - Get LATEST chromedriver version for 105.0.5195 google-chrome\n",
      "[WDM] - Driver [C:\\Users\\wpiel\\.wdm\\drivers\\chromedriver\\win32\\105.0.5195.52\\chromedriver.exe] found in cache\n"
     ]
    },
    {
     "name": "stdout",
     "output_type": "stream",
     "text": [
      "\n"
     ]
    },
    {
     "name": "stderr",
     "output_type": "stream",
     "text": [
      "[WDM] - ====== WebDriver manager ======\n",
      "[WDM] - Current google-chrome version is 105.0.5195\n",
      "[WDM] - Get LATEST chromedriver version for 105.0.5195 google-chrome\n",
      "[WDM] - Driver [C:\\Users\\wpiel\\.wdm\\drivers\\chromedriver\\win32\\105.0.5195.52\\chromedriver.exe] found in cache\n"
     ]
    },
    {
     "name": "stdout",
     "output_type": "stream",
     "text": [
      "\n"
     ]
    },
    {
     "name": "stderr",
     "output_type": "stream",
     "text": [
      "[WDM] - ====== WebDriver manager ======\n",
      "[WDM] - Current google-chrome version is 105.0.5195\n",
      "[WDM] - Get LATEST chromedriver version for 105.0.5195 google-chrome\n",
      "[WDM] - Driver [C:\\Users\\wpiel\\.wdm\\drivers\\chromedriver\\win32\\105.0.5195.52\\chromedriver.exe] found in cache\n"
     ]
    },
    {
     "name": "stdout",
     "output_type": "stream",
     "text": [
      "\n"
     ]
    },
    {
     "name": "stderr",
     "output_type": "stream",
     "text": [
      "[WDM] - ====== WebDriver manager ======\n",
      "[WDM] - Current google-chrome version is 105.0.5195\n",
      "[WDM] - Get LATEST chromedriver version for 105.0.5195 google-chrome\n",
      "[WDM] - Driver [C:\\Users\\wpiel\\.wdm\\drivers\\chromedriver\\win32\\105.0.5195.52\\chromedriver.exe] found in cache\n"
     ]
    },
    {
     "name": "stdout",
     "output_type": "stream",
     "text": [
      "\n"
     ]
    },
    {
     "name": "stderr",
     "output_type": "stream",
     "text": [
      "[WDM] - ====== WebDriver manager ======\n",
      "[WDM] - Current google-chrome version is 105.0.5195\n",
      "[WDM] - Get LATEST chromedriver version for 105.0.5195 google-chrome\n",
      "[WDM] - Driver [C:\\Users\\wpiel\\.wdm\\drivers\\chromedriver\\win32\\105.0.5195.52\\chromedriver.exe] found in cache\n"
     ]
    },
    {
     "name": "stdout",
     "output_type": "stream",
     "text": [
      "\n"
     ]
    },
    {
     "name": "stderr",
     "output_type": "stream",
     "text": [
      "[WDM] - ====== WebDriver manager ======\n",
      "[WDM] - Current google-chrome version is 105.0.5195\n",
      "[WDM] - Get LATEST chromedriver version for 105.0.5195 google-chrome\n",
      "[WDM] - Driver [C:\\Users\\wpiel\\.wdm\\drivers\\chromedriver\\win32\\105.0.5195.52\\chromedriver.exe] found in cache\n"
     ]
    },
    {
     "name": "stdout",
     "output_type": "stream",
     "text": [
      "\n"
     ]
    },
    {
     "name": "stderr",
     "output_type": "stream",
     "text": [
      "[WDM] - ====== WebDriver manager ======\n",
      "[WDM] - Current google-chrome version is 105.0.5195\n",
      "[WDM] - Get LATEST chromedriver version for 105.0.5195 google-chrome\n",
      "[WDM] - Driver [C:\\Users\\wpiel\\.wdm\\drivers\\chromedriver\\win32\\105.0.5195.52\\chromedriver.exe] found in cache\n"
     ]
    },
    {
     "name": "stdout",
     "output_type": "stream",
     "text": [
      "\n"
     ]
    },
    {
     "name": "stderr",
     "output_type": "stream",
     "text": [
      "[WDM] - ====== WebDriver manager ======\n",
      "[WDM] - Current google-chrome version is 105.0.5195\n",
      "[WDM] - Get LATEST chromedriver version for 105.0.5195 google-chrome\n",
      "[WDM] - Driver [C:\\Users\\wpiel\\.wdm\\drivers\\chromedriver\\win32\\105.0.5195.52\\chromedriver.exe] found in cache\n"
     ]
    },
    {
     "name": "stdout",
     "output_type": "stream",
     "text": [
      "\n"
     ]
    },
    {
     "name": "stderr",
     "output_type": "stream",
     "text": [
      "[WDM] - ====== WebDriver manager ======\n",
      "[WDM] - Current google-chrome version is 105.0.5195\n",
      "[WDM] - Get LATEST chromedriver version for 105.0.5195 google-chrome\n",
      "[WDM] - Driver [C:\\Users\\wpiel\\.wdm\\drivers\\chromedriver\\win32\\105.0.5195.52\\chromedriver.exe] found in cache\n"
     ]
    },
    {
     "name": "stdout",
     "output_type": "stream",
     "text": [
      "\n"
     ]
    },
    {
     "name": "stderr",
     "output_type": "stream",
     "text": [
      "[WDM] - ====== WebDriver manager ======\n",
      "[WDM] - Current google-chrome version is 105.0.5195\n",
      "[WDM] - Get LATEST chromedriver version for 105.0.5195 google-chrome\n",
      "[WDM] - Driver [C:\\Users\\wpiel\\.wdm\\drivers\\chromedriver\\win32\\105.0.5195.52\\chromedriver.exe] found in cache\n"
     ]
    },
    {
     "name": "stdout",
     "output_type": "stream",
     "text": [
      "\n"
     ]
    },
    {
     "name": "stderr",
     "output_type": "stream",
     "text": [
      "[WDM] - ====== WebDriver manager ======\n",
      "[WDM] - Current google-chrome version is 105.0.5195\n",
      "[WDM] - Get LATEST chromedriver version for 105.0.5195 google-chrome\n",
      "[WDM] - Driver [C:\\Users\\wpiel\\.wdm\\drivers\\chromedriver\\win32\\105.0.5195.52\\chromedriver.exe] found in cache\n"
     ]
    },
    {
     "name": "stdout",
     "output_type": "stream",
     "text": [
      "\n"
     ]
    },
    {
     "name": "stderr",
     "output_type": "stream",
     "text": [
      "[WDM] - ====== WebDriver manager ======\n",
      "[WDM] - Current google-chrome version is 105.0.5195\n",
      "[WDM] - Get LATEST chromedriver version for 105.0.5195 google-chrome\n",
      "[WDM] - Driver [C:\\Users\\wpiel\\.wdm\\drivers\\chromedriver\\win32\\105.0.5195.52\\chromedriver.exe] found in cache\n"
     ]
    },
    {
     "name": "stdout",
     "output_type": "stream",
     "text": [
      "\n"
     ]
    },
    {
     "name": "stderr",
     "output_type": "stream",
     "text": [
      "[WDM] - ====== WebDriver manager ======\n",
      "[WDM] - Current google-chrome version is 105.0.5195\n",
      "[WDM] - Get LATEST chromedriver version for 105.0.5195 google-chrome\n",
      "[WDM] - Driver [C:\\Users\\wpiel\\.wdm\\drivers\\chromedriver\\win32\\105.0.5195.52\\chromedriver.exe] found in cache\n"
     ]
    },
    {
     "name": "stdout",
     "output_type": "stream",
     "text": [
      "\n"
     ]
    },
    {
     "name": "stderr",
     "output_type": "stream",
     "text": [
      "[WDM] - ====== WebDriver manager ======\n",
      "[WDM] - Current google-chrome version is 105.0.5195\n",
      "[WDM] - Get LATEST chromedriver version for 105.0.5195 google-chrome\n",
      "[WDM] - Driver [C:\\Users\\wpiel\\.wdm\\drivers\\chromedriver\\win32\\105.0.5195.52\\chromedriver.exe] found in cache\n"
     ]
    },
    {
     "name": "stdout",
     "output_type": "stream",
     "text": [
      "\n"
     ]
    },
    {
     "name": "stderr",
     "output_type": "stream",
     "text": [
      "[WDM] - ====== WebDriver manager ======\n",
      "[WDM] - Current google-chrome version is 105.0.5195\n",
      "[WDM] - Get LATEST chromedriver version for 105.0.5195 google-chrome\n",
      "[WDM] - Driver [C:\\Users\\wpiel\\.wdm\\drivers\\chromedriver\\win32\\105.0.5195.52\\chromedriver.exe] found in cache\n"
     ]
    },
    {
     "name": "stdout",
     "output_type": "stream",
     "text": [
      "\n"
     ]
    },
    {
     "name": "stderr",
     "output_type": "stream",
     "text": [
      "[WDM] - ====== WebDriver manager ======\n",
      "[WDM] - Current google-chrome version is 105.0.5195\n",
      "[WDM] - Get LATEST chromedriver version for 105.0.5195 google-chrome\n",
      "[WDM] - Driver [C:\\Users\\wpiel\\.wdm\\drivers\\chromedriver\\win32\\105.0.5195.52\\chromedriver.exe] found in cache\n"
     ]
    },
    {
     "name": "stdout",
     "output_type": "stream",
     "text": [
      "\n"
     ]
    },
    {
     "name": "stderr",
     "output_type": "stream",
     "text": [
      "[WDM] - ====== WebDriver manager ======\n",
      "[WDM] - Current google-chrome version is 105.0.5195\n",
      "[WDM] - Get LATEST chromedriver version for 105.0.5195 google-chrome\n",
      "[WDM] - Driver [C:\\Users\\wpiel\\.wdm\\drivers\\chromedriver\\win32\\105.0.5195.52\\chromedriver.exe] found in cache\n"
     ]
    },
    {
     "name": "stdout",
     "output_type": "stream",
     "text": [
      "\n"
     ]
    },
    {
     "name": "stderr",
     "output_type": "stream",
     "text": [
      "[WDM] - ====== WebDriver manager ======\n",
      "[WDM] - Current google-chrome version is 105.0.5195\n",
      "[WDM] - Get LATEST chromedriver version for 105.0.5195 google-chrome\n",
      "[WDM] - Driver [C:\\Users\\wpiel\\.wdm\\drivers\\chromedriver\\win32\\105.0.5195.52\\chromedriver.exe] found in cache\n"
     ]
    },
    {
     "name": "stdout",
     "output_type": "stream",
     "text": [
      "\n"
     ]
    },
    {
     "name": "stderr",
     "output_type": "stream",
     "text": [
      "[WDM] - ====== WebDriver manager ======\n",
      "[WDM] - Current google-chrome version is 105.0.5195\n",
      "[WDM] - Get LATEST chromedriver version for 105.0.5195 google-chrome\n",
      "[WDM] - Driver [C:\\Users\\wpiel\\.wdm\\drivers\\chromedriver\\win32\\105.0.5195.52\\chromedriver.exe] found in cache\n"
     ]
    },
    {
     "name": "stdout",
     "output_type": "stream",
     "text": [
      "\n"
     ]
    },
    {
     "name": "stderr",
     "output_type": "stream",
     "text": [
      "[WDM] - ====== WebDriver manager ======\n",
      "[WDM] - Current google-chrome version is 105.0.5195\n",
      "[WDM] - Get LATEST chromedriver version for 105.0.5195 google-chrome\n",
      "[WDM] - Driver [C:\\Users\\wpiel\\.wdm\\drivers\\chromedriver\\win32\\105.0.5195.52\\chromedriver.exe] found in cache\n"
     ]
    },
    {
     "name": "stdout",
     "output_type": "stream",
     "text": [
      "\n"
     ]
    },
    {
     "name": "stderr",
     "output_type": "stream",
     "text": [
      "[WDM] - ====== WebDriver manager ======\n",
      "[WDM] - Current google-chrome version is 105.0.5195\n",
      "[WDM] - Get LATEST chromedriver version for 105.0.5195 google-chrome\n",
      "[WDM] - Driver [C:\\Users\\wpiel\\.wdm\\drivers\\chromedriver\\win32\\105.0.5195.52\\chromedriver.exe] found in cache\n"
     ]
    },
    {
     "name": "stdout",
     "output_type": "stream",
     "text": [
      "\n"
     ]
    },
    {
     "name": "stderr",
     "output_type": "stream",
     "text": [
      "[WDM] - ====== WebDriver manager ======\n",
      "[WDM] - Current google-chrome version is 105.0.5195\n",
      "[WDM] - Get LATEST chromedriver version for 105.0.5195 google-chrome\n",
      "[WDM] - Driver [C:\\Users\\wpiel\\.wdm\\drivers\\chromedriver\\win32\\105.0.5195.52\\chromedriver.exe] found in cache\n"
     ]
    },
    {
     "name": "stdout",
     "output_type": "stream",
     "text": [
      "\n"
     ]
    },
    {
     "name": "stderr",
     "output_type": "stream",
     "text": [
      "[WDM] - ====== WebDriver manager ======\n",
      "[WDM] - Current google-chrome version is 105.0.5195\n",
      "[WDM] - Get LATEST chromedriver version for 105.0.5195 google-chrome\n",
      "[WDM] - Driver [C:\\Users\\wpiel\\.wdm\\drivers\\chromedriver\\win32\\105.0.5195.52\\chromedriver.exe] found in cache\n"
     ]
    },
    {
     "name": "stdout",
     "output_type": "stream",
     "text": [
      "\n"
     ]
    },
    {
     "name": "stderr",
     "output_type": "stream",
     "text": [
      "[WDM] - ====== WebDriver manager ======\n",
      "[WDM] - Current google-chrome version is 105.0.5195\n",
      "[WDM] - Get LATEST chromedriver version for 105.0.5195 google-chrome\n",
      "[WDM] - Driver [C:\\Users\\wpiel\\.wdm\\drivers\\chromedriver\\win32\\105.0.5195.52\\chromedriver.exe] found in cache\n"
     ]
    },
    {
     "name": "stdout",
     "output_type": "stream",
     "text": [
      "\n"
     ]
    },
    {
     "name": "stderr",
     "output_type": "stream",
     "text": [
      "[WDM] - ====== WebDriver manager ======\n",
      "[WDM] - Current google-chrome version is 105.0.5195\n",
      "[WDM] - Get LATEST chromedriver version for 105.0.5195 google-chrome\n",
      "[WDM] - Driver [C:\\Users\\wpiel\\.wdm\\drivers\\chromedriver\\win32\\105.0.5195.52\\chromedriver.exe] found in cache\n"
     ]
    },
    {
     "name": "stdout",
     "output_type": "stream",
     "text": [
      "\n"
     ]
    },
    {
     "name": "stderr",
     "output_type": "stream",
     "text": [
      "[WDM] - ====== WebDriver manager ======\n",
      "[WDM] - Current google-chrome version is 105.0.5195\n",
      "[WDM] - Get LATEST chromedriver version for 105.0.5195 google-chrome\n",
      "[WDM] - Driver [C:\\Users\\wpiel\\.wdm\\drivers\\chromedriver\\win32\\105.0.5195.52\\chromedriver.exe] found in cache\n"
     ]
    },
    {
     "name": "stdout",
     "output_type": "stream",
     "text": [
      "\n"
     ]
    },
    {
     "name": "stderr",
     "output_type": "stream",
     "text": [
      "[WDM] - ====== WebDriver manager ======\n",
      "[WDM] - Current google-chrome version is 105.0.5195\n",
      "[WDM] - Get LATEST chromedriver version for 105.0.5195 google-chrome\n",
      "[WDM] - Driver [C:\\Users\\wpiel\\.wdm\\drivers\\chromedriver\\win32\\105.0.5195.52\\chromedriver.exe] found in cache\n"
     ]
    },
    {
     "name": "stdout",
     "output_type": "stream",
     "text": [
      "\n"
     ]
    },
    {
     "name": "stderr",
     "output_type": "stream",
     "text": [
      "[WDM] - ====== WebDriver manager ======\n",
      "[WDM] - Current google-chrome version is 105.0.5195\n",
      "[WDM] - Get LATEST chromedriver version for 105.0.5195 google-chrome\n",
      "[WDM] - Driver [C:\\Users\\wpiel\\.wdm\\drivers\\chromedriver\\win32\\105.0.5195.52\\chromedriver.exe] found in cache\n"
     ]
    },
    {
     "name": "stdout",
     "output_type": "stream",
     "text": [
      "\n"
     ]
    },
    {
     "name": "stderr",
     "output_type": "stream",
     "text": [
      "[WDM] - ====== WebDriver manager ======\n",
      "[WDM] - Current google-chrome version is 105.0.5195\n",
      "[WDM] - Get LATEST chromedriver version for 105.0.5195 google-chrome\n",
      "[WDM] - Driver [C:\\Users\\wpiel\\.wdm\\drivers\\chromedriver\\win32\\105.0.5195.52\\chromedriver.exe] found in cache\n"
     ]
    },
    {
     "name": "stdout",
     "output_type": "stream",
     "text": [
      "\n"
     ]
    },
    {
     "name": "stderr",
     "output_type": "stream",
     "text": [
      "[WDM] - ====== WebDriver manager ======\n",
      "[WDM] - Current google-chrome version is 105.0.5195\n",
      "[WDM] - Get LATEST chromedriver version for 105.0.5195 google-chrome\n",
      "[WDM] - Driver [C:\\Users\\wpiel\\.wdm\\drivers\\chromedriver\\win32\\105.0.5195.52\\chromedriver.exe] found in cache\n"
     ]
    },
    {
     "name": "stdout",
     "output_type": "stream",
     "text": [
      "\n"
     ]
    },
    {
     "name": "stderr",
     "output_type": "stream",
     "text": [
      "[WDM] - ====== WebDriver manager ======\n",
      "[WDM] - Current google-chrome version is 105.0.5195\n",
      "[WDM] - Get LATEST chromedriver version for 105.0.5195 google-chrome\n",
      "[WDM] - Driver [C:\\Users\\wpiel\\.wdm\\drivers\\chromedriver\\win32\\105.0.5195.52\\chromedriver.exe] found in cache\n"
     ]
    },
    {
     "name": "stdout",
     "output_type": "stream",
     "text": [
      "\n"
     ]
    },
    {
     "name": "stderr",
     "output_type": "stream",
     "text": [
      "[WDM] - ====== WebDriver manager ======\n",
      "[WDM] - Current google-chrome version is 105.0.5195\n",
      "[WDM] - Get LATEST chromedriver version for 105.0.5195 google-chrome\n",
      "[WDM] - Driver [C:\\Users\\wpiel\\.wdm\\drivers\\chromedriver\\win32\\105.0.5195.52\\chromedriver.exe] found in cache\n"
     ]
    },
    {
     "name": "stdout",
     "output_type": "stream",
     "text": [
      "\n"
     ]
    },
    {
     "name": "stderr",
     "output_type": "stream",
     "text": [
      "[WDM] - ====== WebDriver manager ======\n",
      "[WDM] - Current google-chrome version is 105.0.5195\n",
      "[WDM] - Get LATEST chromedriver version for 105.0.5195 google-chrome\n",
      "[WDM] - Driver [C:\\Users\\wpiel\\.wdm\\drivers\\chromedriver\\win32\\105.0.5195.52\\chromedriver.exe] found in cache\n"
     ]
    },
    {
     "name": "stdout",
     "output_type": "stream",
     "text": [
      "\n"
     ]
    },
    {
     "name": "stderr",
     "output_type": "stream",
     "text": [
      "[WDM] - ====== WebDriver manager ======\n",
      "[WDM] - Current google-chrome version is 105.0.5195\n",
      "[WDM] - Get LATEST chromedriver version for 105.0.5195 google-chrome\n",
      "[WDM] - Driver [C:\\Users\\wpiel\\.wdm\\drivers\\chromedriver\\win32\\105.0.5195.52\\chromedriver.exe] found in cache\n"
     ]
    },
    {
     "name": "stdout",
     "output_type": "stream",
     "text": [
      "\n"
     ]
    },
    {
     "name": "stderr",
     "output_type": "stream",
     "text": [
      "[WDM] - ====== WebDriver manager ======\n",
      "[WDM] - Current google-chrome version is 105.0.5195\n",
      "[WDM] - Get LATEST chromedriver version for 105.0.5195 google-chrome\n",
      "[WDM] - Driver [C:\\Users\\wpiel\\.wdm\\drivers\\chromedriver\\win32\\105.0.5195.52\\chromedriver.exe] found in cache\n"
     ]
    },
    {
     "name": "stdout",
     "output_type": "stream",
     "text": [
      "\n"
     ]
    },
    {
     "name": "stderr",
     "output_type": "stream",
     "text": [
      "[WDM] - ====== WebDriver manager ======\n",
      "[WDM] - Current google-chrome version is 105.0.5195\n",
      "[WDM] - Get LATEST chromedriver version for 105.0.5195 google-chrome\n",
      "[WDM] - Driver [C:\\Users\\wpiel\\.wdm\\drivers\\chromedriver\\win32\\105.0.5195.52\\chromedriver.exe] found in cache\n"
     ]
    },
    {
     "name": "stdout",
     "output_type": "stream",
     "text": [
      "\n"
     ]
    },
    {
     "name": "stderr",
     "output_type": "stream",
     "text": [
      "[WDM] - ====== WebDriver manager ======\n",
      "[WDM] - Current google-chrome version is 105.0.5195\n",
      "[WDM] - Get LATEST chromedriver version for 105.0.5195 google-chrome\n",
      "[WDM] - Driver [C:\\Users\\wpiel\\.wdm\\drivers\\chromedriver\\win32\\105.0.5195.52\\chromedriver.exe] found in cache\n"
     ]
    },
    {
     "name": "stdout",
     "output_type": "stream",
     "text": [
      "\n"
     ]
    },
    {
     "name": "stderr",
     "output_type": "stream",
     "text": [
      "[WDM] - ====== WebDriver manager ======\n",
      "[WDM] - Current google-chrome version is 105.0.5195\n",
      "[WDM] - Get LATEST chromedriver version for 105.0.5195 google-chrome\n",
      "[WDM] - Driver [C:\\Users\\wpiel\\.wdm\\drivers\\chromedriver\\win32\\105.0.5195.52\\chromedriver.exe] found in cache\n"
     ]
    },
    {
     "name": "stdout",
     "output_type": "stream",
     "text": [
      "\n"
     ]
    },
    {
     "name": "stderr",
     "output_type": "stream",
     "text": [
      "[WDM] - ====== WebDriver manager ======\n",
      "[WDM] - Current google-chrome version is 105.0.5195\n",
      "[WDM] - Get LATEST chromedriver version for 105.0.5195 google-chrome\n",
      "[WDM] - Driver [C:\\Users\\wpiel\\.wdm\\drivers\\chromedriver\\win32\\105.0.5195.52\\chromedriver.exe] found in cache\n"
     ]
    },
    {
     "name": "stdout",
     "output_type": "stream",
     "text": [
      "\n"
     ]
    },
    {
     "name": "stderr",
     "output_type": "stream",
     "text": [
      "[WDM] - ====== WebDriver manager ======\n",
      "[WDM] - Current google-chrome version is 105.0.5195\n",
      "[WDM] - Get LATEST chromedriver version for 105.0.5195 google-chrome\n",
      "[WDM] - Driver [C:\\Users\\wpiel\\.wdm\\drivers\\chromedriver\\win32\\105.0.5195.52\\chromedriver.exe] found in cache\n"
     ]
    },
    {
     "name": "stdout",
     "output_type": "stream",
     "text": [
      "\n"
     ]
    },
    {
     "name": "stderr",
     "output_type": "stream",
     "text": [
      "[WDM] - ====== WebDriver manager ======\n",
      "[WDM] - Current google-chrome version is 105.0.5195\n",
      "[WDM] - Get LATEST chromedriver version for 105.0.5195 google-chrome\n",
      "[WDM] - Driver [C:\\Users\\wpiel\\.wdm\\drivers\\chromedriver\\win32\\105.0.5195.52\\chromedriver.exe] found in cache\n"
     ]
    },
    {
     "name": "stdout",
     "output_type": "stream",
     "text": [
      "\n"
     ]
    },
    {
     "name": "stderr",
     "output_type": "stream",
     "text": [
      "[WDM] - ====== WebDriver manager ======\n",
      "[WDM] - Current google-chrome version is 105.0.5195\n",
      "[WDM] - Get LATEST chromedriver version for 105.0.5195 google-chrome\n",
      "[WDM] - Driver [C:\\Users\\wpiel\\.wdm\\drivers\\chromedriver\\win32\\105.0.5195.52\\chromedriver.exe] found in cache\n"
     ]
    },
    {
     "name": "stdout",
     "output_type": "stream",
     "text": [
      "\n"
     ]
    },
    {
     "name": "stderr",
     "output_type": "stream",
     "text": [
      "[WDM] - ====== WebDriver manager ======\n",
      "[WDM] - Current google-chrome version is 105.0.5195\n",
      "[WDM] - Get LATEST chromedriver version for 105.0.5195 google-chrome\n",
      "[WDM] - Driver [C:\\Users\\wpiel\\.wdm\\drivers\\chromedriver\\win32\\105.0.5195.52\\chromedriver.exe] found in cache\n"
     ]
    },
    {
     "name": "stdout",
     "output_type": "stream",
     "text": [
      "\n"
     ]
    },
    {
     "name": "stderr",
     "output_type": "stream",
     "text": [
      "[WDM] - ====== WebDriver manager ======\n",
      "[WDM] - Current google-chrome version is 105.0.5195\n",
      "[WDM] - Get LATEST chromedriver version for 105.0.5195 google-chrome\n",
      "[WDM] - Driver [C:\\Users\\wpiel\\.wdm\\drivers\\chromedriver\\win32\\105.0.5195.52\\chromedriver.exe] found in cache\n"
     ]
    },
    {
     "name": "stdout",
     "output_type": "stream",
     "text": [
      "\n"
     ]
    },
    {
     "name": "stderr",
     "output_type": "stream",
     "text": [
      "[WDM] - ====== WebDriver manager ======\n",
      "[WDM] - Current google-chrome version is 105.0.5195\n",
      "[WDM] - Get LATEST chromedriver version for 105.0.5195 google-chrome\n",
      "[WDM] - Driver [C:\\Users\\wpiel\\.wdm\\drivers\\chromedriver\\win32\\105.0.5195.52\\chromedriver.exe] found in cache\n"
     ]
    },
    {
     "name": "stdout",
     "output_type": "stream",
     "text": [
      "\n"
     ]
    },
    {
     "name": "stderr",
     "output_type": "stream",
     "text": [
      "[WDM] - ====== WebDriver manager ======\n",
      "[WDM] - Current google-chrome version is 105.0.5195\n",
      "[WDM] - Get LATEST chromedriver version for 105.0.5195 google-chrome\n",
      "[WDM] - Driver [C:\\Users\\wpiel\\.wdm\\drivers\\chromedriver\\win32\\105.0.5195.52\\chromedriver.exe] found in cache\n"
     ]
    },
    {
     "name": "stdout",
     "output_type": "stream",
     "text": [
      "\n"
     ]
    },
    {
     "name": "stderr",
     "output_type": "stream",
     "text": [
      "[WDM] - ====== WebDriver manager ======\n",
      "[WDM] - Current google-chrome version is 105.0.5195\n",
      "[WDM] - Get LATEST chromedriver version for 105.0.5195 google-chrome\n",
      "[WDM] - Driver [C:\\Users\\wpiel\\.wdm\\drivers\\chromedriver\\win32\\105.0.5195.52\\chromedriver.exe] found in cache\n"
     ]
    },
    {
     "name": "stdout",
     "output_type": "stream",
     "text": [
      "\n"
     ]
    },
    {
     "name": "stderr",
     "output_type": "stream",
     "text": [
      "[WDM] - ====== WebDriver manager ======\n",
      "[WDM] - Current google-chrome version is 105.0.5195\n",
      "[WDM] - Get LATEST chromedriver version for 105.0.5195 google-chrome\n",
      "[WDM] - Driver [C:\\Users\\wpiel\\.wdm\\drivers\\chromedriver\\win32\\105.0.5195.52\\chromedriver.exe] found in cache\n"
     ]
    },
    {
     "name": "stdout",
     "output_type": "stream",
     "text": [
      "\n"
     ]
    },
    {
     "name": "stderr",
     "output_type": "stream",
     "text": [
      "[WDM] - ====== WebDriver manager ======\n",
      "[WDM] - Current google-chrome version is 105.0.5195\n",
      "[WDM] - Get LATEST chromedriver version for 105.0.5195 google-chrome\n",
      "[WDM] - Driver [C:\\Users\\wpiel\\.wdm\\drivers\\chromedriver\\win32\\105.0.5195.52\\chromedriver.exe] found in cache\n"
     ]
    },
    {
     "name": "stdout",
     "output_type": "stream",
     "text": [
      "\n"
     ]
    },
    {
     "name": "stderr",
     "output_type": "stream",
     "text": [
      "[WDM] - ====== WebDriver manager ======\n",
      "[WDM] - Current google-chrome version is 105.0.5195\n",
      "[WDM] - Get LATEST chromedriver version for 105.0.5195 google-chrome\n",
      "[WDM] - Driver [C:\\Users\\wpiel\\.wdm\\drivers\\chromedriver\\win32\\105.0.5195.52\\chromedriver.exe] found in cache\n"
     ]
    },
    {
     "name": "stdout",
     "output_type": "stream",
     "text": [
      "\n"
     ]
    },
    {
     "name": "stderr",
     "output_type": "stream",
     "text": [
      "[WDM] - ====== WebDriver manager ======\n",
      "[WDM] - Current google-chrome version is 105.0.5195\n",
      "[WDM] - Get LATEST chromedriver version for 105.0.5195 google-chrome\n",
      "[WDM] - Driver [C:\\Users\\wpiel\\.wdm\\drivers\\chromedriver\\win32\\105.0.5195.52\\chromedriver.exe] found in cache\n"
     ]
    },
    {
     "name": "stdout",
     "output_type": "stream",
     "text": [
      "\n"
     ]
    },
    {
     "name": "stderr",
     "output_type": "stream",
     "text": [
      "[WDM] - ====== WebDriver manager ======\n",
      "[WDM] - Current google-chrome version is 105.0.5195\n",
      "[WDM] - Get LATEST chromedriver version for 105.0.5195 google-chrome\n",
      "[WDM] - Driver [C:\\Users\\wpiel\\.wdm\\drivers\\chromedriver\\win32\\105.0.5195.52\\chromedriver.exe] found in cache\n"
     ]
    },
    {
     "name": "stdout",
     "output_type": "stream",
     "text": [
      "\n"
     ]
    },
    {
     "name": "stderr",
     "output_type": "stream",
     "text": [
      "[WDM] - ====== WebDriver manager ======\n",
      "[WDM] - Current google-chrome version is 105.0.5195\n",
      "[WDM] - Get LATEST chromedriver version for 105.0.5195 google-chrome\n",
      "[WDM] - Driver [C:\\Users\\wpiel\\.wdm\\drivers\\chromedriver\\win32\\105.0.5195.52\\chromedriver.exe] found in cache\n"
     ]
    },
    {
     "name": "stdout",
     "output_type": "stream",
     "text": [
      "\n"
     ]
    },
    {
     "name": "stderr",
     "output_type": "stream",
     "text": [
      "[WDM] - ====== WebDriver manager ======\n",
      "[WDM] - Current google-chrome version is 105.0.5195\n",
      "[WDM] - Get LATEST chromedriver version for 105.0.5195 google-chrome\n",
      "[WDM] - Driver [C:\\Users\\wpiel\\.wdm\\drivers\\chromedriver\\win32\\105.0.5195.52\\chromedriver.exe] found in cache\n"
     ]
    },
    {
     "name": "stdout",
     "output_type": "stream",
     "text": [
      "\n"
     ]
    },
    {
     "name": "stderr",
     "output_type": "stream",
     "text": [
      "[WDM] - ====== WebDriver manager ======\n",
      "[WDM] - Current google-chrome version is 105.0.5195\n",
      "[WDM] - Get LATEST chromedriver version for 105.0.5195 google-chrome\n",
      "[WDM] - Driver [C:\\Users\\wpiel\\.wdm\\drivers\\chromedriver\\win32\\105.0.5195.52\\chromedriver.exe] found in cache\n"
     ]
    },
    {
     "name": "stdout",
     "output_type": "stream",
     "text": [
      "\n"
     ]
    },
    {
     "name": "stderr",
     "output_type": "stream",
     "text": [
      "[WDM] - ====== WebDriver manager ======\n",
      "[WDM] - Current google-chrome version is 105.0.5195\n",
      "[WDM] - Get LATEST chromedriver version for 105.0.5195 google-chrome\n",
      "[WDM] - Driver [C:\\Users\\wpiel\\.wdm\\drivers\\chromedriver\\win32\\105.0.5195.52\\chromedriver.exe] found in cache\n"
     ]
    },
    {
     "name": "stdout",
     "output_type": "stream",
     "text": [
      "\n"
     ]
    },
    {
     "name": "stderr",
     "output_type": "stream",
     "text": [
      "[WDM] - ====== WebDriver manager ======\n",
      "[WDM] - Current google-chrome version is 105.0.5195\n",
      "[WDM] - Get LATEST chromedriver version for 105.0.5195 google-chrome\n",
      "[WDM] - Driver [C:\\Users\\wpiel\\.wdm\\drivers\\chromedriver\\win32\\105.0.5195.52\\chromedriver.exe] found in cache\n"
     ]
    },
    {
     "name": "stdout",
     "output_type": "stream",
     "text": [
      "\n"
     ]
    },
    {
     "name": "stderr",
     "output_type": "stream",
     "text": [
      "[WDM] - ====== WebDriver manager ======\n",
      "[WDM] - Current google-chrome version is 105.0.5195\n",
      "[WDM] - Get LATEST chromedriver version for 105.0.5195 google-chrome\n",
      "[WDM] - Driver [C:\\Users\\wpiel\\.wdm\\drivers\\chromedriver\\win32\\105.0.5195.52\\chromedriver.exe] found in cache\n"
     ]
    },
    {
     "name": "stdout",
     "output_type": "stream",
     "text": [
      "\n"
     ]
    },
    {
     "name": "stderr",
     "output_type": "stream",
     "text": [
      "[WDM] - ====== WebDriver manager ======\n",
      "[WDM] - Current google-chrome version is 105.0.5195\n",
      "[WDM] - Get LATEST chromedriver version for 105.0.5195 google-chrome\n",
      "[WDM] - Driver [C:\\Users\\wpiel\\.wdm\\drivers\\chromedriver\\win32\\105.0.5195.52\\chromedriver.exe] found in cache\n"
     ]
    },
    {
     "name": "stdout",
     "output_type": "stream",
     "text": [
      "\n"
     ]
    },
    {
     "name": "stderr",
     "output_type": "stream",
     "text": [
      "[WDM] - ====== WebDriver manager ======\n",
      "[WDM] - Current google-chrome version is 105.0.5195\n",
      "[WDM] - Get LATEST chromedriver version for 105.0.5195 google-chrome\n",
      "[WDM] - Driver [C:\\Users\\wpiel\\.wdm\\drivers\\chromedriver\\win32\\105.0.5195.52\\chromedriver.exe] found in cache\n"
     ]
    },
    {
     "name": "stdout",
     "output_type": "stream",
     "text": [
      "\n"
     ]
    },
    {
     "name": "stderr",
     "output_type": "stream",
     "text": [
      "[WDM] - ====== WebDriver manager ======\n",
      "[WDM] - Current google-chrome version is 105.0.5195\n",
      "[WDM] - Get LATEST chromedriver version for 105.0.5195 google-chrome\n",
      "[WDM] - Driver [C:\\Users\\wpiel\\.wdm\\drivers\\chromedriver\\win32\\105.0.5195.52\\chromedriver.exe] found in cache\n"
     ]
    },
    {
     "name": "stdout",
     "output_type": "stream",
     "text": [
      "\n"
     ]
    },
    {
     "name": "stderr",
     "output_type": "stream",
     "text": [
      "[WDM] - ====== WebDriver manager ======\n",
      "[WDM] - Current google-chrome version is 105.0.5195\n",
      "[WDM] - Get LATEST chromedriver version for 105.0.5195 google-chrome\n",
      "[WDM] - Driver [C:\\Users\\wpiel\\.wdm\\drivers\\chromedriver\\win32\\105.0.5195.52\\chromedriver.exe] found in cache\n"
     ]
    },
    {
     "name": "stdout",
     "output_type": "stream",
     "text": [
      "\n"
     ]
    },
    {
     "name": "stderr",
     "output_type": "stream",
     "text": [
      "[WDM] - ====== WebDriver manager ======\n",
      "[WDM] - Current google-chrome version is 105.0.5195\n",
      "[WDM] - Get LATEST chromedriver version for 105.0.5195 google-chrome\n",
      "[WDM] - Driver [C:\\Users\\wpiel\\.wdm\\drivers\\chromedriver\\win32\\105.0.5195.52\\chromedriver.exe] found in cache\n"
     ]
    },
    {
     "name": "stdout",
     "output_type": "stream",
     "text": [
      "\n"
     ]
    },
    {
     "name": "stderr",
     "output_type": "stream",
     "text": [
      "[WDM] - ====== WebDriver manager ======\n",
      "[WDM] - Current google-chrome version is 105.0.5195\n",
      "[WDM] - Get LATEST chromedriver version for 105.0.5195 google-chrome\n",
      "[WDM] - Driver [C:\\Users\\wpiel\\.wdm\\drivers\\chromedriver\\win32\\105.0.5195.52\\chromedriver.exe] found in cache\n"
     ]
    },
    {
     "name": "stdout",
     "output_type": "stream",
     "text": [
      "\n"
     ]
    },
    {
     "name": "stderr",
     "output_type": "stream",
     "text": [
      "[WDM] - ====== WebDriver manager ======\n",
      "[WDM] - Current google-chrome version is 105.0.5195\n",
      "[WDM] - Get LATEST chromedriver version for 105.0.5195 google-chrome\n",
      "[WDM] - Driver [C:\\Users\\wpiel\\.wdm\\drivers\\chromedriver\\win32\\105.0.5195.52\\chromedriver.exe] found in cache\n"
     ]
    },
    {
     "name": "stdout",
     "output_type": "stream",
     "text": [
      "\n"
     ]
    },
    {
     "name": "stderr",
     "output_type": "stream",
     "text": [
      "[WDM] - ====== WebDriver manager ======\n",
      "[WDM] - Current google-chrome version is 105.0.5195\n",
      "[WDM] - Get LATEST chromedriver version for 105.0.5195 google-chrome\n",
      "[WDM] - Driver [C:\\Users\\wpiel\\.wdm\\drivers\\chromedriver\\win32\\105.0.5195.52\\chromedriver.exe] found in cache\n"
     ]
    },
    {
     "name": "stdout",
     "output_type": "stream",
     "text": [
      "\n"
     ]
    },
    {
     "name": "stderr",
     "output_type": "stream",
     "text": [
      "[WDM] - ====== WebDriver manager ======\n",
      "[WDM] - Current google-chrome version is 105.0.5195\n",
      "[WDM] - Get LATEST chromedriver version for 105.0.5195 google-chrome\n",
      "[WDM] - Driver [C:\\Users\\wpiel\\.wdm\\drivers\\chromedriver\\win32\\105.0.5195.52\\chromedriver.exe] found in cache\n"
     ]
    },
    {
     "name": "stdout",
     "output_type": "stream",
     "text": [
      "\n"
     ]
    },
    {
     "name": "stderr",
     "output_type": "stream",
     "text": [
      "[WDM] - ====== WebDriver manager ======\n",
      "[WDM] - Current google-chrome version is 105.0.5195\n",
      "[WDM] - Get LATEST chromedriver version for 105.0.5195 google-chrome\n",
      "[WDM] - Driver [C:\\Users\\wpiel\\.wdm\\drivers\\chromedriver\\win32\\105.0.5195.52\\chromedriver.exe] found in cache\n"
     ]
    },
    {
     "name": "stdout",
     "output_type": "stream",
     "text": [
      "\n"
     ]
    },
    {
     "name": "stderr",
     "output_type": "stream",
     "text": [
      "[WDM] - ====== WebDriver manager ======\n",
      "[WDM] - Current google-chrome version is 105.0.5195\n",
      "[WDM] - Get LATEST chromedriver version for 105.0.5195 google-chrome\n",
      "[WDM] - Driver [C:\\Users\\wpiel\\.wdm\\drivers\\chromedriver\\win32\\105.0.5195.52\\chromedriver.exe] found in cache\n"
     ]
    },
    {
     "name": "stdout",
     "output_type": "stream",
     "text": [
      "\n"
     ]
    },
    {
     "name": "stderr",
     "output_type": "stream",
     "text": [
      "[WDM] - ====== WebDriver manager ======\n",
      "[WDM] - Current google-chrome version is 105.0.5195\n",
      "[WDM] - Get LATEST chromedriver version for 105.0.5195 google-chrome\n",
      "[WDM] - Driver [C:\\Users\\wpiel\\.wdm\\drivers\\chromedriver\\win32\\105.0.5195.52\\chromedriver.exe] found in cache\n"
     ]
    },
    {
     "name": "stdout",
     "output_type": "stream",
     "text": [
      "\n"
     ]
    },
    {
     "name": "stderr",
     "output_type": "stream",
     "text": [
      "[WDM] - ====== WebDriver manager ======\n",
      "[WDM] - Current google-chrome version is 105.0.5195\n",
      "[WDM] - Get LATEST chromedriver version for 105.0.5195 google-chrome\n",
      "[WDM] - Driver [C:\\Users\\wpiel\\.wdm\\drivers\\chromedriver\\win32\\105.0.5195.52\\chromedriver.exe] found in cache\n"
     ]
    },
    {
     "name": "stdout",
     "output_type": "stream",
     "text": [
      "\n"
     ]
    },
    {
     "name": "stderr",
     "output_type": "stream",
     "text": [
      "[WDM] - ====== WebDriver manager ======\n",
      "[WDM] - Current google-chrome version is 105.0.5195\n",
      "[WDM] - Get LATEST chromedriver version for 105.0.5195 google-chrome\n",
      "[WDM] - Driver [C:\\Users\\wpiel\\.wdm\\drivers\\chromedriver\\win32\\105.0.5195.52\\chromedriver.exe] found in cache\n"
     ]
    },
    {
     "name": "stdout",
     "output_type": "stream",
     "text": [
      "\n"
     ]
    },
    {
     "name": "stderr",
     "output_type": "stream",
     "text": [
      "[WDM] - ====== WebDriver manager ======\n",
      "[WDM] - Current google-chrome version is 105.0.5195\n",
      "[WDM] - Get LATEST chromedriver version for 105.0.5195 google-chrome\n",
      "[WDM] - Driver [C:\\Users\\wpiel\\.wdm\\drivers\\chromedriver\\win32\\105.0.5195.52\\chromedriver.exe] found in cache\n"
     ]
    },
    {
     "name": "stdout",
     "output_type": "stream",
     "text": [
      "\n"
     ]
    },
    {
     "name": "stderr",
     "output_type": "stream",
     "text": [
      "[WDM] - ====== WebDriver manager ======\n",
      "[WDM] - Current google-chrome version is 105.0.5195\n",
      "[WDM] - Get LATEST chromedriver version for 105.0.5195 google-chrome\n",
      "[WDM] - Driver [C:\\Users\\wpiel\\.wdm\\drivers\\chromedriver\\win32\\105.0.5195.52\\chromedriver.exe] found in cache\n"
     ]
    },
    {
     "name": "stdout",
     "output_type": "stream",
     "text": [
      "\n"
     ]
    },
    {
     "name": "stderr",
     "output_type": "stream",
     "text": [
      "[WDM] - ====== WebDriver manager ======\n",
      "[WDM] - Current google-chrome version is 105.0.5195\n",
      "[WDM] - Get LATEST chromedriver version for 105.0.5195 google-chrome\n",
      "[WDM] - Driver [C:\\Users\\wpiel\\.wdm\\drivers\\chromedriver\\win32\\105.0.5195.52\\chromedriver.exe] found in cache\n"
     ]
    },
    {
     "name": "stdout",
     "output_type": "stream",
     "text": [
      "\n"
     ]
    },
    {
     "name": "stderr",
     "output_type": "stream",
     "text": [
      "[WDM] - ====== WebDriver manager ======\n",
      "[WDM] - Current google-chrome version is 105.0.5195\n",
      "[WDM] - Get LATEST chromedriver version for 105.0.5195 google-chrome\n",
      "[WDM] - Driver [C:\\Users\\wpiel\\.wdm\\drivers\\chromedriver\\win32\\105.0.5195.52\\chromedriver.exe] found in cache\n"
     ]
    },
    {
     "name": "stdout",
     "output_type": "stream",
     "text": [
      "\n"
     ]
    },
    {
     "name": "stderr",
     "output_type": "stream",
     "text": [
      "[WDM] - ====== WebDriver manager ======\n",
      "[WDM] - Current google-chrome version is 105.0.5195\n",
      "[WDM] - Get LATEST chromedriver version for 105.0.5195 google-chrome\n",
      "[WDM] - Driver [C:\\Users\\wpiel\\.wdm\\drivers\\chromedriver\\win32\\105.0.5195.52\\chromedriver.exe] found in cache\n"
     ]
    },
    {
     "name": "stdout",
     "output_type": "stream",
     "text": [
      "\n"
     ]
    },
    {
     "name": "stderr",
     "output_type": "stream",
     "text": [
      "[WDM] - ====== WebDriver manager ======\n",
      "[WDM] - Current google-chrome version is 105.0.5195\n",
      "[WDM] - Get LATEST chromedriver version for 105.0.5195 google-chrome\n",
      "[WDM] - Driver [C:\\Users\\wpiel\\.wdm\\drivers\\chromedriver\\win32\\105.0.5195.52\\chromedriver.exe] found in cache\n"
     ]
    },
    {
     "name": "stdout",
     "output_type": "stream",
     "text": [
      "\n"
     ]
    },
    {
     "name": "stderr",
     "output_type": "stream",
     "text": [
      "[WDM] - ====== WebDriver manager ======\n",
      "[WDM] - Current google-chrome version is 105.0.5195\n",
      "[WDM] - Get LATEST chromedriver version for 105.0.5195 google-chrome\n",
      "[WDM] - Driver [C:\\Users\\wpiel\\.wdm\\drivers\\chromedriver\\win32\\105.0.5195.52\\chromedriver.exe] found in cache\n"
     ]
    }
   ],
   "source": [
    "start = datetime.now()\n",
    "current_time = []\n",
    "all_hrefs = []\n",
    "all_trains = []\n",
    "\n",
    "def count_trains():\n",
    "    \n",
    "    global current_time, all_hrefs, all_trains\n",
    "\n",
    "    for idx in city_dict:\n",
    "    \n",
    "        driver = webdriver.Chrome(ChromeDriverManager().install())\n",
    "        driver.get(main_path+str(idx))\n",
    "    \n",
    "        current_href_list = []\n",
    "        elems = driver.find_elements_by_xpath(\"//a[@href]\")\n",
    "    \n",
    "        for elem in elems:\n",
    "            if elem.get_attribute(\"href\")[-9:].isnumeric():\n",
    "                current_href_list.append(elem.get_attribute(\"href\"))\n",
    "\n",
    "        driver.close()\n",
    "\n",
    "        all_hrefs.append(list(set(current_href_list)))\n",
    "        \n",
    "    all_hrefs = list(set([subitem for item in all_hrefs for subitem in item]))\n",
    "    current_time.append(datetime.now().strftime(\"%d.%m.%Y %H:%M:%S\"))\n",
    "    all_trains.append(all_hrefs)\n",
    "\n",
    "        \n",
    "schedule.every(10).minutes.do(count_trains)\n",
    "\n",
    "while True:\n",
    "    schedule.run_pending()\n",
    "    time.sleep(1)\n",
    "\n",
    "    diff = datetime.now() - start\n",
    "    if diff.seconds > 4000:\n",
    "        break"
   ]
  },
  {
   "cell_type": "code",
   "execution_count": 14,
   "metadata": {},
   "outputs": [],
   "source": [
    "ile = []\n",
    "\n",
    "for x in all_trains:\n",
    "    ile.append(len(x))"
   ]
  },
  {
   "cell_type": "code",
   "execution_count": 15,
   "metadata": {},
   "outputs": [
    {
     "data": {
      "text/plain": [
       "[261, 277, 283, 270, 269]"
      ]
     },
     "execution_count": 15,
     "metadata": {},
     "output_type": "execute_result"
    }
   ],
   "source": [
    "ile"
   ]
  },
  {
   "cell_type": "code",
   "execution_count": 16,
   "metadata": {},
   "outputs": [
    {
     "data": {
      "text/plain": [
       "['30.09.2022 12:37:24',\n",
       " '30.09.2022 12:49:24',\n",
       " '30.09.2022 13:01:18',\n",
       " '30.09.2022 13:13:16',\n",
       " '30.09.2022 13:25:08']"
      ]
     },
     "execution_count": 16,
     "metadata": {},
     "output_type": "execute_result"
    }
   ],
   "source": [
    "current_time"
   ]
  },
  {
   "cell_type": "code",
   "execution_count": 18,
   "metadata": {},
   "outputs": [
    {
     "data": {
      "image/png": "[encoded data removed]",
      "text/plain": [
       "<Figure size 1080x432 with 1 Axes>"
      ]
     },
     "metadata": {
      "needs_background": "light"
     },
     "output_type": "display_data"
    }
   ],
   "source": [
    "plt.rcParams[\"figure.figsize\"] = (15,6)\n",
    "plt.plot(current_time, ile)\n",
    "plt.show()"
   ]
  },
  {
   "cell_type": "code",
   "execution_count": null,
   "metadata": {},
   "outputs": [],
   "source": []
  },
  {
   "cell_type": "code",
   "execution_count": null,
   "metadata": {},
   "outputs": [],
   "source": []
  },
  {
   "cell_type": "code",
   "execution_count": 13,
   "metadata": {},
   "outputs": [],
   "source": [
    "# start = datetime.now()\n",
    "# random_num = []\n",
    "# current_time = []\n",
    "\n",
    "# def draw():\n",
    "#     global random_num, current_time\n",
    "#     random_num.append(np.random.normal(size=1)[0])\n",
    "#     current_time.append(datetime.now().strftime(\"%d.%m.%Y %H:%M:%S\"))\n",
    "\n",
    "# schedule.every(1).seconds.do(draw)\n",
    "\n",
    "# while True:\n",
    "#     schedule.run_pending()\n",
    "#     time.sleep(1)\n",
    "#     diff = datetime.now() - start\n",
    "#     if diff.seconds > 100:\n",
    "#         break\n"
   ]
  },
  {
   "cell_type": "code",
   "execution_count": 14,
   "metadata": {},
   "outputs": [],
   "source": [
    "# xx = pd.concat([\n",
    "#     pd.Series(current_time),\n",
    "#     pd.Series(random_num)\n",
    "# ],axis=1)\\\n",
    "#     .rename(columns = {0:\"time\",\n",
    "#     1:\"number\"})\n",
    "\n"
   ]
  },
  {
   "cell_type": "code",
   "execution_count": 15,
   "metadata": {},
   "outputs": [
    {
     "data": {
      "text/plain": [
       "[<matplotlib.lines.Line2D at 0x230e7b3eb30>]"
      ]
     },
     "execution_count": 15,
     "metadata": {},
     "output_type": "execute_result"
    },
    {
     "data": {
      "image/png": "[encoded data removed]",
      "text/plain": [
       "<Figure size 432x288 with 1 Axes>"
      ]
     },
     "metadata": {
      "needs_background": "light"
     },
     "output_type": "display_data"
    }
   ],
   "source": [
    "# plt.plot(xx[\"time\"],xx[\"number\"])"
   ]
  }
 ],
 "metadata": {
  "kernelspec": {
   "display_name": "Python 3.10.4 ('wpiela')",
   "language": "python",
   "name": "python3"
  },
  "language_info": {
   "codemirror_mode": {
    "name": "ipython",
    "version": 3
   },
   "file_extension": ".py",
   "mimetype": "text/x-python",
   "name": "python",
   "nbconvert_exporter": "python",
   "pygments_lexer": "ipython3",
   "version": "3.10.4"
  },
  "orig_nbformat": 4,
  "vscode": {
   "interpreter": {
    "hash": "c07e13cfea05e50958beea88885fad53b2f8582638009ce9818903bd04da38be"
   }
  }
 },
 "nbformat": 4,
 "nbformat_minor": 2
}
